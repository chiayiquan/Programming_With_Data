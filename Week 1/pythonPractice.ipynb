{
 "cells": [
  {
   "cell_type": "markdown",
   "metadata": {},
   "source": [
    "# Python fundamentals - getting to grips with the basics\n",
    "This exercise is aimed at refreshing/introducing some fundamental programming concepts in the Python language. We will build up our knowledge slowly and by week 6/7 we will be doing some quite complicated things!\n",
    "\n",
    "Feel free to adapt the tasks to make them feel more fun/relevant to your interests! This goes for any of the lab exercises.\n",
    "\n",
    "## Online documentation\n",
    "\n",
    "Our previous students have found lots of outside resources helpful/relevant when getting up to speed.\n",
    "\n",
    "+ Beginners may find it helpful to check out [Google's Python class](https://wiki.python.org/moin/BeginnersGuide)\n",
    "+ [Tutorials Point](http://www.tutorialspoint.com/python/) is also useful for those wanting to check/recap syntax and rules\n",
    "+ [Official Python documentation](https://docs.python.org/3/) is another useful reference that we will use throughout this course. Keep it handy as a lot of the exercises will rely on you cross-referencing this documentation."
   ]
  },
  {
   "cell_type": "markdown",
   "metadata": {},
   "source": [
    "## Task 1: Defining variables\n",
    "In Python, variables can be defined anywhere in the script, and the **type** of data they contain doesn't need to be declared explicitly - it is implicit according to the **syntax** of the language. For example,\n",
    "\n",
    "    my_string = \"Some characters\" # define a string (text)\n",
    "    my_int = 1234                 # define an integer\n",
    "    my_float = 3.14               # define a floating point number\n",
    "    my_bool = True                # define a boolean (true or false value)\n",
    "    \n",
    "In a new code cell, **define 4 variables** suitable for storing:\n",
    "1. the title of a book\n",
    "2. the price of the book\n",
    "3. the edition of the book\n",
    "4. whether it is in stock\n",
    "\n",
    "In the same cell, write a statement which will **output the contents of your variables** using the built-in `print()` **function**. For example,\n",
    "\n",
    "    print( my_string, my_int, my_float, my_bool )"
   ]
  },
  {
   "cell_type": "code",
   "execution_count": 1,
   "metadata": {},
   "outputs": [
    {
     "name": "stdout",
     "output_type": "stream",
     "text": [
      "Book title 31.0 1 True\n"
     ]
    }
   ],
   "source": [
    "title = \"Book title\"\n",
    "price = 31.00\n",
    "edition = 1\n",
    "in_stock = True\n",
    "print(title,price,edition,in_stock)"
   ]
  },
  {
   "cell_type": "markdown",
   "metadata": {},
   "source": [
    "## Task 2: Define a list\n",
    "In Python, one-dimensional arrays are referred to as **lists**. They are defined with square brackets and comma separated values like this:\n",
    "\n",
    "    my_list = [ \"hello\", 2, 2, 2.5, False ]\n",
    "    \n",
    "Notice how the list can contain a mixture of data types, and that the values do not have to be unique. It can also contain other lists:\n",
    "\n",
    "    my_next_list = [ my_list, 4, [2, 1], False ]\n",
    "    \n",
    "To access an **item** in a list, use the list list name followed by square brackets with the item index inside. List elements are indexed from 0. For example,\n",
    "\n",
    "    print( my_next_list[1] )\n",
    "    \n",
    "will output the integer 4.\n",
    "\n",
    "**Practice Activity: Define one or more lists** to store the details of 4 books. You can do this in a number of ways.\n",
    "Afterwards, write a statement to **output all the book titles**.\n",
    "\n",
    "We will cover lists and other data types again later, so do not worry about internalising this too much!"
   ]
  },
  {
   "cell_type": "code",
   "execution_count": 2,
   "metadata": {},
   "outputs": [],
   "source": [
    "first_book=[\"First Book Title\",32.00,2,True]\n",
    "second_book=[\"Second Book Title\",33.00,1,True]\n",
    "third_book=[\"Third Book Title\",34.00,4,True]\n",
    "fourth_book=[\"Fourth Book Title\",35.00,3,True]\n",
    "book_list = [first_book,second_book,third_book,fourth_book]"
   ]
  },
  {
   "cell_type": "code",
   "execution_count": 3,
   "metadata": {},
   "outputs": [
    {
     "name": "stdout",
     "output_type": "stream",
     "text": [
      "The list of book titles are First Book Title, Second Book Title, Third Book Title, Fourth Book Title.\n"
     ]
    }
   ],
   "source": [
    "# using format to display individual book title \n",
    "\n",
    "print(\"The list of book titles are {0}, {1}, {2}, {3}.\".format(book_list[0][0],book_list[1][0],book_list[2][0],book_list[3][0]))"
   ]
  },
  {
   "cell_type": "code",
   "execution_count": 4,
   "metadata": {},
   "outputs": [
    {
     "name": "stdout",
     "output_type": "stream",
     "text": [
      "The list of book titles are First Book Title, Second Book Title, Third Book Title, Fourth Book Title.\n"
     ]
    }
   ],
   "source": [
    "#using string.join with string interpolation to display the book titles\n",
    "\n",
    "book_titles=list(map(lambda book:book[0],book_list)) # using map to return a list of book titles only.\n",
    "print(f'The list of book titles are {\", \".join(book_titles)}.')"
   ]
  },
  {
   "cell_type": "markdown",
   "metadata": {},
   "source": [
    "## Task 3: Define a dictionary\n",
    "Lists can often be a bit difficult to work with, depending on the data you're trying to manipulate. An alternative is to store lists of **key, value pairs**. For this we have **dictionary containers** in Python. These are like associative arrays.\n",
    "A dictionary is defined like so,\n",
    "\n",
    "    my_dict = { \"key1\" : \"value1\", \"key2\" : \"value2\" , \"key3\" : \"value3\" }\n",
    "    \n",
    "The values in a dictionary needn't be unique, and they can contain arbitrary data types. The keys must be unique and of an immutable data type, such as integer or string.\n",
    "\n",
    "To access the values in a dictionary, you reference the dictionary name followed by the name of the key in square brackets. For example,\n",
    "\n",
    "    value_1 = my_dict[\"key1\"]\n",
    "    \n",
    "**Practice Activity: Define a dictionary** to hold the details of a single book in your book store. Afterwards, write a statement to **output the book title**."
   ]
  },
  {
   "cell_type": "code",
   "execution_count": 5,
   "metadata": {},
   "outputs": [],
   "source": [
    "# declaring dict of books\n",
    "\n",
    "first_book_dict={\"title\":\"First Book Title\",\"price\":34.00,\"edition\":1,\"in_stock\":True}\n",
    "second_book_dict={\"title\":\"Second Book Title\",\"price\":99.00,\"edition\":2,\"in_stock\":False}\n",
    "third_book_dict={\"title\":\"Third Book Title\",\"price\":24.00,\"edition\":3,\"in_stock\":True}\n",
    "fourth_book_dict={\"title\":\"Fourth Book Title\",\"price\":44.00,\"edition\":4,\"in_stock\":False}\n",
    "dict_book_list = [first_book_dict,second_book_dict,third_book_dict,fourth_book_dict]"
   ]
  },
  {
   "cell_type": "code",
   "execution_count": 6,
   "metadata": {},
   "outputs": [
    {
     "name": "stdout",
     "output_type": "stream",
     "text": [
      "The book title is First Book Title, the current edition is 1. The price of the book is 34.0 and is currently available.\n",
      "The book title is Second Book Title, the current edition is 2. The price of the book is 99.0 and is currently not available.\n"
     ]
    }
   ],
   "source": [
    "# display book info with string interpolation\n",
    "\n",
    "def display_book_info(book_info): # construct a function taking in the book info and printing out the book information\n",
    "    print(f'The book title is {book_info[\"title\"]}, the current edition is {book_info[\"edition\"]}. The price of the book is {book_info[\"price\"]} and is currently {\"available.\" if book_info[\"in_stock\"] else \"not available.\"}')\n",
    "\n",
    "# \"available.\" if book_info[\"in_stock\"] else \"not available.\" is a Ternary Operators\n",
    "# https://book.pythontips.com/en/latest/ternary_operators.html\n",
    "    \n",
    "display_book_info(first_book_dict) # call displayBookInfo function passing in first_book\n",
    "display_book_info(second_book_dict) # call displayBookInfo function passing in second_book"
   ]
  },
  {
   "cell_type": "markdown",
   "metadata": {},
   "source": [
    "## Task 4: Controlling program flow\n",
    "In programming, to make a selection between 2 or more possible outcomes, a **conditional statement** is commonly used. A conditional statement is a type of **control statement**, in that it allows the programmer to control the logical \\`flow' of the program. In Python, the `if` and `else` statements can force a selection between 2 outcomes, depending whether some condition is met. For example,\n",
    "\n",
    "    a, b = 7, 6\n",
    "    if a == b:\n",
    "        print( str(a) + \" is equal to \" + str(b) )\n",
    "    else:\n",
    "        print( str(a) + \" is not equal to \" + str(b) )\n",
    "        \n",
    "The important thing to note here is the use of **indentation**. In Python, indentation is very important and affects how a statement is interpreted by the compiler. Other things you might notice are the use of `+` operator to **concatenate** (join) strings; use of the `==` **comparison operator** to check if 2 values are equal; the ability to perform multiple assignment; and the use of the built-in `str()` function to convert an integer to a string.\n",
    "\n",
    "**Practice Activity: Write a conditional statement** which will either output \"Available\" or \"Unavailable\" based on whether or not the book you defined in Task 3 is in stock (i.e. it should check the value associated with an `in_stock` key)."
   ]
  },
  {
   "cell_type": "code",
   "execution_count": 7,
   "metadata": {},
   "outputs": [
    {
     "name": "stdout",
     "output_type": "stream",
     "text": [
      "Available\n",
      "Unavailable\n"
     ]
    }
   ],
   "source": [
    "# construct a function to get whether the book is in stock or not\n",
    "\n",
    "# can be written in either way\n",
    "\n",
    "def check_available(book):\n",
    "    if book[\"in_stock\"]:\n",
    "        print(\"Available\")\n",
    "    else:\n",
    "        print(\"Unavailable\")\n",
    "\n",
    "# def check_available(book):\n",
    "    # print(\"Available\") if book[\"in_stock\"] else print(\"Unavailable\")\n",
    "\n",
    "check_available(first_book_dict)\n",
    "check_available(second_book_dict)"
   ]
  },
  {
   "cell_type": "markdown",
   "metadata": {},
   "source": [
    "## Task 5: Write an iteration statement\n",
    "Iteration statements are used to loop through (repeat) a section of code **for** a specific number of cycles, or **while** some condition evaluates True. For example, a **while loop** could look like this:\n",
    "\n",
    "    secret_number = 10\n",
    "    guess = 1\n",
    "    \n",
    "    # Do something while guess is not equal to secret_number...\n",
    "    while guess != secret_number :\n",
    "        # Code to repeat while above condition is true\n",
    "        guess = int( input( \"Guess the secret number: \" ) )\n",
    "    \n",
    "    # This will happen only when condition is false        \n",
    "    print( \"You guessed correct!\" )                    \n",
    "\n",
    "And a **for loop** could look like this:\n",
    "    \n",
    "    # i is a `pseudo-variable' which exists while this statement executes\n",
    "    for i in range(0, 5):                              \n",
    "        print( i )                                \n",
    "        \n",
    "It is also very easy to iterate through elements in a list using a for loop:\n",
    "\n",
    "    # item is another pseudo-variable which takes the value of the current list element\n",
    "    for item in my_list:                               \n",
    "        print( item )\n",
    "\n",
    "**Practice Activity: Write an iteration statement** which will output the book titles from Task 2 on separate lines.     "
   ]
  },
  {
   "cell_type": "code",
   "execution_count": 8,
   "metadata": {},
   "outputs": [
    {
     "name": "stdout",
     "output_type": "stream",
     "text": [
      "The book title is First Book Title.\n",
      "The book title is Second Book Title.\n",
      "The book title is Third Book Title.\n",
      "The book title is Fourth Book Title.\n"
     ]
    }
   ],
   "source": [
    "# while loop\n",
    "\n",
    "book_list_length=len(book_list)\n",
    "index = 0\n",
    "while index < book_list_length:\n",
    "    print(\"The book title is \" + book_list[index][0] + \".\")\n",
    "    index+=1"
   ]
  },
  {
   "cell_type": "code",
   "execution_count": 9,
   "metadata": {},
   "outputs": [
    {
     "name": "stdout",
     "output_type": "stream",
     "text": [
      "The book title is First Book Title.\n",
      "The book title is Second Book Title.\n",
      "The book title is Third Book Title.\n",
      "The book title is Fourth Book Title.\n"
     ]
    }
   ],
   "source": [
    "# for loop with string interpolation\n",
    "\n",
    "for book in book_list:\n",
    "    print(f'The book title is {book[0]}.')"
   ]
  },
  {
   "cell_type": "markdown",
   "metadata": {},
   "source": [
    "## Task 6: Use built-in functions to manipulate lists\n",
    "Whether you knew it or not, you have already been making use of **functions** in this exercise. A function is a  reuseable block of code which performs a specific task (often a task which gets repeated many times in a program). Functions help to make code reuseable, as well as making it more readable and easier to maintain.\n",
    "In Python there are many built-in functions (i.e. `print()` is a built-in function), and more can be imported from external libraries (in Exercise 1 you imported the numpy and csv libraries). \n",
    "\n",
    "Functions are easily identified by their trailing **parentheses**. Often functions will accept one or more **inputs** and will **return** one or more **outputs**. Inputs are passed into functions as **arguments**, which are included in the parentheses. For example, `print()` expects an argument in the form of a string or variable, which it will then output to the console.\n",
    "\n",
    "There are lots of built-in functions you can use to manipulate lists (among other things). Technically some of these are actually methods (methods are functions of a particular class of object, but don't worry what that means yet). For example, you can call the built-in `len()` function to return the **length** of a list or other object:\n",
    "\n",
    "    print( len( my_list ) )\n",
    "    \n",
    "Or you can **append** an item to the end of a list with the `append()` list method:\n",
    "\n",
    "    my_list.append( \"A new list item\" )\n",
    "\n",
    "Notice in the latter example, we call the method on the list item rather than passing the list as an argument. This is because `append()` is a method of the list class.\n",
    "    \n",
    "Practice Activity: Use built-in functions to do the following:\n",
    "1. Output the **number of books** in your store\n",
    "2. **Add** a new book to the store\n",
    "3. **Remove** a specific book from the store (HINT: there is a `remove()` method of the list object!)\n"
   ]
  },
  {
   "cell_type": "code",
   "execution_count": 10,
   "metadata": {},
   "outputs": [
    {
     "name": "stdout",
     "output_type": "stream",
     "text": [
      "4\n",
      "[{'title': 'First Book Title', 'price': 34.0, 'edition': 1, 'in_stock': True}, {'title': 'Second Book Title', 'price': 99.0, 'edition': 2, 'in_stock': False}, {'title': 'Third Book Title', 'price': 24.0, 'edition': 3, 'in_stock': True}, {'title': 'Fourth Book Title', 'price': 44.0, 'edition': 4, 'in_stock': False}, {'title': 'Fifth Book Title', 'price': 35.0, 'edition': 1, 'in_stock': True}]\n",
      "[{'title': 'First Book Title', 'price': 34.0, 'edition': 1, 'in_stock': True}, {'title': 'Second Book Title', 'price': 99.0, 'edition': 2, 'in_stock': False}, {'title': 'Third Book Title', 'price': 24.0, 'edition': 3, 'in_stock': True}, {'title': 'Fourth Book Title', 'price': 44.0, 'edition': 4, 'in_stock': False}]\n"
     ]
    }
   ],
   "source": [
    "# deep clone the list to prevent mutation\n",
    "copy_of_book_list = dict_book_list.copy()\n",
    "\n",
    "# number of books\n",
    "print(len(copy_of_book_list))\n",
    "\n",
    "# Add new book to copy_of_book_list not mutating book_list\n",
    "copy_of_book_list.append({\"title\":\"Fifth Book Title\",\"price\":35.00,\"edition\":1,\"in_stock\":True})\n",
    "print(copy_of_book_list)\n",
    "print(dict_book_list)\n",
    "\n"
   ]
  },
  {
   "cell_type": "code",
   "execution_count": 11,
   "metadata": {},
   "outputs": [
    {
     "name": "stdout",
     "output_type": "stream",
     "text": [
      "[{'title': 'First Book Title', 'price': 34.0, 'edition': 1, 'in_stock': True}, {'title': 'Third Book Title', 'price': 24.0, 'edition': 3, 'in_stock': True}, {'title': 'Fifth Book Title', 'price': 35.0, 'edition': 1, 'in_stock': True}]\n",
      "[{'title': 'First Book Title', 'price': 34.0, 'edition': 1, 'in_stock': True}, {'title': 'Second Book Title', 'price': 99.0, 'edition': 2, 'in_stock': False}, {'title': 'Third Book Title', 'price': 24.0, 'edition': 3, 'in_stock': True}, {'title': 'Fourth Book Title', 'price': 44.0, 'edition': 4, 'in_stock': False}]\n"
     ]
    }
   ],
   "source": [
    "# Remove books that are not in stock from copy_of_book_list not mutating book_list\n",
    "for book_info in copy_of_book_list:\n",
    "    if(book_info[\"in_stock\"]==False):\n",
    "        copy_of_book_list.remove(book_info)       \n",
    "print(copy_of_book_list)\n",
    "print(dict_book_list)"
   ]
  },
  {
   "cell_type": "code",
   "execution_count": 12,
   "metadata": {
    "scrolled": true
   },
   "outputs": [
    {
     "name": "stdout",
     "output_type": "stream",
     "text": [
      "4\n",
      "[{'title': 'First Book Title', 'price': 34.0, 'edition': 1, 'in_stock': True}, {'title': 'Second Book Title', 'price': 99.0, 'edition': 2, 'in_stock': False}, {'title': 'Third Book Title', 'price': 24.0, 'edition': 3, 'in_stock': True}, {'title': 'Fourth Book Title', 'price': 44.0, 'edition': 4, 'in_stock': False}, {'title': 'Fifth Book Title', 'price': 35.0, 'edition': 1, 'in_stock': True}]\n"
     ]
    }
   ],
   "source": [
    "# number of books\n",
    "number_of_books = len(dict_book_list)\n",
    "print(number_of_books)\n",
    "\n",
    "# Add new book to book_list\n",
    "dict_book_list.append({\"title\":\"Fifth Book Title\",\"price\":35.00,\"edition\":1,\"in_stock\":True})\n",
    "print(dict_book_list)\n",
    "\n",
    "\n",
    "\n",
    "\n",
    "\n"
   ]
  },
  {
   "cell_type": "code",
   "execution_count": 13,
   "metadata": {},
   "outputs": [
    {
     "name": "stdout",
     "output_type": "stream",
     "text": [
      "[{'title': 'First Book Title', 'price': 34.0, 'edition': 1, 'in_stock': True}, {'title': 'Second Book Title', 'price': 99.0, 'edition': 2, 'in_stock': False}, {'title': 'Third Book Title', 'price': 24.0, 'edition': 3, 'in_stock': True}, {'title': 'Fifth Book Title', 'price': 35.0, 'edition': 1, 'in_stock': True}]\n"
     ]
    }
   ],
   "source": [
    "# Remove \"Fourth Book Title\" from the list using enumerate\n",
    "for count, book_info in enumerate(dict_book_list):\n",
    "    if book_info[\"title\"] == \"Fourth Book Title\":\n",
    "        del dict_book_list[count]\n",
    "print(dict_book_list)"
   ]
  },
  {
   "cell_type": "code",
   "execution_count": 14,
   "metadata": {},
   "outputs": [
    {
     "name": "stdout",
     "output_type": "stream",
     "text": [
      "[{'title': 'First Book Title', 'price': 34.0, 'edition': 1, 'in_stock': True}, {'title': 'Third Book Title', 'price': 24.0, 'edition': 3, 'in_stock': True}, {'title': 'Fifth Book Title', 'price': 35.0, 'edition': 1, 'in_stock': True}]\n"
     ]
    }
   ],
   "source": [
    "# Remove books that are not in stock\n",
    "for book_info in dict_book_list:\n",
    "    if(book_info[\"in_stock\"]==False):\n",
    "        dict_book_list.remove(book_info)       \n",
    "print(dict_book_list)"
   ]
  },
  {
   "cell_type": "code",
   "execution_count": 15,
   "metadata": {},
   "outputs": [
    {
     "name": "stdout",
     "output_type": "stream",
     "text": [
      "[{'title': 'Third Book Title', 'price': 24.0, 'edition': 3, 'in_stock': True}]\n"
     ]
    }
   ],
   "source": [
    "# Using filter to remove book that have the price above 30\n",
    "cheap_books=list(filter(lambda book_info:book_info[\"price\"]<30,dict_book_list))\n",
    "print(cheap_books)"
   ]
  },
  {
   "cell_type": "markdown",
   "metadata": {},
   "source": [
    "## Task 7: Define a function\n",
    "Defining your own functions in Python is highly recommended for maximising code reuse and for making your programs easy to debug and maintain. You define functions in Python like this:\n",
    "\n",
    "    def addNumbers( num1, num2 ):\n",
    "        sum = num1 + num2\n",
    "        return sum\n",
    "        \n",
    "Notice this function accepts 2 arguments (the inputs), and returns a single output. You would call this function elsewhere in the program like this:\n",
    "\n",
    "    result = addNumbers( 3, 5 )\n",
    "    \n",
    "Notice how the output is being assigned to a variable here.\n",
    "\n",
    "**Practice Activity: Define a function** which will accept a list of dictionary objects as input, and will return a list of values pertaining to a specific key in the dictionaries. \n",
    "\n",
    "**Practice Activity: Call the function** and assign the result to a new variable. Check it worked correctly using a `print()` statement. \n",
    "\n",
    "**Tip:** A call to the function might look something like,\n",
    "\n",
    "        titles = get_titles( [book1, book2, book3] )\n",
    "where it is assumed that `book1`, `book2`, and `book3` are dictionaries which each have title keys."
   ]
  },
  {
   "cell_type": "code",
   "execution_count": 16,
   "metadata": {},
   "outputs": [
    {
     "name": "stdout",
     "output_type": "stream",
     "text": [
      "['First Book Title', 'Second Book Title', 'Third Book Title', 'Fourth Book Title']\n",
      "[34.0, 99.0, 24.0, 44.0]\n",
      "[1, 2, 3, 4]\n",
      "[True, False, True, False]\n"
     ]
    }
   ],
   "source": [
    "# Get value of books with specify key \n",
    "\n",
    "new_book_list = [first_book_dict,second_book_dict,third_book_dict,fourth_book_dict]\n",
    "\n",
    "def get_titles(books):\n",
    "    title_list = []\n",
    "    for book in books:\n",
    "        title_list.append(book[\"title\"])\n",
    "    return title_list \n",
    "\n",
    "def get_price(books):\n",
    "    price_list = []\n",
    "    for book in books:\n",
    "        price_list.append(book[\"price\"])\n",
    "    return price_list \n",
    "\n",
    "def get_edition(books):\n",
    "    edition_list = []\n",
    "    for book in books:\n",
    "        edition_list.append(book[\"edition\"])\n",
    "    return edition_list \n",
    "\n",
    "def get_in_stock(books):\n",
    "    in_stock_list = []\n",
    "    for book in books:\n",
    "        in_stock_list.append(book[\"in_stock\"])\n",
    "    return in_stock_list \n",
    "\n",
    "title_list=get_titles(new_book_list)\n",
    "print(title_list)\n",
    "\n",
    "price_list=get_price(new_book_list)\n",
    "print(price_list)\n",
    "\n",
    "edition_list=get_edition(new_book_list)\n",
    "print(edition_list)\n",
    "\n",
    "in_stock_list=get_in_stock(new_book_list)\n",
    "print(in_stock_list)"
   ]
  },
  {
   "cell_type": "code",
   "execution_count": 17,
   "metadata": {},
   "outputs": [
    {
     "name": "stdout",
     "output_type": "stream",
     "text": [
      "['First Book Title', 'Second Book Title', 'Third Book Title', 'Fourth Book Title']\n",
      "[34.0, 99.0, 24.0, 44.0]\n",
      "[1, 2, 3, 4]\n",
      "[True, False, True, False]\n"
     ]
    }
   ],
   "source": [
    "# There are four function to get the list of value of each key, if there is another key implemented,\n",
    "# another function have to be added so on and so forth.\n",
    "# Refactoring the four function above to a common reusable function\n",
    "\n",
    "def get_value_with_key(book_list, key):\n",
    "        return list(map(lambda book_info: book_info[key],book_list))\n",
    "    \n",
    "title_list=get_value_with_key(new_book_list, \"title\")\n",
    "print(title_list)\n",
    "\n",
    "price_list=get_value_with_key(new_book_list, \"price\")\n",
    "print(price_list)\n",
    "\n",
    "edition_list=get_value_with_key(new_book_list, \"edition\")\n",
    "print(edition_list)\n",
    "\n",
    "in_stock_list=get_value_with_key(new_book_list, \"in_stock\")\n",
    "print(in_stock_list)\n",
    "\n",
    "# However, an issue about this function is that there are no validation of key that are valid in an object."
   ]
  },
  {
   "cell_type": "code",
   "execution_count": 18,
   "metadata": {},
   "outputs": [
    {
     "name": "stdout",
     "output_type": "stream",
     "text": [
      "['First Book Title', 'Second Book Title', 'Third Book Title', 'Fourth Book Title']\n",
      "Not a valid key\n"
     ]
    }
   ],
   "source": [
    "# by using if in will be able to check if the dict contain the key or not\n",
    "\n",
    "def get_value_with_key_validation(book_info,key):\n",
    "    if key in first_book_dict:\n",
    "        return book_info[key]\n",
    "    else:\n",
    "        return \"Not a valid key\" \n",
    "\n",
    "# Have to use lambda to get the info out first, then call the valueWithKey function to pass in both the book info and the key\n",
    "titles_list=list(map(lambda info:get_value_with_key_validation(info,\"title\"),new_book_list)) \n",
    "print(titles_list)\n",
    "\n",
    "print(get_value_with_key_validation(new_book_list,\"abc\"))"
   ]
  },
  {
   "cell_type": "code",
   "execution_count": null,
   "metadata": {},
   "outputs": [],
   "source": []
  }
 ],
 "metadata": {
  "kernelspec": {
   "display_name": "Python 3",
   "language": "python",
   "name": "python3"
  },
  "language_info": {
   "codemirror_mode": {
    "name": "ipython",
    "version": 3
   },
   "file_extension": ".py",
   "mimetype": "text/x-python",
   "name": "python",
   "nbconvert_exporter": "python",
   "pygments_lexer": "ipython3",
   "version": "3.8.5"
  }
 },
 "nbformat": 4,
 "nbformat_minor": 1
}
