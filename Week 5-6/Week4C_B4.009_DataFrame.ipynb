{
 "cells": [
  {
   "cell_type": "markdown",
   "metadata": {},
   "source": [
    "# Week 4: 4.009 Practicing with dataframes and applying our understanding"
   ]
  },
  {
   "cell_type": "code",
   "execution_count": null,
   "metadata": {},
   "outputs": [],
   "source": []
  },
  {
   "cell_type": "markdown",
   "metadata": {},
   "source": [
    "# Activity 1\n",
    "\n",
    "Find yourself a data file from an open data repository. Select an interesting table of data and convert it into a CSV if necessary. Then load it into a Python program and examine the data that comes in as a dataframe. "
   ]
  },
  {
   "cell_type": "code",
   "execution_count": 1,
   "metadata": {
    "scrolled": true
   },
   "outputs": [],
   "source": [
    "import pandas as pd\n",
    "import csv\n",
    "# replace the text in \"\" with an actual filename\n",
    "\n",
    "## data = pd.read_csv(\"theNameOfYourFile.csv\") \n",
    "\n",
    "# You could do this directly from a URL if you don't want to upload a file through Jupyter's upload tab e.g.\n",
    "\n",
    "# data = pd.read_csv('https://someData.url')\n",
    "\n",
    "# If you require authentication then this will fail and you will have to use\n",
    "\n",
    "import urllib"
   ]
  },
  {
   "cell_type": "code",
   "execution_count": null,
   "metadata": {},
   "outputs": [],
   "source": []
  },
  {
   "cell_type": "markdown",
   "metadata": {},
   "source": [
    "Write a program that works out which of the local authorities has the `most polluted` educational institution and \n",
    "which has the `least polluted` educational institution. \n",
    "\n",
    "Hint: https://pandas.pydata.org/pandas-docs/stable/reference/api/pandas.DataFrame.max.html\n",
    "\n",
    "You can use the `London Datastore's dataset`\n",
    "https://data.london.gov.uk/dataset/schools-and-educational-institutions-air-quality-exposure-data\n",
    "or a different dataset if you wish. \n",
    "\n",
    "If you want to try to apply more` advanced statistical functions` to the dataset then please do give it a go! You might for example want to explore the different data types\n",
    "\n",
    "https://pandas.pydata.org/pandas-docs/stable/reference/api/pandas.DataFrame.dtypes.html\n",
    "\n",
    "Are they correct or `is there an issue with the mapping?`\n",
    "\n",
    "Perhaps you want to `split your data into quantiles` to further refine meaning.\n",
    "\n",
    "https://pandas.pydata.org/pandas-docs/stable/reference/api/pandas.DataFrame.quantile.html\n",
    "\n",
    "Post your analysis on the discussion forum and respond to at least one of your peers."
   ]
  },
  {
   "cell_type": "code",
   "execution_count": 2,
   "metadata": {},
   "outputs": [],
   "source": [
    "pd.read_csv?"
   ]
  },
  {
   "cell_type": "code",
   "execution_count": 3,
   "metadata": {},
   "outputs": [],
   "source": [
    "df_csv=pd.read_csv(\"Schools.csv\")"
   ]
  },
  {
   "cell_type": "code",
   "execution_count": 4,
   "metadata": {
    "scrolled": true
   },
   "outputs": [
    {
     "data": {
      "text/html": [
       "<div>\n",
       "<style scoped>\n",
       "    .dataframe tbody tr th:only-of-type {\n",
       "        vertical-align: middle;\n",
       "    }\n",
       "\n",
       "    .dataframe tbody tr th {\n",
       "        vertical-align: top;\n",
       "    }\n",
       "\n",
       "    .dataframe thead th {\n",
       "        text-align: right;\n",
       "    }\n",
       "</style>\n",
       "<table border=\"1\" class=\"dataframe\">\n",
       "  <thead>\n",
       "    <tr style=\"text-align: right;\">\n",
       "      <th></th>\n",
       "      <th>URN</th>\n",
       "      <th>Local Authority name</th>\n",
       "      <th>Establisment name</th>\n",
       "      <th>Easting</th>\n",
       "      <th>Northing</th>\n",
       "      <th>Type of Establishment</th>\n",
       "      <th>Phase of education</th>\n",
       "      <th>NO2ug/m3 mean 2013</th>\n",
       "      <th>Above limit</th>\n",
       "      <th>Parliamentary Constituences</th>\n",
       "      <th>Establishment Status</th>\n",
       "      <th>Close Date</th>\n",
       "    </tr>\n",
       "  </thead>\n",
       "  <tbody>\n",
       "    <tr>\n",
       "      <th>0</th>\n",
       "      <td>134154</td>\n",
       "      <td>Tower Hamlets</td>\n",
       "      <td>Courtauld Institute of Art</td>\n",
       "      <td>530773</td>\n",
       "      <td>180770</td>\n",
       "      <td>Higher Education Institutions</td>\n",
       "      <td>Not applicable</td>\n",
       "      <td>73.1</td>\n",
       "      <td>Yes</td>\n",
       "      <td>Cities of London and Westminster</td>\n",
       "      <td>Open</td>\n",
       "      <td>NaN</td>\n",
       "    </tr>\n",
       "    <tr>\n",
       "      <th>1</th>\n",
       "      <td>133910</td>\n",
       "      <td>Westminster</td>\n",
       "      <td>London School of Economics and Political Science</td>\n",
       "      <td>530778</td>\n",
       "      <td>181130</td>\n",
       "      <td>Higher Education Institutions</td>\n",
       "      <td>Not applicable</td>\n",
       "      <td>68.2</td>\n",
       "      <td>Yes</td>\n",
       "      <td>Cities of London and Westminster</td>\n",
       "      <td>Open</td>\n",
       "      <td>NaN</td>\n",
       "    </tr>\n",
       "    <tr>\n",
       "      <th>2</th>\n",
       "      <td>100529</td>\n",
       "      <td>Lambeth</td>\n",
       "      <td>DLD College London</td>\n",
       "      <td>530860</td>\n",
       "      <td>179614</td>\n",
       "      <td>Other Independent School</td>\n",
       "      <td>Not applicable</td>\n",
       "      <td>67.8</td>\n",
       "      <td>Yes</td>\n",
       "      <td>Vauxhall</td>\n",
       "      <td>Open</td>\n",
       "      <td>NaN</td>\n",
       "    </tr>\n",
       "    <tr>\n",
       "      <th>3</th>\n",
       "      <td>133167</td>\n",
       "      <td>Southwark</td>\n",
       "      <td>London College of Printing &amp; Distributive Trades</td>\n",
       "      <td>531909</td>\n",
       "      <td>178989</td>\n",
       "      <td>Miscellaneous</td>\n",
       "      <td>Not applicable</td>\n",
       "      <td>67.3</td>\n",
       "      <td>Yes</td>\n",
       "      <td>Bermondsey and Old Southwark</td>\n",
       "      <td>Open</td>\n",
       "      <td>NaN</td>\n",
       "    </tr>\n",
       "    <tr>\n",
       "      <th>4</th>\n",
       "      <td>101136</td>\n",
       "      <td>Westminster</td>\n",
       "      <td>St Mary's Bryanston Square CofE School</td>\n",
       "      <td>527546</td>\n",
       "      <td>181766</td>\n",
       "      <td>Voluntary Aided School</td>\n",
       "      <td>Primary</td>\n",
       "      <td>67.0</td>\n",
       "      <td>Yes</td>\n",
       "      <td>Cities of London and Westminster</td>\n",
       "      <td>Open</td>\n",
       "      <td>NaN</td>\n",
       "    </tr>\n",
       "    <tr>\n",
       "      <th>...</th>\n",
       "      <td>...</td>\n",
       "      <td>...</td>\n",
       "      <td>...</td>\n",
       "      <td>...</td>\n",
       "      <td>...</td>\n",
       "      <td>...</td>\n",
       "      <td>...</td>\n",
       "      <td>...</td>\n",
       "      <td>...</td>\n",
       "      <td>...</td>\n",
       "      <td>...</td>\n",
       "      <td>...</td>\n",
       "    </tr>\n",
       "    <tr>\n",
       "      <th>3256</th>\n",
       "      <td>137414</td>\n",
       "      <td>Havering</td>\n",
       "      <td>Emerson Park Academy</td>\n",
       "      <td>555559</td>\n",
       "      <td>188013</td>\n",
       "      <td>Academy Converter</td>\n",
       "      <td>Secondary</td>\n",
       "      <td>22.9</td>\n",
       "      <td>No</td>\n",
       "      <td>Hornchurch and Upminster</td>\n",
       "      <td>Open</td>\n",
       "      <td>NaN</td>\n",
       "    </tr>\n",
       "    <tr>\n",
       "      <th>3257</th>\n",
       "      <td>142234</td>\n",
       "      <td>Bromley</td>\n",
       "      <td>Oaklands Primary Academy</td>\n",
       "      <td>541217</td>\n",
       "      <td>159337</td>\n",
       "      <td>Academy Converter</td>\n",
       "      <td>Primary</td>\n",
       "      <td>22.8</td>\n",
       "      <td>No</td>\n",
       "      <td>Orpington</td>\n",
       "      <td>Open</td>\n",
       "      <td>NaN</td>\n",
       "    </tr>\n",
       "    <tr>\n",
       "      <th>3258</th>\n",
       "      <td>131395</td>\n",
       "      <td>Bromley</td>\n",
       "      <td>Browns School</td>\n",
       "      <td>548873</td>\n",
       "      <td>164181</td>\n",
       "      <td>Other Independent Special School</td>\n",
       "      <td>Not applicable</td>\n",
       "      <td>22.8</td>\n",
       "      <td>No</td>\n",
       "      <td>Orpington</td>\n",
       "      <td>Open</td>\n",
       "      <td>NaN</td>\n",
       "    </tr>\n",
       "    <tr>\n",
       "      <th>3259</th>\n",
       "      <td>141549</td>\n",
       "      <td>Havering</td>\n",
       "      <td>Drapers' Maylands Primary School</td>\n",
       "      <td>555266</td>\n",
       "      <td>192587</td>\n",
       "      <td>Free Schools</td>\n",
       "      <td>Primary</td>\n",
       "      <td>22.5</td>\n",
       "      <td>No</td>\n",
       "      <td>Hornchurch and Upminster</td>\n",
       "      <td>Open</td>\n",
       "      <td>NaN</td>\n",
       "    </tr>\n",
       "    <tr>\n",
       "      <th>3260</th>\n",
       "      <td>142050</td>\n",
       "      <td>Havering</td>\n",
       "      <td>Dycorts School</td>\n",
       "      <td>555075</td>\n",
       "      <td>192641</td>\n",
       "      <td>Academy Special Sponsor Led</td>\n",
       "      <td>Not applicable</td>\n",
       "      <td>22.4</td>\n",
       "      <td>No</td>\n",
       "      <td>Hornchurch and Upminster</td>\n",
       "      <td>Open</td>\n",
       "      <td>NaN</td>\n",
       "    </tr>\n",
       "  </tbody>\n",
       "</table>\n",
       "<p>3261 rows × 12 columns</p>\n",
       "</div>"
      ],
      "text/plain": [
       "         URN Local Authority name  \\\n",
       "0     134154        Tower Hamlets   \n",
       "1     133910          Westminster   \n",
       "2     100529              Lambeth   \n",
       "3     133167            Southwark   \n",
       "4     101136          Westminster   \n",
       "...      ...                  ...   \n",
       "3256  137414             Havering   \n",
       "3257  142234              Bromley   \n",
       "3258  131395              Bromley   \n",
       "3259  141549             Havering   \n",
       "3260  142050             Havering   \n",
       "\n",
       "                                     Establisment name  Easting  Northing  \\\n",
       "0                           Courtauld Institute of Art   530773    180770   \n",
       "1     London School of Economics and Political Science   530778    181130   \n",
       "2                                   DLD College London   530860    179614   \n",
       "3     London College of Printing & Distributive Trades   531909    178989   \n",
       "4               St Mary's Bryanston Square CofE School   527546    181766   \n",
       "...                                                ...      ...       ...   \n",
       "3256                              Emerson Park Academy   555559    188013   \n",
       "3257                          Oaklands Primary Academy   541217    159337   \n",
       "3258                                     Browns School   548873    164181   \n",
       "3259                  Drapers' Maylands Primary School   555266    192587   \n",
       "3260                                    Dycorts School   555075    192641   \n",
       "\n",
       "                 Type of Establishment Phase of education  NO2ug/m3 mean 2013  \\\n",
       "0        Higher Education Institutions     Not applicable                73.1   \n",
       "1        Higher Education Institutions     Not applicable                68.2   \n",
       "2             Other Independent School     Not applicable                67.8   \n",
       "3                        Miscellaneous     Not applicable                67.3   \n",
       "4               Voluntary Aided School            Primary                67.0   \n",
       "...                                ...                ...                 ...   \n",
       "3256                 Academy Converter          Secondary                22.9   \n",
       "3257                 Academy Converter            Primary                22.8   \n",
       "3258  Other Independent Special School     Not applicable                22.8   \n",
       "3259                      Free Schools            Primary                22.5   \n",
       "3260       Academy Special Sponsor Led     Not applicable                22.4   \n",
       "\n",
       "     Above limit       Parliamentary Constituences Establishment Status  \\\n",
       "0            Yes  Cities of London and Westminster                 Open   \n",
       "1            Yes  Cities of London and Westminster                 Open   \n",
       "2            Yes                          Vauxhall                 Open   \n",
       "3            Yes      Bermondsey and Old Southwark                 Open   \n",
       "4            Yes  Cities of London and Westminster                 Open   \n",
       "...          ...                               ...                  ...   \n",
       "3256          No          Hornchurch and Upminster                 Open   \n",
       "3257          No                         Orpington                 Open   \n",
       "3258          No                         Orpington                 Open   \n",
       "3259          No          Hornchurch and Upminster                 Open   \n",
       "3260          No          Hornchurch and Upminster                 Open   \n",
       "\n",
       "     Close Date  \n",
       "0           NaN  \n",
       "1           NaN  \n",
       "2           NaN  \n",
       "3           NaN  \n",
       "4           NaN  \n",
       "...         ...  \n",
       "3256        NaN  \n",
       "3257        NaN  \n",
       "3258        NaN  \n",
       "3259        NaN  \n",
       "3260        NaN  \n",
       "\n",
       "[3261 rows x 12 columns]"
      ]
     },
     "execution_count": 4,
     "metadata": {},
     "output_type": "execute_result"
    }
   ],
   "source": [
    "df_csv"
   ]
  },
  {
   "cell_type": "markdown",
   "metadata": {},
   "source": [
    "## To `NO2ug/m3 mean 2013` for ALL SCHOOLS"
   ]
  },
  {
   "cell_type": "code",
   "execution_count": 5,
   "metadata": {},
   "outputs": [
    {
     "data": {
      "text/plain": [
       "Index(['URN', 'Local Authority name', 'Establisment name', 'Easting',\n",
       "       'Northing', 'Type of Establishment', 'Phase of education',\n",
       "       'NO2ug/m3 mean 2013', 'Above limit', 'Parliamentary Constituences',\n",
       "       'Establishment Status', 'Close Date'],\n",
       "      dtype='object')"
      ]
     },
     "execution_count": 5,
     "metadata": {},
     "output_type": "execute_result"
    }
   ],
   "source": [
    "df_csv.columns"
   ]
  },
  {
   "cell_type": "code",
   "execution_count": 6,
   "metadata": {},
   "outputs": [
    {
     "data": {
      "text/plain": [
       "0       73.1\n",
       "1       68.2\n",
       "2       67.8\n",
       "3       67.3\n",
       "4       67.0\n",
       "        ... \n",
       "3256    22.9\n",
       "3257    22.8\n",
       "3258    22.8\n",
       "3259    22.5\n",
       "3260    22.4\n",
       "Name: NO2ug/m3 mean 2013, Length: 3261, dtype: float64"
      ]
     },
     "execution_count": 6,
     "metadata": {},
     "output_type": "execute_result"
    }
   ],
   "source": [
    "df_csv['NO2ug/m3 mean 2013']"
   ]
  },
  {
   "cell_type": "markdown",
   "metadata": {},
   "source": [
    "### to get the mean of all schools"
   ]
  },
  {
   "cell_type": "code",
   "execution_count": 8,
   "metadata": {},
   "outputs": [
    {
     "data": {
      "text/plain": [
       "36.22726157620361"
      ]
     },
     "execution_count": 8,
     "metadata": {},
     "output_type": "execute_result"
    }
   ],
   "source": [
    "df_csv['NO2ug/m3 mean 2013'].mean()"
   ]
  },
  {
   "cell_type": "code",
   "execution_count": null,
   "metadata": {},
   "outputs": [],
   "source": []
  },
  {
   "cell_type": "markdown",
   "metadata": {},
   "source": [
    "# Activity (10 minutes)\n",
    "* Now try with Excel  (Schools.xlsx)\n",
    "* DO the same i.e., find the mean of NO2ug/m3 mean 2013"
   ]
  },
  {
   "cell_type": "code",
   "execution_count": 18,
   "metadata": {},
   "outputs": [],
   "source": [
    "pd.read_excel?"
   ]
  },
  {
   "cell_type": "markdown",
   "metadata": {},
   "source": [
    "### Read from Excel Schools.xlsx"
   ]
  },
  {
   "cell_type": "code",
   "execution_count": 6,
   "metadata": {},
   "outputs": [],
   "source": [
    "df_excel=pd.read_excel(\"Schools.xlsx\")"
   ]
  },
  {
   "cell_type": "markdown",
   "metadata": {},
   "source": [
    "### Check the dataframe df_excel"
   ]
  },
  {
   "cell_type": "code",
   "execution_count": 7,
   "metadata": {},
   "outputs": [
    {
     "data": {
      "text/html": [
       "<div>\n",
       "<style scoped>\n",
       "    .dataframe tbody tr th:only-of-type {\n",
       "        vertical-align: middle;\n",
       "    }\n",
       "\n",
       "    .dataframe tbody tr th {\n",
       "        vertical-align: top;\n",
       "    }\n",
       "\n",
       "    .dataframe thead th {\n",
       "        text-align: right;\n",
       "    }\n",
       "</style>\n",
       "<table border=\"1\" class=\"dataframe\">\n",
       "  <thead>\n",
       "    <tr style=\"text-align: right;\">\n",
       "      <th></th>\n",
       "      <th>URN</th>\n",
       "      <th>Local Authority name</th>\n",
       "      <th>Establisment name</th>\n",
       "      <th>Easting</th>\n",
       "      <th>Northing</th>\n",
       "      <th>Type of Establishment</th>\n",
       "      <th>Phase of education</th>\n",
       "      <th>NO2ug/m3 mean 2013</th>\n",
       "      <th>Above limit</th>\n",
       "      <th>Parliamentary Constituences</th>\n",
       "      <th>Establishment Status</th>\n",
       "      <th>Close Date</th>\n",
       "    </tr>\n",
       "  </thead>\n",
       "  <tbody>\n",
       "    <tr>\n",
       "      <th>0</th>\n",
       "      <td>134154</td>\n",
       "      <td>Tower Hamlets</td>\n",
       "      <td>Courtauld Institute of Art</td>\n",
       "      <td>530773</td>\n",
       "      <td>180770</td>\n",
       "      <td>Higher Education Institutions</td>\n",
       "      <td>Not applicable</td>\n",
       "      <td>73.1</td>\n",
       "      <td>Yes</td>\n",
       "      <td>Cities of London and Westminster</td>\n",
       "      <td>Open</td>\n",
       "      <td>NaT</td>\n",
       "    </tr>\n",
       "    <tr>\n",
       "      <th>1</th>\n",
       "      <td>133910</td>\n",
       "      <td>Westminster</td>\n",
       "      <td>London School of Economics and Political Science</td>\n",
       "      <td>530778</td>\n",
       "      <td>181130</td>\n",
       "      <td>Higher Education Institutions</td>\n",
       "      <td>Not applicable</td>\n",
       "      <td>68.2</td>\n",
       "      <td>Yes</td>\n",
       "      <td>Cities of London and Westminster</td>\n",
       "      <td>Open</td>\n",
       "      <td>NaT</td>\n",
       "    </tr>\n",
       "    <tr>\n",
       "      <th>2</th>\n",
       "      <td>100529</td>\n",
       "      <td>Lambeth</td>\n",
       "      <td>DLD College London</td>\n",
       "      <td>530860</td>\n",
       "      <td>179614</td>\n",
       "      <td>Other Independent School</td>\n",
       "      <td>Not applicable</td>\n",
       "      <td>67.8</td>\n",
       "      <td>Yes</td>\n",
       "      <td>Vauxhall</td>\n",
       "      <td>Open</td>\n",
       "      <td>NaT</td>\n",
       "    </tr>\n",
       "    <tr>\n",
       "      <th>3</th>\n",
       "      <td>133167</td>\n",
       "      <td>Southwark</td>\n",
       "      <td>London College of Printing &amp; Distributive Trades</td>\n",
       "      <td>531909</td>\n",
       "      <td>178989</td>\n",
       "      <td>Miscellaneous</td>\n",
       "      <td>Not applicable</td>\n",
       "      <td>67.3</td>\n",
       "      <td>Yes</td>\n",
       "      <td>Bermondsey and Old Southwark</td>\n",
       "      <td>Open</td>\n",
       "      <td>NaT</td>\n",
       "    </tr>\n",
       "    <tr>\n",
       "      <th>4</th>\n",
       "      <td>101136</td>\n",
       "      <td>Westminster</td>\n",
       "      <td>St Mary's Bryanston Square CofE School</td>\n",
       "      <td>527546</td>\n",
       "      <td>181766</td>\n",
       "      <td>Voluntary Aided School</td>\n",
       "      <td>Primary</td>\n",
       "      <td>67.0</td>\n",
       "      <td>Yes</td>\n",
       "      <td>Cities of London and Westminster</td>\n",
       "      <td>Open</td>\n",
       "      <td>NaT</td>\n",
       "    </tr>\n",
       "    <tr>\n",
       "      <th>...</th>\n",
       "      <td>...</td>\n",
       "      <td>...</td>\n",
       "      <td>...</td>\n",
       "      <td>...</td>\n",
       "      <td>...</td>\n",
       "      <td>...</td>\n",
       "      <td>...</td>\n",
       "      <td>...</td>\n",
       "      <td>...</td>\n",
       "      <td>...</td>\n",
       "      <td>...</td>\n",
       "      <td>...</td>\n",
       "    </tr>\n",
       "    <tr>\n",
       "      <th>3256</th>\n",
       "      <td>137414</td>\n",
       "      <td>Havering</td>\n",
       "      <td>Emerson Park Academy</td>\n",
       "      <td>555559</td>\n",
       "      <td>188013</td>\n",
       "      <td>Academy Converter</td>\n",
       "      <td>Secondary</td>\n",
       "      <td>22.9</td>\n",
       "      <td>No</td>\n",
       "      <td>Hornchurch and Upminster</td>\n",
       "      <td>Open</td>\n",
       "      <td>NaT</td>\n",
       "    </tr>\n",
       "    <tr>\n",
       "      <th>3257</th>\n",
       "      <td>142234</td>\n",
       "      <td>Bromley</td>\n",
       "      <td>Oaklands Primary Academy</td>\n",
       "      <td>541217</td>\n",
       "      <td>159337</td>\n",
       "      <td>Academy Converter</td>\n",
       "      <td>Primary</td>\n",
       "      <td>22.8</td>\n",
       "      <td>No</td>\n",
       "      <td>Orpington</td>\n",
       "      <td>Open</td>\n",
       "      <td>NaT</td>\n",
       "    </tr>\n",
       "    <tr>\n",
       "      <th>3258</th>\n",
       "      <td>131395</td>\n",
       "      <td>Bromley</td>\n",
       "      <td>Browns School</td>\n",
       "      <td>548873</td>\n",
       "      <td>164181</td>\n",
       "      <td>Other Independent Special School</td>\n",
       "      <td>Not applicable</td>\n",
       "      <td>22.8</td>\n",
       "      <td>No</td>\n",
       "      <td>Orpington</td>\n",
       "      <td>Open</td>\n",
       "      <td>NaT</td>\n",
       "    </tr>\n",
       "    <tr>\n",
       "      <th>3259</th>\n",
       "      <td>141549</td>\n",
       "      <td>Havering</td>\n",
       "      <td>Drapers' Maylands Primary School</td>\n",
       "      <td>555266</td>\n",
       "      <td>192587</td>\n",
       "      <td>Free Schools</td>\n",
       "      <td>Primary</td>\n",
       "      <td>22.5</td>\n",
       "      <td>No</td>\n",
       "      <td>Hornchurch and Upminster</td>\n",
       "      <td>Open</td>\n",
       "      <td>NaT</td>\n",
       "    </tr>\n",
       "    <tr>\n",
       "      <th>3260</th>\n",
       "      <td>142050</td>\n",
       "      <td>Havering</td>\n",
       "      <td>Dycorts School</td>\n",
       "      <td>555075</td>\n",
       "      <td>192641</td>\n",
       "      <td>Academy Special Sponsor Led</td>\n",
       "      <td>Not applicable</td>\n",
       "      <td>22.4</td>\n",
       "      <td>No</td>\n",
       "      <td>Hornchurch and Upminster</td>\n",
       "      <td>Open</td>\n",
       "      <td>NaT</td>\n",
       "    </tr>\n",
       "  </tbody>\n",
       "</table>\n",
       "<p>3261 rows × 12 columns</p>\n",
       "</div>"
      ],
      "text/plain": [
       "         URN Local Authority name  \\\n",
       "0     134154        Tower Hamlets   \n",
       "1     133910          Westminster   \n",
       "2     100529              Lambeth   \n",
       "3     133167            Southwark   \n",
       "4     101136          Westminster   \n",
       "...      ...                  ...   \n",
       "3256  137414             Havering   \n",
       "3257  142234              Bromley   \n",
       "3258  131395              Bromley   \n",
       "3259  141549             Havering   \n",
       "3260  142050             Havering   \n",
       "\n",
       "                                     Establisment name  Easting  Northing  \\\n",
       "0                           Courtauld Institute of Art   530773    180770   \n",
       "1     London School of Economics and Political Science   530778    181130   \n",
       "2                                   DLD College London   530860    179614   \n",
       "3     London College of Printing & Distributive Trades   531909    178989   \n",
       "4               St Mary's Bryanston Square CofE School   527546    181766   \n",
       "...                                                ...      ...       ...   \n",
       "3256                              Emerson Park Academy   555559    188013   \n",
       "3257                          Oaklands Primary Academy   541217    159337   \n",
       "3258                                     Browns School   548873    164181   \n",
       "3259                  Drapers' Maylands Primary School   555266    192587   \n",
       "3260                                    Dycorts School   555075    192641   \n",
       "\n",
       "                 Type of Establishment Phase of education  NO2ug/m3 mean 2013  \\\n",
       "0        Higher Education Institutions     Not applicable                73.1   \n",
       "1        Higher Education Institutions     Not applicable                68.2   \n",
       "2             Other Independent School     Not applicable                67.8   \n",
       "3                        Miscellaneous     Not applicable                67.3   \n",
       "4               Voluntary Aided School            Primary                67.0   \n",
       "...                                ...                ...                 ...   \n",
       "3256                 Academy Converter          Secondary                22.9   \n",
       "3257                 Academy Converter            Primary                22.8   \n",
       "3258  Other Independent Special School     Not applicable                22.8   \n",
       "3259                      Free Schools            Primary                22.5   \n",
       "3260       Academy Special Sponsor Led     Not applicable                22.4   \n",
       "\n",
       "     Above limit       Parliamentary Constituences Establishment Status  \\\n",
       "0            Yes  Cities of London and Westminster                 Open   \n",
       "1            Yes  Cities of London and Westminster                 Open   \n",
       "2            Yes                          Vauxhall                 Open   \n",
       "3            Yes      Bermondsey and Old Southwark                 Open   \n",
       "4            Yes  Cities of London and Westminster                 Open   \n",
       "...          ...                               ...                  ...   \n",
       "3256          No          Hornchurch and Upminster                 Open   \n",
       "3257          No                         Orpington                 Open   \n",
       "3258          No                         Orpington                 Open   \n",
       "3259          No          Hornchurch and Upminster                 Open   \n",
       "3260          No          Hornchurch and Upminster                 Open   \n",
       "\n",
       "     Close Date  \n",
       "0           NaT  \n",
       "1           NaT  \n",
       "2           NaT  \n",
       "3           NaT  \n",
       "4           NaT  \n",
       "...         ...  \n",
       "3256        NaT  \n",
       "3257        NaT  \n",
       "3258        NaT  \n",
       "3259        NaT  \n",
       "3260        NaT  \n",
       "\n",
       "[3261 rows x 12 columns]"
      ]
     },
     "execution_count": 7,
     "metadata": {},
     "output_type": "execute_result"
    }
   ],
   "source": [
    "df_excel"
   ]
  },
  {
   "cell_type": "markdown",
   "metadata": {},
   "source": [
    "### Get the NO2ug/m3 mean 2013 of Excel DataFrame"
   ]
  },
  {
   "cell_type": "code",
   "execution_count": 8,
   "metadata": {},
   "outputs": [
    {
     "data": {
      "text/plain": [
       "0       73.1\n",
       "1       68.2\n",
       "2       67.8\n",
       "3       67.3\n",
       "4       67.0\n",
       "        ... \n",
       "3256    22.9\n",
       "3257    22.8\n",
       "3258    22.8\n",
       "3259    22.5\n",
       "3260    22.4\n",
       "Name: NO2ug/m3 mean 2013, Length: 3261, dtype: float64"
      ]
     },
     "execution_count": 8,
     "metadata": {},
     "output_type": "execute_result"
    }
   ],
   "source": [
    "df_excel['NO2ug/m3 mean 2013']"
   ]
  },
  {
   "cell_type": "markdown",
   "metadata": {},
   "source": [
    "### Get the mean"
   ]
  },
  {
   "cell_type": "code",
   "execution_count": 9,
   "metadata": {},
   "outputs": [
    {
     "data": {
      "text/plain": [
       "36.22726157620361"
      ]
     },
     "execution_count": 9,
     "metadata": {},
     "output_type": "execute_result"
    }
   ],
   "source": [
    "df_excel['NO2ug/m3 mean 2013'].mean()"
   ]
  },
  {
   "cell_type": "code",
   "execution_count": null,
   "metadata": {},
   "outputs": [],
   "source": []
  },
  {
   "cell_type": "code",
   "execution_count": null,
   "metadata": {},
   "outputs": [],
   "source": []
  },
  {
   "cell_type": "markdown",
   "metadata": {},
   "source": [
    "# Activity\n",
    "### Now get the original data `'Schools_ParliamentaryConstituencies'`\n",
    "What's wrong with it?"
   ]
  },
  {
   "cell_type": "code",
   "execution_count": 36,
   "metadata": {},
   "outputs": [],
   "source": [
    "df_original=pd.read_excel('Schools_ParliamentaryConstituencies.xlsx',sheet_name=1,skiprows=3)"
   ]
  },
  {
   "cell_type": "code",
   "execution_count": 37,
   "metadata": {},
   "outputs": [
    {
     "data": {
      "text/html": [
       "<div>\n",
       "<style scoped>\n",
       "    .dataframe tbody tr th:only-of-type {\n",
       "        vertical-align: middle;\n",
       "    }\n",
       "\n",
       "    .dataframe tbody tr th {\n",
       "        vertical-align: top;\n",
       "    }\n",
       "\n",
       "    .dataframe thead th {\n",
       "        text-align: right;\n",
       "    }\n",
       "</style>\n",
       "<table border=\"1\" class=\"dataframe\">\n",
       "  <thead>\n",
       "    <tr style=\"text-align: right;\">\n",
       "      <th></th>\n",
       "      <th>Unnamed: 0</th>\n",
       "      <th>URN</th>\n",
       "      <th>Local Authority name</th>\n",
       "      <th>Establisment name</th>\n",
       "      <th>Easting</th>\n",
       "      <th>Northing</th>\n",
       "      <th>Type of Establishment</th>\n",
       "      <th>Phase of education</th>\n",
       "      <th>NO2ug/m3 mean 2013</th>\n",
       "      <th>Above limit</th>\n",
       "      <th>Parliamentary Constituences</th>\n",
       "      <th>Establishment Status</th>\n",
       "      <th>Close Date</th>\n",
       "    </tr>\n",
       "  </thead>\n",
       "  <tbody>\n",
       "    <tr>\n",
       "      <th>0</th>\n",
       "      <td>NaN</td>\n",
       "      <td>134154</td>\n",
       "      <td>Tower Hamlets</td>\n",
       "      <td>Courtauld Institute of Art</td>\n",
       "      <td>530773</td>\n",
       "      <td>180770</td>\n",
       "      <td>Higher Education Institutions</td>\n",
       "      <td>Not applicable</td>\n",
       "      <td>73.1</td>\n",
       "      <td>Yes</td>\n",
       "      <td>Cities of London and Westminster</td>\n",
       "      <td>Open</td>\n",
       "      <td>NaT</td>\n",
       "    </tr>\n",
       "    <tr>\n",
       "      <th>1</th>\n",
       "      <td>NaN</td>\n",
       "      <td>133910</td>\n",
       "      <td>Westminster</td>\n",
       "      <td>London School of Economics and Political Science</td>\n",
       "      <td>530778</td>\n",
       "      <td>181130</td>\n",
       "      <td>Higher Education Institutions</td>\n",
       "      <td>Not applicable</td>\n",
       "      <td>68.2</td>\n",
       "      <td>Yes</td>\n",
       "      <td>Cities of London and Westminster</td>\n",
       "      <td>Open</td>\n",
       "      <td>NaT</td>\n",
       "    </tr>\n",
       "    <tr>\n",
       "      <th>2</th>\n",
       "      <td>NaN</td>\n",
       "      <td>100529</td>\n",
       "      <td>Lambeth</td>\n",
       "      <td>DLD College London</td>\n",
       "      <td>530860</td>\n",
       "      <td>179614</td>\n",
       "      <td>Other Independent School</td>\n",
       "      <td>Not applicable</td>\n",
       "      <td>67.8</td>\n",
       "      <td>Yes</td>\n",
       "      <td>Vauxhall</td>\n",
       "      <td>Open</td>\n",
       "      <td>NaT</td>\n",
       "    </tr>\n",
       "    <tr>\n",
       "      <th>3</th>\n",
       "      <td>NaN</td>\n",
       "      <td>133167</td>\n",
       "      <td>Southwark</td>\n",
       "      <td>London College of Printing &amp; Distributive Trades</td>\n",
       "      <td>531909</td>\n",
       "      <td>178989</td>\n",
       "      <td>Miscellaneous</td>\n",
       "      <td>Not applicable</td>\n",
       "      <td>67.3</td>\n",
       "      <td>Yes</td>\n",
       "      <td>Bermondsey and Old Southwark</td>\n",
       "      <td>Open</td>\n",
       "      <td>NaT</td>\n",
       "    </tr>\n",
       "    <tr>\n",
       "      <th>4</th>\n",
       "      <td>NaN</td>\n",
       "      <td>101136</td>\n",
       "      <td>Westminster</td>\n",
       "      <td>St Mary's Bryanston Square CofE School</td>\n",
       "      <td>527546</td>\n",
       "      <td>181766</td>\n",
       "      <td>Voluntary Aided School</td>\n",
       "      <td>Primary</td>\n",
       "      <td>67.0</td>\n",
       "      <td>Yes</td>\n",
       "      <td>Cities of London and Westminster</td>\n",
       "      <td>Open</td>\n",
       "      <td>NaT</td>\n",
       "    </tr>\n",
       "    <tr>\n",
       "      <th>...</th>\n",
       "      <td>...</td>\n",
       "      <td>...</td>\n",
       "      <td>...</td>\n",
       "      <td>...</td>\n",
       "      <td>...</td>\n",
       "      <td>...</td>\n",
       "      <td>...</td>\n",
       "      <td>...</td>\n",
       "      <td>...</td>\n",
       "      <td>...</td>\n",
       "      <td>...</td>\n",
       "      <td>...</td>\n",
       "      <td>...</td>\n",
       "    </tr>\n",
       "    <tr>\n",
       "      <th>3256</th>\n",
       "      <td>NaN</td>\n",
       "      <td>137414</td>\n",
       "      <td>Havering</td>\n",
       "      <td>Emerson Park Academy</td>\n",
       "      <td>555559</td>\n",
       "      <td>188013</td>\n",
       "      <td>Academy Converter</td>\n",
       "      <td>Secondary</td>\n",
       "      <td>22.9</td>\n",
       "      <td>No</td>\n",
       "      <td>Hornchurch and Upminster</td>\n",
       "      <td>Open</td>\n",
       "      <td>NaT</td>\n",
       "    </tr>\n",
       "    <tr>\n",
       "      <th>3257</th>\n",
       "      <td>NaN</td>\n",
       "      <td>142234</td>\n",
       "      <td>Bromley</td>\n",
       "      <td>Oaklands Primary Academy</td>\n",
       "      <td>541217</td>\n",
       "      <td>159337</td>\n",
       "      <td>Academy Converter</td>\n",
       "      <td>Primary</td>\n",
       "      <td>22.8</td>\n",
       "      <td>No</td>\n",
       "      <td>Orpington</td>\n",
       "      <td>Open</td>\n",
       "      <td>NaT</td>\n",
       "    </tr>\n",
       "    <tr>\n",
       "      <th>3258</th>\n",
       "      <td>NaN</td>\n",
       "      <td>131395</td>\n",
       "      <td>Bromley</td>\n",
       "      <td>Browns School</td>\n",
       "      <td>548873</td>\n",
       "      <td>164181</td>\n",
       "      <td>Other Independent Special School</td>\n",
       "      <td>Not applicable</td>\n",
       "      <td>22.8</td>\n",
       "      <td>No</td>\n",
       "      <td>Orpington</td>\n",
       "      <td>Open</td>\n",
       "      <td>NaT</td>\n",
       "    </tr>\n",
       "    <tr>\n",
       "      <th>3259</th>\n",
       "      <td>NaN</td>\n",
       "      <td>141549</td>\n",
       "      <td>Havering</td>\n",
       "      <td>Drapers' Maylands Primary School</td>\n",
       "      <td>555266</td>\n",
       "      <td>192587</td>\n",
       "      <td>Free Schools</td>\n",
       "      <td>Primary</td>\n",
       "      <td>22.5</td>\n",
       "      <td>No</td>\n",
       "      <td>Hornchurch and Upminster</td>\n",
       "      <td>Open</td>\n",
       "      <td>NaT</td>\n",
       "    </tr>\n",
       "    <tr>\n",
       "      <th>3260</th>\n",
       "      <td>NaN</td>\n",
       "      <td>142050</td>\n",
       "      <td>Havering</td>\n",
       "      <td>Dycorts School</td>\n",
       "      <td>555075</td>\n",
       "      <td>192641</td>\n",
       "      <td>Academy Special Sponsor Led</td>\n",
       "      <td>Not applicable</td>\n",
       "      <td>22.4</td>\n",
       "      <td>No</td>\n",
       "      <td>Hornchurch and Upminster</td>\n",
       "      <td>Open</td>\n",
       "      <td>NaT</td>\n",
       "    </tr>\n",
       "  </tbody>\n",
       "</table>\n",
       "<p>3261 rows × 13 columns</p>\n",
       "</div>"
      ],
      "text/plain": [
       "      Unnamed: 0     URN Local Authority name  \\\n",
       "0            NaN  134154        Tower Hamlets   \n",
       "1            NaN  133910          Westminster   \n",
       "2            NaN  100529              Lambeth   \n",
       "3            NaN  133167            Southwark   \n",
       "4            NaN  101136          Westminster   \n",
       "...          ...     ...                  ...   \n",
       "3256         NaN  137414             Havering   \n",
       "3257         NaN  142234              Bromley   \n",
       "3258         NaN  131395              Bromley   \n",
       "3259         NaN  141549             Havering   \n",
       "3260         NaN  142050             Havering   \n",
       "\n",
       "                                     Establisment name  Easting  Northing  \\\n",
       "0                           Courtauld Institute of Art   530773    180770   \n",
       "1     London School of Economics and Political Science   530778    181130   \n",
       "2                                   DLD College London   530860    179614   \n",
       "3     London College of Printing & Distributive Trades   531909    178989   \n",
       "4               St Mary's Bryanston Square CofE School   527546    181766   \n",
       "...                                                ...      ...       ...   \n",
       "3256                              Emerson Park Academy   555559    188013   \n",
       "3257                          Oaklands Primary Academy   541217    159337   \n",
       "3258                                     Browns School   548873    164181   \n",
       "3259                  Drapers' Maylands Primary School   555266    192587   \n",
       "3260                                    Dycorts School   555075    192641   \n",
       "\n",
       "                 Type of Establishment Phase of education  NO2ug/m3 mean 2013  \\\n",
       "0        Higher Education Institutions     Not applicable                73.1   \n",
       "1        Higher Education Institutions     Not applicable                68.2   \n",
       "2             Other Independent School     Not applicable                67.8   \n",
       "3                        Miscellaneous     Not applicable                67.3   \n",
       "4               Voluntary Aided School            Primary                67.0   \n",
       "...                                ...                ...                 ...   \n",
       "3256                 Academy Converter          Secondary                22.9   \n",
       "3257                 Academy Converter            Primary                22.8   \n",
       "3258  Other Independent Special School     Not applicable                22.8   \n",
       "3259                      Free Schools            Primary                22.5   \n",
       "3260       Academy Special Sponsor Led     Not applicable                22.4   \n",
       "\n",
       "     Above limit       Parliamentary Constituences Establishment Status  \\\n",
       "0            Yes  Cities of London and Westminster                 Open   \n",
       "1            Yes  Cities of London and Westminster                 Open   \n",
       "2            Yes                          Vauxhall                 Open   \n",
       "3            Yes      Bermondsey and Old Southwark                 Open   \n",
       "4            Yes  Cities of London and Westminster                 Open   \n",
       "...          ...                               ...                  ...   \n",
       "3256          No          Hornchurch and Upminster                 Open   \n",
       "3257          No                         Orpington                 Open   \n",
       "3258          No                         Orpington                 Open   \n",
       "3259          No          Hornchurch and Upminster                 Open   \n",
       "3260          No          Hornchurch and Upminster                 Open   \n",
       "\n",
       "     Close Date  \n",
       "0           NaT  \n",
       "1           NaT  \n",
       "2           NaT  \n",
       "3           NaT  \n",
       "4           NaT  \n",
       "...         ...  \n",
       "3256        NaT  \n",
       "3257        NaT  \n",
       "3258        NaT  \n",
       "3259        NaT  \n",
       "3260        NaT  \n",
       "\n",
       "[3261 rows x 13 columns]"
      ]
     },
     "execution_count": 37,
     "metadata": {},
     "output_type": "execute_result"
    }
   ],
   "source": [
    "df_original"
   ]
  },
  {
   "cell_type": "code",
   "execution_count": null,
   "metadata": {},
   "outputs": [],
   "source": []
  },
  {
   "cell_type": "markdown",
   "metadata": {},
   "source": [
    "### Now get the data directly from Website"
   ]
  },
  {
   "cell_type": "markdown",
   "metadata": {},
   "source": [
    "https://data.london.gov.uk/download/schools-and-educational-institutions-air-quality-exposure-data/9d5a5099-2030-4b94-b9cf-1eb3bf7d203e/Schools_ParliamentaryConstituencies.xlsx"
   ]
  },
  {
   "cell_type": "code",
   "execution_count": 27,
   "metadata": {},
   "outputs": [],
   "source": [
    "df=pd.read_excel\\\n",
    "('https://data.london.gov.uk/download/schools-and-educational-institutions-air-quality-exposure-data/9d5a5099-2030-4b94-b9cf-1eb3bf7d203e/Schools_ParliamentaryConstituencies.xlsx'\\\n",
    " , sheet_name=1, skiprows=3)"
   ]
  },
  {
   "cell_type": "code",
   "execution_count": 28,
   "metadata": {
    "scrolled": true
   },
   "outputs": [
    {
     "data": {
      "text/plain": [
       "Unnamed: 0                            float64\n",
       "URN                                     int64\n",
       "Local Authority name                   object\n",
       "Establisment name                      object\n",
       "Easting                                 int64\n",
       "Northing                                int64\n",
       "Type of Establishment                  object\n",
       "Phase of education                     object\n",
       "NO2ug/m3 mean 2013                    float64\n",
       "Above limit                            object\n",
       "Parliamentary Constituences            object\n",
       "Establishment Status                   object\n",
       "Close Date                     datetime64[ns]\n",
       "dtype: object"
      ]
     },
     "execution_count": 28,
     "metadata": {},
     "output_type": "execute_result"
    }
   ],
   "source": [
    "df.dtypes"
   ]
  },
  {
   "cell_type": "code",
   "execution_count": 29,
   "metadata": {},
   "outputs": [
    {
     "data": {
      "text/plain": [
       "73.1"
      ]
     },
     "execution_count": 29,
     "metadata": {},
     "output_type": "execute_result"
    }
   ],
   "source": [
    "df['NO2ug/m3 mean 2013'].max()"
   ]
  },
  {
   "cell_type": "code",
   "execution_count": 30,
   "metadata": {},
   "outputs": [
    {
     "data": {
      "text/plain": [
       "36.22726157620361"
      ]
     },
     "execution_count": 30,
     "metadata": {},
     "output_type": "execute_result"
    }
   ],
   "source": [
    "df['NO2ug/m3 mean 2013'].mean()"
   ]
  },
  {
   "cell_type": "code",
   "execution_count": 31,
   "metadata": {},
   "outputs": [
    {
     "data": {
      "text/plain": [
       "Unnamed: 0                 NaN\n",
       "URN                   102449.0\n",
       "Easting               530860.0\n",
       "Northing              181188.0\n",
       "NO2ug/m3 mean 2013        35.2\n",
       "Name: 0.5, dtype: float64"
      ]
     },
     "execution_count": 31,
     "metadata": {},
     "output_type": "execute_result"
    }
   ],
   "source": [
    "df.quantile()"
   ]
  },
  {
   "cell_type": "code",
   "execution_count": 32,
   "metadata": {},
   "outputs": [
    {
     "data": {
      "text/plain": [
       "35.2"
      ]
     },
     "execution_count": 32,
     "metadata": {},
     "output_type": "execute_result"
    }
   ],
   "source": [
    "df['NO2ug/m3 mean 2013'].median()"
   ]
  },
  {
   "cell_type": "code",
   "execution_count": 33,
   "metadata": {
    "scrolled": true
   },
   "outputs": [
    {
     "data": {
      "text/plain": [
       "Unnamed: 0                 NaN\n",
       "URN                   102449.0\n",
       "Easting               530860.0\n",
       "Northing              181188.0\n",
       "NO2ug/m3 mean 2013        35.2\n",
       "Name: 0.5, dtype: float64"
      ]
     },
     "execution_count": 33,
     "metadata": {},
     "output_type": "execute_result"
    }
   ],
   "source": [
    "df.quantile(0.5)"
   ]
  },
  {
   "cell_type": "code",
   "execution_count": null,
   "metadata": {},
   "outputs": [],
   "source": []
  },
  {
   "cell_type": "code",
   "execution_count": null,
   "metadata": {},
   "outputs": [],
   "source": []
  },
  {
   "cell_type": "markdown",
   "metadata": {},
   "source": [
    "# Activity 2\n",
    "\n",
    "Access an open data repository and find some historical data for the part of the world that you are in. \n",
    "\n",
    "Import the data to a DataFrame. Then calculate:\n",
    "\n",
    "<ul>\n",
    "    <li>`min/max` values from each column.</li>\n",
    "    <li>a count of the `NA/NaN` values. There are a few ways to do this e.g. </li>\n",
    "    \n",
    "    \n",
    "https://pandas.pydata.org/pandas-docs/stable/reference/api/pandas.DataFrame.isna.html\n",
    "https://numpy.org/doc/stable/reference/generated/numpy.isnan.html\n",
    "    \n",
    "    \n",
    "<li> Finally, find something interesting from the data.</li>\n",
    "    \n",
    "This requires you to understand the data and find an approach that explores this construct. Where is the missing \n",
    "data? How might this obscure your analysis? Can you think of a simple solution to `overcome this problem of missing data`?\n",
    "    \n",
    "Hint: https://pandas.pydata.org/pandas-docs/stable/reference/api/pandas.DataFrame.dropna.html\n",
    "    \n",
    "(We will cover this at a greater level of depth in a later topic!)\n",
    "    \n",
    "As an example if you are working with weather data for instance, you might want to compute the `Pearson correlation coefficient` between the temperature and wind speed. Is it significant? What story can you tell with the data? Can \n",
    "you offer an interesting and insightful narrative?\n",
    "    \n",
    "Share a summary of your findings on the discussion forum and comment on a post from your peers describing what you \n",
    "think is interesting from their summary."
   ]
  },
  {
   "cell_type": "code",
   "execution_count": 55,
   "metadata": {},
   "outputs": [
    {
     "data": {
      "text/html": [
       "<div>\n",
       "<style scoped>\n",
       "    .dataframe tbody tr th:only-of-type {\n",
       "        vertical-align: middle;\n",
       "    }\n",
       "\n",
       "    .dataframe tbody tr th {\n",
       "        vertical-align: top;\n",
       "    }\n",
       "\n",
       "    .dataframe thead th {\n",
       "        text-align: right;\n",
       "    }\n",
       "</style>\n",
       "<table border=\"1\" class=\"dataframe\">\n",
       "  <thead>\n",
       "    <tr style=\"text-align: right;\">\n",
       "      <th></th>\n",
       "      <th>Unnamed: 0</th>\n",
       "      <th>URN</th>\n",
       "      <th>Local Authority name</th>\n",
       "      <th>Establisment name</th>\n",
       "      <th>Easting</th>\n",
       "      <th>Northing</th>\n",
       "      <th>Type of Establishment</th>\n",
       "      <th>Phase of education</th>\n",
       "      <th>NO2ug/m3 mean 2013</th>\n",
       "      <th>Above limit</th>\n",
       "      <th>Parliamentary Constituences</th>\n",
       "      <th>Establishment Status</th>\n",
       "      <th>Close Date</th>\n",
       "    </tr>\n",
       "  </thead>\n",
       "  <tbody>\n",
       "    <tr>\n",
       "      <th>0</th>\n",
       "      <td>True</td>\n",
       "      <td>False</td>\n",
       "      <td>False</td>\n",
       "      <td>False</td>\n",
       "      <td>False</td>\n",
       "      <td>False</td>\n",
       "      <td>False</td>\n",
       "      <td>False</td>\n",
       "      <td>False</td>\n",
       "      <td>False</td>\n",
       "      <td>False</td>\n",
       "      <td>False</td>\n",
       "      <td>True</td>\n",
       "    </tr>\n",
       "    <tr>\n",
       "      <th>1</th>\n",
       "      <td>True</td>\n",
       "      <td>False</td>\n",
       "      <td>False</td>\n",
       "      <td>False</td>\n",
       "      <td>False</td>\n",
       "      <td>False</td>\n",
       "      <td>False</td>\n",
       "      <td>False</td>\n",
       "      <td>False</td>\n",
       "      <td>False</td>\n",
       "      <td>False</td>\n",
       "      <td>False</td>\n",
       "      <td>True</td>\n",
       "    </tr>\n",
       "    <tr>\n",
       "      <th>2</th>\n",
       "      <td>True</td>\n",
       "      <td>False</td>\n",
       "      <td>False</td>\n",
       "      <td>False</td>\n",
       "      <td>False</td>\n",
       "      <td>False</td>\n",
       "      <td>False</td>\n",
       "      <td>False</td>\n",
       "      <td>False</td>\n",
       "      <td>False</td>\n",
       "      <td>False</td>\n",
       "      <td>False</td>\n",
       "      <td>True</td>\n",
       "    </tr>\n",
       "    <tr>\n",
       "      <th>3</th>\n",
       "      <td>True</td>\n",
       "      <td>False</td>\n",
       "      <td>False</td>\n",
       "      <td>False</td>\n",
       "      <td>False</td>\n",
       "      <td>False</td>\n",
       "      <td>False</td>\n",
       "      <td>False</td>\n",
       "      <td>False</td>\n",
       "      <td>False</td>\n",
       "      <td>False</td>\n",
       "      <td>False</td>\n",
       "      <td>True</td>\n",
       "    </tr>\n",
       "    <tr>\n",
       "      <th>4</th>\n",
       "      <td>True</td>\n",
       "      <td>False</td>\n",
       "      <td>False</td>\n",
       "      <td>False</td>\n",
       "      <td>False</td>\n",
       "      <td>False</td>\n",
       "      <td>False</td>\n",
       "      <td>False</td>\n",
       "      <td>False</td>\n",
       "      <td>False</td>\n",
       "      <td>False</td>\n",
       "      <td>False</td>\n",
       "      <td>True</td>\n",
       "    </tr>\n",
       "    <tr>\n",
       "      <th>...</th>\n",
       "      <td>...</td>\n",
       "      <td>...</td>\n",
       "      <td>...</td>\n",
       "      <td>...</td>\n",
       "      <td>...</td>\n",
       "      <td>...</td>\n",
       "      <td>...</td>\n",
       "      <td>...</td>\n",
       "      <td>...</td>\n",
       "      <td>...</td>\n",
       "      <td>...</td>\n",
       "      <td>...</td>\n",
       "      <td>...</td>\n",
       "    </tr>\n",
       "    <tr>\n",
       "      <th>3256</th>\n",
       "      <td>True</td>\n",
       "      <td>False</td>\n",
       "      <td>False</td>\n",
       "      <td>False</td>\n",
       "      <td>False</td>\n",
       "      <td>False</td>\n",
       "      <td>False</td>\n",
       "      <td>False</td>\n",
       "      <td>False</td>\n",
       "      <td>False</td>\n",
       "      <td>False</td>\n",
       "      <td>False</td>\n",
       "      <td>True</td>\n",
       "    </tr>\n",
       "    <tr>\n",
       "      <th>3257</th>\n",
       "      <td>True</td>\n",
       "      <td>False</td>\n",
       "      <td>False</td>\n",
       "      <td>False</td>\n",
       "      <td>False</td>\n",
       "      <td>False</td>\n",
       "      <td>False</td>\n",
       "      <td>False</td>\n",
       "      <td>False</td>\n",
       "      <td>False</td>\n",
       "      <td>False</td>\n",
       "      <td>False</td>\n",
       "      <td>True</td>\n",
       "    </tr>\n",
       "    <tr>\n",
       "      <th>3258</th>\n",
       "      <td>True</td>\n",
       "      <td>False</td>\n",
       "      <td>False</td>\n",
       "      <td>False</td>\n",
       "      <td>False</td>\n",
       "      <td>False</td>\n",
       "      <td>False</td>\n",
       "      <td>False</td>\n",
       "      <td>False</td>\n",
       "      <td>False</td>\n",
       "      <td>False</td>\n",
       "      <td>False</td>\n",
       "      <td>True</td>\n",
       "    </tr>\n",
       "    <tr>\n",
       "      <th>3259</th>\n",
       "      <td>True</td>\n",
       "      <td>False</td>\n",
       "      <td>False</td>\n",
       "      <td>False</td>\n",
       "      <td>False</td>\n",
       "      <td>False</td>\n",
       "      <td>False</td>\n",
       "      <td>False</td>\n",
       "      <td>False</td>\n",
       "      <td>False</td>\n",
       "      <td>False</td>\n",
       "      <td>False</td>\n",
       "      <td>True</td>\n",
       "    </tr>\n",
       "    <tr>\n",
       "      <th>3260</th>\n",
       "      <td>True</td>\n",
       "      <td>False</td>\n",
       "      <td>False</td>\n",
       "      <td>False</td>\n",
       "      <td>False</td>\n",
       "      <td>False</td>\n",
       "      <td>False</td>\n",
       "      <td>False</td>\n",
       "      <td>False</td>\n",
       "      <td>False</td>\n",
       "      <td>False</td>\n",
       "      <td>False</td>\n",
       "      <td>True</td>\n",
       "    </tr>\n",
       "  </tbody>\n",
       "</table>\n",
       "<p>3261 rows × 13 columns</p>\n",
       "</div>"
      ],
      "text/plain": [
       "      Unnamed: 0    URN  Local Authority name  Establisment name  Easting  \\\n",
       "0           True  False                 False              False    False   \n",
       "1           True  False                 False              False    False   \n",
       "2           True  False                 False              False    False   \n",
       "3           True  False                 False              False    False   \n",
       "4           True  False                 False              False    False   \n",
       "...          ...    ...                   ...                ...      ...   \n",
       "3256        True  False                 False              False    False   \n",
       "3257        True  False                 False              False    False   \n",
       "3258        True  False                 False              False    False   \n",
       "3259        True  False                 False              False    False   \n",
       "3260        True  False                 False              False    False   \n",
       "\n",
       "      Northing  Type of Establishment  Phase of education  NO2ug/m3 mean 2013  \\\n",
       "0        False                  False               False               False   \n",
       "1        False                  False               False               False   \n",
       "2        False                  False               False               False   \n",
       "3        False                  False               False               False   \n",
       "4        False                  False               False               False   \n",
       "...        ...                    ...                 ...                 ...   \n",
       "3256     False                  False               False               False   \n",
       "3257     False                  False               False               False   \n",
       "3258     False                  False               False               False   \n",
       "3259     False                  False               False               False   \n",
       "3260     False                  False               False               False   \n",
       "\n",
       "      Above limit  Parliamentary Constituences  Establishment Status  \\\n",
       "0           False                        False                 False   \n",
       "1           False                        False                 False   \n",
       "2           False                        False                 False   \n",
       "3           False                        False                 False   \n",
       "4           False                        False                 False   \n",
       "...           ...                          ...                   ...   \n",
       "3256        False                        False                 False   \n",
       "3257        False                        False                 False   \n",
       "3258        False                        False                 False   \n",
       "3259        False                        False                 False   \n",
       "3260        False                        False                 False   \n",
       "\n",
       "      Close Date  \n",
       "0           True  \n",
       "1           True  \n",
       "2           True  \n",
       "3           True  \n",
       "4           True  \n",
       "...          ...  \n",
       "3256        True  \n",
       "3257        True  \n",
       "3258        True  \n",
       "3259        True  \n",
       "3260        True  \n",
       "\n",
       "[3261 rows x 13 columns]"
      ]
     },
     "execution_count": 55,
     "metadata": {},
     "output_type": "execute_result"
    }
   ],
   "source": [
    "df.isna()"
   ]
  },
  {
   "cell_type": "code",
   "execution_count": 49,
   "metadata": {},
   "outputs": [
    {
     "data": {
      "text/plain": [
       "Unnamed: 0                      True\n",
       "URN                            False\n",
       "Local Authority name           False\n",
       "Establisment name              False\n",
       "Easting                        False\n",
       "Northing                       False\n",
       "Type of Establishment          False\n",
       "Phase of education             False\n",
       "NO2ug/m3 mean 2013             False\n",
       "Above limit                    False\n",
       "Parliamentary Constituences    False\n",
       "Establishment Status           False\n",
       "Close Date                      True\n",
       "dtype: bool"
      ]
     },
     "execution_count": 49,
     "metadata": {},
     "output_type": "execute_result"
    }
   ],
   "source": [
    "df.isna().any()"
   ]
  },
  {
   "cell_type": "code",
   "execution_count": 54,
   "metadata": {},
   "outputs": [
    {
     "data": {
      "text/plain": [
       "Unnamed: 0                     3261\n",
       "URN                               0\n",
       "Local Authority name              0\n",
       "Establisment name                 0\n",
       "Easting                           0\n",
       "Northing                          0\n",
       "Type of Establishment             0\n",
       "Phase of education                0\n",
       "NO2ug/m3 mean 2013                0\n",
       "Above limit                       0\n",
       "Parliamentary Constituences       0\n",
       "Establishment Status              0\n",
       "Close Date                     3119\n",
       "dtype: int64"
      ]
     },
     "execution_count": 54,
     "metadata": {},
     "output_type": "execute_result"
    }
   ],
   "source": [
    "df.isna().sum()"
   ]
  },
  {
   "cell_type": "code",
   "execution_count": 61,
   "metadata": {},
   "outputs": [],
   "source": [
    "df_series=df['Close Date']"
   ]
  },
  {
   "cell_type": "code",
   "execution_count": 63,
   "metadata": {},
   "outputs": [
    {
     "data": {
      "text/plain": [
       "pandas.core.series.Series"
      ]
     },
     "execution_count": 63,
     "metadata": {},
     "output_type": "execute_result"
    }
   ],
   "source": [
    "type(df_series)"
   ]
  },
  {
   "cell_type": "code",
   "execution_count": 64,
   "metadata": {},
   "outputs": [
    {
     "data": {
      "text/plain": [
       "array(['NaT', 'NaT', 'NaT', ..., 'NaT', 'NaT', 'NaT'],\n",
       "      dtype='datetime64[ns]')"
      ]
     },
     "execution_count": 64,
     "metadata": {},
     "output_type": "execute_result"
    }
   ],
   "source": [
    "import numpy as np\n",
    "np.array(df_series)"
   ]
  },
  {
   "cell_type": "code",
   "execution_count": 65,
   "metadata": {},
   "outputs": [],
   "source": [
    "a=np.array(df_series)"
   ]
  },
  {
   "cell_type": "code",
   "execution_count": 69,
   "metadata": {},
   "outputs": [
    {
     "data": {
      "text/plain": [
       "3119"
      ]
     },
     "execution_count": 69,
     "metadata": {},
     "output_type": "execute_result"
    }
   ],
   "source": [
    "np.isnan(a).sum()"
   ]
  },
  {
   "cell_type": "code",
   "execution_count": 72,
   "metadata": {
    "scrolled": true
   },
   "outputs": [
    {
     "data": {
      "text/html": [
       "<div>\n",
       "<style scoped>\n",
       "    .dataframe tbody tr th:only-of-type {\n",
       "        vertical-align: middle;\n",
       "    }\n",
       "\n",
       "    .dataframe tbody tr th {\n",
       "        vertical-align: top;\n",
       "    }\n",
       "\n",
       "    .dataframe thead th {\n",
       "        text-align: right;\n",
       "    }\n",
       "</style>\n",
       "<table border=\"1\" class=\"dataframe\">\n",
       "  <thead>\n",
       "    <tr style=\"text-align: right;\">\n",
       "      <th></th>\n",
       "      <th>Unnamed: 0</th>\n",
       "      <th>URN</th>\n",
       "      <th>Easting</th>\n",
       "      <th>Northing</th>\n",
       "      <th>NO2ug/m3 mean 2013</th>\n",
       "    </tr>\n",
       "  </thead>\n",
       "  <tbody>\n",
       "    <tr>\n",
       "      <th>Unnamed: 0</th>\n",
       "      <td>NaN</td>\n",
       "      <td>NaN</td>\n",
       "      <td>NaN</td>\n",
       "      <td>NaN</td>\n",
       "      <td>NaN</td>\n",
       "    </tr>\n",
       "    <tr>\n",
       "      <th>URN</th>\n",
       "      <td>NaN</td>\n",
       "      <td>1.000000</td>\n",
       "      <td>0.044658</td>\n",
       "      <td>-0.063367</td>\n",
       "      <td>-0.032507</td>\n",
       "    </tr>\n",
       "    <tr>\n",
       "      <th>Easting</th>\n",
       "      <td>NaN</td>\n",
       "      <td>0.044658</td>\n",
       "      <td>1.000000</td>\n",
       "      <td>0.023676</td>\n",
       "      <td>-0.111569</td>\n",
       "    </tr>\n",
       "    <tr>\n",
       "      <th>Northing</th>\n",
       "      <td>NaN</td>\n",
       "      <td>-0.063367</td>\n",
       "      <td>0.023676</td>\n",
       "      <td>1.000000</td>\n",
       "      <td>0.037798</td>\n",
       "    </tr>\n",
       "    <tr>\n",
       "      <th>NO2ug/m3 mean 2013</th>\n",
       "      <td>NaN</td>\n",
       "      <td>-0.032507</td>\n",
       "      <td>-0.111569</td>\n",
       "      <td>0.037798</td>\n",
       "      <td>1.000000</td>\n",
       "    </tr>\n",
       "  </tbody>\n",
       "</table>\n",
       "</div>"
      ],
      "text/plain": [
       "                    Unnamed: 0       URN   Easting  Northing  \\\n",
       "Unnamed: 0                 NaN       NaN       NaN       NaN   \n",
       "URN                        NaN  1.000000  0.044658 -0.063367   \n",
       "Easting                    NaN  0.044658  1.000000  0.023676   \n",
       "Northing                   NaN -0.063367  0.023676  1.000000   \n",
       "NO2ug/m3 mean 2013         NaN -0.032507 -0.111569  0.037798   \n",
       "\n",
       "                    NO2ug/m3 mean 2013  \n",
       "Unnamed: 0                         NaN  \n",
       "URN                          -0.032507  \n",
       "Easting                      -0.111569  \n",
       "Northing                      0.037798  \n",
       "NO2ug/m3 mean 2013            1.000000  "
      ]
     },
     "execution_count": 72,
     "metadata": {},
     "output_type": "execute_result"
    }
   ],
   "source": [
    "df.corr()"
   ]
  },
  {
   "cell_type": "code",
   "execution_count": null,
   "metadata": {},
   "outputs": [],
   "source": []
  },
  {
   "cell_type": "code",
   "execution_count": null,
   "metadata": {},
   "outputs": [],
   "source": []
  },
  {
   "cell_type": "code",
   "execution_count": null,
   "metadata": {},
   "outputs": [],
   "source": []
  },
  {
   "cell_type": "code",
   "execution_count": null,
   "metadata": {},
   "outputs": [],
   "source": []
  },
  {
   "cell_type": "code",
   "execution_count": null,
   "metadata": {},
   "outputs": [],
   "source": []
  },
  {
   "cell_type": "code",
   "execution_count": null,
   "metadata": {},
   "outputs": [],
   "source": []
  },
  {
   "cell_type": "code",
   "execution_count": null,
   "metadata": {},
   "outputs": [],
   "source": []
  },
  {
   "cell_type": "code",
   "execution_count": null,
   "metadata": {},
   "outputs": [],
   "source": []
  },
  {
   "cell_type": "code",
   "execution_count": null,
   "metadata": {},
   "outputs": [],
   "source": []
  },
  {
   "cell_type": "code",
   "execution_count": null,
   "metadata": {},
   "outputs": [],
   "source": []
  },
  {
   "cell_type": "code",
   "execution_count": null,
   "metadata": {},
   "outputs": [],
   "source": []
  },
  {
   "cell_type": "markdown",
   "metadata": {},
   "source": [
    "# Possible Solution"
   ]
  },
  {
   "cell_type": "code",
   "execution_count": null,
   "metadata": {},
   "outputs": [],
   "source": [
    "df=pd.read_excel('https://data.london.gov.uk/download/schools-and-educational-institutions-air-quality-exposure-data/9d5a5099-2030-4b94-b9cf-1eb3bf7d203e/Schools_ParliamentaryConstituencies.xlsx', sheet_name=1, skiprows=3)"
   ]
  },
  {
   "cell_type": "code",
   "execution_count": 38,
   "metadata": {
    "scrolled": true
   },
   "outputs": [
    {
     "data": {
      "text/plain": [
       "Unnamed: 0                            float64\n",
       "URN                                     int64\n",
       "Local Authority name                   object\n",
       "Establisment name                      object\n",
       "Easting                                 int64\n",
       "Northing                                int64\n",
       "Type of Establishment                  object\n",
       "Phase of education                     object\n",
       "NO2ug/m3 mean 2013                    float64\n",
       "Above limit                            object\n",
       "Parliamentary Constituences            object\n",
       "Establishment Status                   object\n",
       "Close Date                     datetime64[ns]\n",
       "dtype: object"
      ]
     },
     "execution_count": 38,
     "metadata": {},
     "output_type": "execute_result"
    }
   ],
   "source": [
    "df.dtypes"
   ]
  },
  {
   "cell_type": "code",
   "execution_count": 39,
   "metadata": {},
   "outputs": [
    {
     "data": {
      "text/plain": [
       "73.1"
      ]
     },
     "execution_count": 39,
     "metadata": {},
     "output_type": "execute_result"
    }
   ],
   "source": [
    "df['NO2ug/m3 mean 2013'].max()"
   ]
  },
  {
   "cell_type": "code",
   "execution_count": 41,
   "metadata": {},
   "outputs": [
    {
     "data": {
      "text/plain": [
       "36.22726157620361"
      ]
     },
     "execution_count": 41,
     "metadata": {},
     "output_type": "execute_result"
    }
   ],
   "source": [
    "df['NO2ug/m3 mean 2013'].mean()"
   ]
  },
  {
   "cell_type": "code",
   "execution_count": 40,
   "metadata": {},
   "outputs": [
    {
     "data": {
      "text/plain": [
       "Unnamed: 0                 NaN\n",
       "URN                   102449.0\n",
       "Easting               530860.0\n",
       "Northing              181188.0\n",
       "NO2ug/m3 mean 2013        35.2\n",
       "Name: 0.5, dtype: float64"
      ]
     },
     "execution_count": 40,
     "metadata": {},
     "output_type": "execute_result"
    }
   ],
   "source": [
    "df.quantile()"
   ]
  },
  {
   "cell_type": "code",
   "execution_count": 43,
   "metadata": {},
   "outputs": [
    {
     "data": {
      "text/plain": [
       "35.2"
      ]
     },
     "execution_count": 43,
     "metadata": {},
     "output_type": "execute_result"
    }
   ],
   "source": [
    "df['NO2ug/m3 mean 2013'].median()"
   ]
  },
  {
   "cell_type": "code",
   "execution_count": 45,
   "metadata": {
    "scrolled": true
   },
   "outputs": [
    {
     "data": {
      "text/plain": [
       "Unnamed: 0                 NaN\n",
       "URN                   102449.0\n",
       "Easting               530860.0\n",
       "Northing              181188.0\n",
       "NO2ug/m3 mean 2013        35.2\n",
       "Name: 0.5, dtype: float64"
      ]
     },
     "execution_count": 45,
     "metadata": {},
     "output_type": "execute_result"
    }
   ],
   "source": [
    "df.quantile(0.5)"
   ]
  },
  {
   "cell_type": "code",
   "execution_count": null,
   "metadata": {},
   "outputs": [],
   "source": []
  }
 ],
 "metadata": {
  "kernelspec": {
   "display_name": "Python 3",
   "language": "python",
   "name": "python3"
  },
  "language_info": {
   "codemirror_mode": {
    "name": "ipython",
    "version": 3
   },
   "file_extension": ".py",
   "mimetype": "text/x-python",
   "name": "python",
   "nbconvert_exporter": "python",
   "pygments_lexer": "ipython3",
   "version": "3.8.5"
  }
 },
 "nbformat": 4,
 "nbformat_minor": 4
}
