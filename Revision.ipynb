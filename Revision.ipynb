{
 "cells": [
  {
   "cell_type": "markdown",
   "metadata": {},
   "source": [
    "# Week 1"
   ]
  },
  {
   "cell_type": "markdown",
   "metadata": {},
   "source": [
    "## Basic Of Jupyter Notebook"
   ]
  },
  {
   "cell_type": "markdown",
   "metadata": {},
   "source": [
    "A useful feature of Jupyter notebooks is the ability to execute blocks of code one at a time by creating discrete code \\`cells'. To run a code cell, highlight the cell by clicking in it, and press `<Ctrl>`+`<Enter>`. "
   ]
  },
  {
   "cell_type": "markdown",
   "metadata": {},
   "source": [
    "<b>Inserting Of Cells</b>\n",
    "\n",
    "* Single click on this cell to select it (the surrounding box should be blue!)\n",
    "* From the menu at the top, select \\`Insert', followed by, \\`Insert Cell Below'. This will create a new cell. The box around the new cell should be green, meaning it is editable.\n",
    "* If your new cell appeared somewhere other than just below this one, you can use the up/down arrows in the top toolbar to reposition it.\n",
    "* You can change the type of cell from the Dropdown menu to the left of \\`Cell Toolbar'. For example, this cell is a *Markdown* cell. Leave the new cell as the default *Code* type cell for now.\n",
    "* Inside the cell, write some Python code to output a message. For example, \n",
    "\n",
    "        `print(\"Hello world!\")`\n",
    "* Run the code with `<Ctrl>+<Enter`."
   ]
  },
  {
   "cell_type": "markdown",
   "metadata": {},
   "source": [
    "<b>Inserting Of Mathetimatical Expression</b>\n",
    "\n",
    "At some point, you might find yourself wanting to write some explanatory text which includes mathematical equations. Fortunately, jupyter will render Latex for you inside Markdown cells.\n",
    "* Create a new cell below this one\n",
    "* With the cell selected, use the dropdown menu in the main toolbar to change its type to *Markdown*\n",
    "* Insert a Latex maths expression inside double `$$`. For example, \n",
    "    \n",
    "        $$c = \\sqrt{a^2 + b^2}$$\n",
    "* Render the Markdown with `<Ctrl>+<Enter`\n",
    "* If you need to edit the Markdown cell again, double click in it\n",
    "\n",
    "*NB: If you haven't used Latex before or don't know what it is, don't worry - this is just to show you what is possible.*"
   ]
  },
  {
   "cell_type": "markdown",
   "metadata": {},
   "source": [
    "## Basic Of Python"
   ]
  },
  {
   "cell_type": "markdown",
   "metadata": {},
   "source": [
    "## Defining Of Variables"
   ]
  },
  {
   "cell_type": "markdown",
   "metadata": {},
   "source": [
    "### Immutable Type"
   ]
  },
  {
   "cell_type": "code",
   "execution_count": 1,
   "metadata": {},
   "outputs": [
    {
     "name": "stdout",
     "output_type": "stream",
     "text": [
      "Book title 31.555123 1 True 31.555123451200000062044637161307036876678466796875 ('first', 'second', 'third') range(0, 10)\n",
      "<class 'str'>\n",
      "<class 'float'>\n",
      "<class 'int'>\n",
      "<class 'bool'>\n",
      "<class 'decimal.Decimal'>\n",
      "<class 'tuple'>\n",
      "<class 'range'>\n"
     ]
    }
   ],
   "source": [
    "from decimal import *\n",
    "\n",
    "string_value = \"Book title\" # string\n",
    "float_value = 31.555123 # float\n",
    "int_value = 1 # integer\n",
    "bool_value = True # boolean\n",
    "decimal_value = Decimal(31.5551234512) # decimal\n",
    "tuple_value = ('first','second','third') # tuple\n",
    "range_value = range(10) # range\n",
    "\n",
    "print(string_value,float_value,int_value,bool_value,decimal_value,tuple_value,range_value)\n",
    "print(type(string_value))\n",
    "print(type(float_value))\n",
    "print(type(int_value))\n",
    "print(type(bool_value))\n",
    "print(type(decimal_value))\n",
    "print(type(tuple_value))\n",
    "print(type(range_value))"
   ]
  },
  {
   "cell_type": "markdown",
   "metadata": {},
   "source": [
    "### Immutable Type Example"
   ]
  },
  {
   "cell_type": "markdown",
   "metadata": {},
   "source": [
    "##### Current Id"
   ]
  },
  {
   "cell_type": "code",
   "execution_count": 2,
   "metadata": {},
   "outputs": [
    {
     "name": "stdout",
     "output_type": "stream",
     "text": [
      "1593825829680\n",
      "1593825162064\n",
      "140726269323040\n",
      "140726269040464\n",
      "1593825316176\n",
      "1593825454784\n",
      "1593825859600\n"
     ]
    }
   ],
   "source": [
    "string_id = id(string_value)\n",
    "float_id = id(float_value)\n",
    "int_id = id(int_value)\n",
    "bool_id = id(bool_value)\n",
    "decimal_id = id(decimal_value)\n",
    "tuple_id = id(tuple_value)\n",
    "range_id = id(range_value)\n",
    "\n",
    "print(string_id)\n",
    "print(float_id)\n",
    "print(int_id)\n",
    "print(bool_id)\n",
    "print(decimal_id)\n",
    "print(tuple_id)\n",
    "print(range_id)"
   ]
  },
  {
   "cell_type": "markdown",
   "metadata": {},
   "source": [
    "##### Mutated Id"
   ]
  },
  {
   "cell_type": "code",
   "execution_count": 3,
   "metadata": {},
   "outputs": [
    {
     "name": "stdout",
     "output_type": "stream",
     "text": [
      "1593825744560\n",
      "1593825618736\n",
      "140726269323136\n",
      "140726269040496\n",
      "1593825931424\n",
      "1593825742256\n",
      "1593825859120\n"
     ]
    }
   ],
   "source": [
    "string_value = \"New title\" # string\n",
    "float_value = 31.00 # float\n",
    "int_value = 4 # integer\n",
    "bool_value = False # boolean\n",
    "decimal_value = Decimal(31.555122) # decimal\n",
    "tuple_value = ('first','second','third','fourth') # tuple\n",
    "range_value = range(12) # range\n",
    "\n",
    "mutated_string_id = id(string_value)\n",
    "mutated_float_id = id(float_value)\n",
    "mutated_int_id = id(int_value)\n",
    "mutated_bool_id = id(bool_value)\n",
    "mutated_decimal_id = id(decimal_value)\n",
    "mutated_tuple_id = id(tuple_value)\n",
    "mutated_range_id = id(range_value)\n",
    "\n",
    "print(mutated_string_id)\n",
    "print(mutated_float_id)\n",
    "print(mutated_int_id)\n",
    "print(mutated_bool_id)\n",
    "print(mutated_decimal_id)\n",
    "print(mutated_tuple_id)\n",
    "print(mutated_range_id)\n"
   ]
  },
  {
   "cell_type": "markdown",
   "metadata": {},
   "source": [
    "##### Comparison"
   ]
  },
  {
   "cell_type": "code",
   "execution_count": 4,
   "metadata": {},
   "outputs": [
    {
     "name": "stdout",
     "output_type": "stream",
     "text": [
      "False\n",
      "False\n",
      "False\n",
      "False\n",
      "False\n",
      "False\n",
      "False\n"
     ]
    }
   ],
   "source": [
    "print(string_id==mutated_string_id)\n",
    "print(float_id==mutated_float_id)\n",
    "print(int_id==mutated_int_id)\n",
    "print(bool_id==mutated_bool_id)\n",
    "print(decimal_id==mutated_decimal_id)\n",
    "print(tuple_id==mutated_tuple_id)\n",
    "print(range_id==mutated_range_id)"
   ]
  },
  {
   "cell_type": "markdown",
   "metadata": {},
   "source": [
    "### Mutable Type"
   ]
  },
  {
   "cell_type": "code",
   "execution_count": 5,
   "metadata": {},
   "outputs": [
    {
     "name": "stdout",
     "output_type": "stream",
     "text": [
      "<class 'list'>\n",
      "<class 'dict'>\n",
      "<class 'set'>\n"
     ]
    }
   ],
   "source": [
    "list_value = [1,2,3,4,5] # list\n",
    "dict_value = {\"key\":'value'} # dict\n",
    "set_value = {'abc','123'} # set\n",
    "\n",
    "print(type(list_value))\n",
    "print(type(dict_value))\n",
    "print(type(set_value))"
   ]
  },
  {
   "cell_type": "markdown",
   "metadata": {},
   "source": [
    "##### Current Id"
   ]
  },
  {
   "cell_type": "code",
   "execution_count": 6,
   "metadata": {},
   "outputs": [
    {
     "name": "stdout",
     "output_type": "stream",
     "text": [
      "1593825635008\n",
      "1593825872704\n",
      "1593825291840\n"
     ]
    }
   ],
   "source": [
    "list_id = id(list_value)\n",
    "dict_id = id(dict_value)\n",
    "set_id = id(set_value)\n",
    "\n",
    "print(list_id)\n",
    "print(dict_id)\n",
    "print(set_id)"
   ]
  },
  {
   "cell_type": "markdown",
   "metadata": {},
   "source": [
    "##### Mutated Id"
   ]
  },
  {
   "cell_type": "code",
   "execution_count": 7,
   "metadata": {},
   "outputs": [
    {
     "name": "stdout",
     "output_type": "stream",
     "text": [
      "1593825635008\n",
      "1593825872704\n",
      "1593825291840\n"
     ]
    }
   ],
   "source": [
    "list_value.append(6)\n",
    "dict_value['new']='key'\n",
    "set_value.add('new value')\n",
    "\n",
    "mutated_list_id=id(list_value)\n",
    "mutated_dict_id=id(dict_value)\n",
    "mutated_set_id=id(set_value)\n",
    "print(mutated_list_id)\n",
    "print(mutated_dict_id)\n",
    "print(mutated_set_id)"
   ]
  },
  {
   "cell_type": "markdown",
   "metadata": {},
   "source": [
    "##### Comparison"
   ]
  },
  {
   "cell_type": "code",
   "execution_count": 8,
   "metadata": {
    "scrolled": true
   },
   "outputs": [
    {
     "name": "stdout",
     "output_type": "stream",
     "text": [
      "True\n",
      "True\n",
      "True\n"
     ]
    }
   ],
   "source": [
    "print(list_id==mutated_list_id)\n",
    "print(dict_id==mutated_dict_id)\n",
    "print(set_id==mutated_set_id)"
   ]
  },
  {
   "cell_type": "markdown",
   "metadata": {},
   "source": [
    "# Interation"
   ]
  },
  {
   "cell_type": "markdown",
   "metadata": {},
   "source": [
    "## For Loop"
   ]
  },
  {
   "cell_type": "code",
   "execution_count": 9,
   "metadata": {},
   "outputs": [
    {
     "name": "stdout",
     "output_type": "stream",
     "text": [
      "1\n",
      "2\n",
      "3\n",
      "4\n",
      "5\n",
      "6\n",
      "7\n",
      "8\n",
      "9\n"
     ]
    }
   ],
   "source": [
    "number_list = [1,2,3,4,5,6,7,8,9]\n",
    "\n",
    "for number in number_list:\n",
    "    print(number) # write all logic here"
   ]
  },
  {
   "cell_type": "markdown",
   "metadata": {},
   "source": [
    "## While loop"
   ]
  },
  {
   "cell_type": "code",
   "execution_count": 10,
   "metadata": {},
   "outputs": [
    {
     "name": "stdout",
     "output_type": "stream",
     "text": [
      "1\n",
      "2\n",
      "3\n",
      "4\n",
      "5\n",
      "6\n",
      "7\n",
      "8\n",
      "9\n"
     ]
    }
   ],
   "source": [
    "index = 0\n",
    "\n",
    "while index < len(number_list):\n",
    "    print(number_list[index]) # logic here\n",
    "    index+=1"
   ]
  },
  {
   "cell_type": "markdown",
   "metadata": {},
   "source": [
    "# List"
   ]
  },
  {
   "cell_type": "markdown",
   "metadata": {},
   "source": [
    "## List Built-In Function"
   ]
  },
  {
   "cell_type": "code",
   "execution_count": 11,
   "metadata": {},
   "outputs": [
    {
     "name": "stdout",
     "output_type": "stream",
     "text": [
      "[1, 2, 3, 4, 5, 6, 7]\n",
      "[1, 2, 3, 4, 5, 6]\n",
      "[1, 2, 3, 4, 5, 6, 1, 2]\n",
      "2\n",
      "1\n",
      "[1, 2, 3, 1, 4, 5, 6, 1, 2]\n",
      "[1, 3, 1, 4, 5, 6, 1, 2]\n",
      "[2, 1, 6, 5, 4, 1, 3, 1]\n",
      "[1, 1, 1, 2, 3, 4, 5, 6]\n"
     ]
    }
   ],
   "source": [
    "original_list = [1,2,3,4,5,6]\n",
    "\n",
    "original_list.append(7) # add an element at the last index\n",
    "print(original_list)\n",
    "\n",
    "original_list.pop() # remove the last element\n",
    "print(original_list)\n",
    "\n",
    "original_list.extend([1,2]) # Add iterable items into the list\n",
    "print(original_list)\n",
    "\n",
    "count_two = original_list.count(1) # check the number of repeated occurance from the list, different from len() \n",
    "print(count_two)\n",
    "\n",
    "index_two = original_list.index(2) # get the index of the first element that have the same value\n",
    "print(index_two)\n",
    "\n",
    "original_list.insert(3,1) # will insert the 3 value into the 4th element of the list\n",
    "print(original_list)\n",
    "\n",
    "original_list.remove(2) # remove one element that have the same value\n",
    "print(original_list)\n",
    "\n",
    "original_list.reverse() # reverse the list\n",
    "print(original_list)\n",
    "\n",
    "original_list.sort() # sort the list in ascending order, pass in reverse=True as parameter will be descending\n",
    "print(original_list)"
   ]
  },
  {
   "cell_type": "markdown",
   "metadata": {},
   "source": [
    "## Cloning A List"
   ]
  },
  {
   "cell_type": "markdown",
   "metadata": {},
   "source": [
    "### Using List Built-In Copy Function"
   ]
  },
  {
   "cell_type": "code",
   "execution_count": 12,
   "metadata": {},
   "outputs": [
    {
     "name": "stdout",
     "output_type": "stream",
     "text": [
      "False\n"
     ]
    }
   ],
   "source": [
    "new_original_list = original_list.copy()\n",
    "print(id(new_original_list) == id(original_list))"
   ]
  },
  {
   "cell_type": "markdown",
   "metadata": {},
   "source": [
    "### List Comprehension "
   ]
  },
  {
   "cell_type": "code",
   "execution_count": 13,
   "metadata": {
    "scrolled": true
   },
   "outputs": [
    {
     "name": "stdout",
     "output_type": "stream",
     "text": [
      "[3, 5, 7]\n"
     ]
    }
   ],
   "source": [
    "original_list_with_comprehension = [number+1 for number in original_list if number%2==0] # this will produce a new list, the original list is untouched\n",
    "print(original_list_with_comprehension)"
   ]
  },
  {
   "cell_type": "code",
   "execution_count": 14,
   "metadata": {},
   "outputs": [
    {
     "name": "stdout",
     "output_type": "stream",
     "text": [
      "False\n"
     ]
    }
   ],
   "source": [
    "print(id(original_list) == id(original_list_with_comprehension))"
   ]
  },
  {
   "cell_type": "markdown",
   "metadata": {},
   "source": [
    "### Spreading List"
   ]
  },
  {
   "cell_type": "code",
   "execution_count": 15,
   "metadata": {},
   "outputs": [
    {
     "name": "stdout",
     "output_type": "stream",
     "text": [
      "[1, 1, 1, 2, 3, 4, 5, 6]\n"
     ]
    }
   ],
   "source": [
    "original_list_with_spread = [*original_list]\n",
    "print(original_list_with_spread)"
   ]
  },
  {
   "cell_type": "code",
   "execution_count": 16,
   "metadata": {},
   "outputs": [
    {
     "name": "stdout",
     "output_type": "stream",
     "text": [
      "False\n"
     ]
    }
   ],
   "source": [
    "print(id(original_list) == id(original_list_with_spread))"
   ]
  },
  {
   "cell_type": "markdown",
   "metadata": {},
   "source": [
    "### Note The \"=\" Won't Clone New List"
   ]
  },
  {
   "cell_type": "code",
   "execution_count": 17,
   "metadata": {},
   "outputs": [
    {
     "name": "stdout",
     "output_type": "stream",
     "text": [
      "[1, 1, 1, 2, 3, 4, 5, 6]\n"
     ]
    }
   ],
   "source": [
    "not_clone_list = original_list\n",
    "print(not_clone_list)"
   ]
  },
  {
   "cell_type": "code",
   "execution_count": 18,
   "metadata": {},
   "outputs": [
    {
     "name": "stdout",
     "output_type": "stream",
     "text": [
      "True\n"
     ]
    }
   ],
   "source": [
    "print(id(original_list) == id(not_clone_list))"
   ]
  },
  {
   "cell_type": "markdown",
   "metadata": {},
   "source": [
    "This means that any changes to the list will change the original list value"
   ]
  },
  {
   "cell_type": "markdown",
   "metadata": {},
   "source": [
    "# Dict "
   ]
  },
  {
   "cell_type": "markdown",
   "metadata": {},
   "source": [
    "### Dict Built-In Function"
   ]
  },
  {
   "cell_type": "code",
   "execution_count": 19,
   "metadata": {},
   "outputs": [
    {
     "name": "stdout",
     "output_type": "stream",
     "text": [
      "dict_keys(['one', 'two', 'three', 'four', 'five'])\n",
      "dict_values([1, 2, 3, 4, 5])\n",
      "dict_items([('one', 1), ('two', 2), ('three', 3), ('four', 4), ('five', 5)])\n"
     ]
    }
   ],
   "source": [
    "original_dict = {'one':1,'two':2, 'three':3, 'four':4, 'five':5}\n",
    "\n",
    "dict_keys = original_dict.keys() # Return all the keys in a list\n",
    "print(dict_keys)\n",
    "\n",
    "dict_value = original_dict.values() # Return all the values in a list\n",
    "print(dict_value)\n",
    "\n",
    "dict_tuple = original_dict.items() # Return a list of tuple (key,value)\n",
    "print(dict_tuple)"
   ]
  },
  {
   "cell_type": "markdown",
   "metadata": {},
   "source": [
    "### Updating Value In Dict"
   ]
  },
  {
   "cell_type": "code",
   "execution_count": 26,
   "metadata": {},
   "outputs": [
    {
     "name": "stdout",
     "output_type": "stream",
     "text": [
      "{'one': 1, 'two': 2, 'three': 4, 'four': 4, 'five': 5, 'six': 6}\n",
      "{'one': 1, 'two': 2, 'three': 3, 'four': 4, 'five': 5, 'six': 6}\n",
      "{'one': 1, 'two': 2, 'three': 3, 'four': 4, 'five': 5, 'six': 6, 'seven': 7, 'eight': 8}\n"
     ]
    }
   ],
   "source": [
    "original_dict['three']=4\n",
    "print(original_dict)\n",
    "\n",
    "original_dict.update({'three':3, 'six':6}) # can pass in dict or tuple\n",
    "print(original_dict)\n",
    "\n",
    "original_dict.update(seven=7,eight=8)\n",
    "print(original_dict)"
   ]
  },
  {
   "cell_type": "markdown",
   "metadata": {},
   "source": [
    "### Get Value In Dict"
   ]
  },
  {
   "cell_type": "code",
   "execution_count": 32,
   "metadata": {},
   "outputs": [
    {
     "name": "stdout",
     "output_type": "stream",
     "text": [
      "3\n",
      "<class 'KeyError'>\n",
      "3\n",
      "None\n"
     ]
    }
   ],
   "source": [
    "print(original_dict['three']) # will be able to access the value if the key exist else throw KeyError\n",
    "\n",
    "try:\n",
    "    print(original_dict['ten'])\n",
    "except KeyError:\n",
    "    print(KeyError)\n",
    "    \n",
    "print(original_dict.get('three'))\n",
    "print(original_dict.get('ten')) # will be able to access the value and return none if there is no such key"
   ]
  },
  {
   "cell_type": "markdown",
   "metadata": {},
   "source": [
    "### Cloning A Dict"
   ]
  },
  {
   "cell_type": "markdown",
   "metadata": {},
   "source": [
    "#### Built-In Function"
   ]
  },
  {
   "cell_type": "code",
   "execution_count": 34,
   "metadata": {},
   "outputs": [
    {
     "name": "stdout",
     "output_type": "stream",
     "text": [
      "{'one': 1, 'two': 2, 'three': 3, 'four': 4, 'five': 5, 'six': 6, 'seven': 7, 'eight': 8}\n",
      "False\n"
     ]
    }
   ],
   "source": [
    "copy_original_dict = original_dict.copy()\n",
    "print(copy_original_dict)\n",
    "print(id(copy_original_dict) == id(original_dict))"
   ]
  },
  {
   "cell_type": "markdown",
   "metadata": {},
   "source": [
    "#### Spread Operator"
   ]
  },
  {
   "cell_type": "code",
   "execution_count": 35,
   "metadata": {},
   "outputs": [
    {
     "name": "stdout",
     "output_type": "stream",
     "text": [
      "{'one': 1, 'two': 2, 'three': 3, 'four': 4, 'five': 5, 'six': 6, 'seven': 7, 'eight': 8}\n",
      "False\n"
     ]
    }
   ],
   "source": [
    "spread_original_dict = {**original_dict}\n",
    "print(copy_original_dict)\n",
    "print(id(spread_original_dict) == id(original_dict))"
   ]
  },
  {
   "cell_type": "markdown",
   "metadata": {},
   "source": [
    "#### Dict Comprehend"
   ]
  },
  {
   "cell_type": "code",
   "execution_count": 38,
   "metadata": {},
   "outputs": [
    {
     "name": "stdout",
     "output_type": "stream",
     "text": [
      "{'one': 1, 'two': 2, 'three': 3, 'four': 4, 'five': 5, 'six': 6, 'seven': 7, 'eight': 8}\n",
      "False\n"
     ]
    }
   ],
   "source": [
    "comprehend_original_dict = {element:original_dict[element] for element in original_dict}\n",
    "print(comprehend_original_dict)\n",
    "print(id(comprehend_original_dict) == id(original_dict))"
   ]
  },
  {
   "cell_type": "markdown",
   "metadata": {},
   "source": [
    "# If else"
   ]
  },
  {
   "cell_type": "code",
   "execution_count": null,
   "metadata": {},
   "outputs": [],
   "source": []
  }
 ],
 "metadata": {
  "kernelspec": {
   "display_name": "Python 3",
   "language": "python",
   "name": "python3"
  },
  "language_info": {
   "codemirror_mode": {
    "name": "ipython",
    "version": 3
   },
   "file_extension": ".py",
   "mimetype": "text/x-python",
   "name": "python",
   "nbconvert_exporter": "python",
   "pygments_lexer": "ipython3",
   "version": "3.8.5"
  }
 },
 "nbformat": 4,
 "nbformat_minor": 4
}
