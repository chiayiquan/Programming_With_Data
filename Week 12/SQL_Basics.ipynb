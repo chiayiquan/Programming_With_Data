{
 "cells": [
  {
   "cell_type": "markdown",
   "metadata": {},
   "source": [
    "# Let's jump right in and start looking at some practical SQL\n",
    "\n",
    "In this exercise we are going to rely on SQLite. This is a small, fast and lightweight SQL variant. In the lecture examples we saw MySQL. All variants of SQL work in a similar way. We chose SQLite for these exercises because of the lightweight profile and the ability to work from a local instance without a complicated setup. \n",
    "\n",
    "[Find out more here](https://www.w3resource.com/sqlite/)"
   ]
  },
  {
   "cell_type": "code",
   "execution_count": 6,
   "metadata": {},
   "outputs": [
    {
     "name": "stdout",
     "output_type": "stream",
     "text": [
      "Requirement already satisfied: sql in d:\\anaconda3\\lib\\site-packages (0.4.0)\n",
      "Requirement already satisfied: ipython-sql in d:\\anaconda3\\lib\\site-packages (0.4.0)\n",
      "Requirement already satisfied: sqlparse in d:\\anaconda3\\lib\\site-packages (from ipython-sql) (0.4.1)\n",
      "Requirement already satisfied: ipython-genutils>=0.1.0 in d:\\anaconda3\\lib\\site-packages (from ipython-sql) (0.2.0)\n",
      "Requirement already satisfied: prettytable<1 in d:\\anaconda3\\lib\\site-packages (from ipython-sql) (0.7.2)\n",
      "Requirement already satisfied: ipython>=1.0 in d:\\anaconda3\\lib\\site-packages (from ipython-sql) (7.19.0)\n",
      "Requirement already satisfied: sqlalchemy>=0.6.7 in d:\\anaconda3\\lib\\site-packages (from ipython-sql) (1.3.20)\n",
      "Requirement already satisfied: six in d:\\anaconda3\\lib\\site-packages (from ipython-sql) (1.15.0)\n",
      "Requirement already satisfied: traitlets>=4.2 in d:\\anaconda3\\lib\\site-packages (from ipython>=1.0->ipython-sql) (5.0.5)\n",
      "Requirement already satisfied: pygments in d:\\anaconda3\\lib\\site-packages (from ipython>=1.0->ipython-sql) (2.7.2)\n",
      "Requirement already satisfied: decorator in d:\\anaconda3\\lib\\site-packages (from ipython>=1.0->ipython-sql) (4.4.2)\n",
      "Requirement already satisfied: jedi>=0.10 in d:\\anaconda3\\lib\\site-packages (from ipython>=1.0->ipython-sql) (0.17.1)\n",
      "Requirement already satisfied: setuptools>=18.5 in d:\\anaconda3\\lib\\site-packages (from ipython>=1.0->ipython-sql) (50.3.1.post20201107)\n",
      "Requirement already satisfied: prompt-toolkit!=3.0.0,!=3.0.1,<3.1.0,>=2.0.0 in d:\\anaconda3\\lib\\site-packages (from ipython>=1.0->ipython-sql) (3.0.8)\n",
      "Requirement already satisfied: pickleshare in d:\\anaconda3\\lib\\site-packages (from ipython>=1.0->ipython-sql) (0.7.5)\n",
      "Requirement already satisfied: backcall in d:\\anaconda3\\lib\\site-packages (from ipython>=1.0->ipython-sql) (0.2.0)\n",
      "Requirement already satisfied: colorama; sys_platform == \"win32\" in d:\\anaconda3\\lib\\site-packages (from ipython>=1.0->ipython-sql) (0.4.4)\n",
      "Requirement already satisfied: parso<0.8.0,>=0.7.0 in d:\\anaconda3\\lib\\site-packages (from jedi>=0.10->ipython>=1.0->ipython-sql) (0.7.0)\n",
      "Requirement already satisfied: wcwidth in d:\\anaconda3\\lib\\site-packages (from prompt-toolkit!=3.0.0,!=3.0.1,<3.1.0,>=2.0.0->ipython>=1.0->ipython-sql) (0.2.5)\n"
     ]
    }
   ],
   "source": [
    "!pip install sql ipython-sql"
   ]
  },
  {
   "cell_type": "code",
   "execution_count": 7,
   "metadata": {},
   "outputs": [],
   "source": [
    "import sqlite3 as sql\n",
    "import pandas as pd\n"
   ]
  },
  {
   "cell_type": "code",
   "execution_count": 8,
   "metadata": {},
   "outputs": [
    {
     "name": "stdout",
     "output_type": "stream",
     "text": [
      "The sql extension is already loaded. To reload it, use:\n",
      "  %reload_ext sql\n"
     ]
    }
   ],
   "source": [
    "%load_ext sql"
   ]
  },
  {
   "cell_type": "markdown",
   "metadata": {},
   "source": [
    "Let's begin by creating a database. The following command will create a local instance of our database with the name dataProgramming.db. If you get an error then check:\n",
    "- That you have run the above code cell and that the libraries are installed and working on your machine.\n",
    "- That you have the correct permissions on your local machine.\n"
   ]
  },
  {
   "cell_type": "code",
   "execution_count": 9,
   "metadata": {},
   "outputs": [],
   "source": [
    "%sql sqlite:///dataProgramming.db"
   ]
  },
  {
   "cell_type": "markdown",
   "metadata": {},
   "source": [
    "## Create a table\n",
    "\n",
    "***%%sql*** let you use multiple SQL statements inside a single cell. \n",
    "\n",
    "It is now time to create one using a standard SQL command – CREATE TABLE. If the table already existed in the database, an error will pop up. In addition, we set ***PRIMARY KEY*** on USERID to prevent from inserting duplicate writers into the table."
   ]
  },
  {
   "cell_type": "code",
   "execution_count": 10,
   "metadata": {},
   "outputs": [
    {
     "name": "stdout",
     "output_type": "stream",
     "text": [
      "(sqlite3.OperationalError) no such table: Users\n",
      "[SQL: Drop Table Users]\n",
      "(Background on this error at: http://sqlalche.me/e/13/e3q8)\n"
     ]
    }
   ],
   "source": [
    "%%sql sqlite://\n",
    "    Drop Table Users"
   ]
  },
  {
   "cell_type": "code",
   "execution_count": 11,
   "metadata": {},
   "outputs": [
    {
     "name": "stdout",
     "output_type": "stream",
     "text": [
      "(sqlite3.OperationalError) unrecognized token: \"#\"\n",
      "[SQL: CREATE TABLE users(\n",
      "    FirstName VARCHAR(30) NOT NULL,\n",
      "    LastName VARCHAR(30) NOT NULL,  \n",
      "    USERID int  NOT NULL UNIQUE,\n",
      "    EMAIL VARCHAR(50), # nullable\n",
      "    PRIMARY KEY (USERID)\n",
      ");]\n",
      "(Background on this error at: http://sqlalche.me/e/13/e3q8)\n"
     ]
    }
   ],
   "source": [
    "%%sql sqlite://\n",
    "CREATE TABLE users(\n",
    "    FirstName VARCHAR(30) NOT NULL,\n",
    "    LastName VARCHAR(30) NOT NULL,  \n",
    "    USERID int  NOT NULL UNIQUE,\n",
    "    EMAIL VARCHAR(50), # nullable\n",
    "    PRIMARY KEY (USERID)\n",
    ");"
   ]
  },
  {
   "cell_type": "markdown",
   "metadata": {},
   "source": [
    "# Playing with queries\n",
    "Let's add some users. To find out more about this command, read [here](https://www.w3schools.com/sql/sql_insert.asp) \n",
    "\n",
    "Run this code and then try to add four users of your own. What happens if you do not insert data in the NOT NULL fields?"
   ]
  },
  {
   "cell_type": "code",
   "execution_count": 12,
   "metadata": {},
   "outputs": [
    {
     "name": "stdout",
     "output_type": "stream",
     "text": [
      "(sqlite3.OperationalError) no such table: users\n",
      "[SQL: INSERT INTO users(FirstName,LastName,USERID) VALUES ('Ghulam', 'Baker', 1);]\n",
      "(Background on this error at: http://sqlalche.me/e/13/e3q8)\n"
     ]
    }
   ],
   "source": [
    "%%sql sqlite://\n",
    "INSERT INTO users(FirstName,LastName,USERID) VALUES ('Ghulam', 'Baker', 1);\n",
    "INSERT INTO users(FirstName,LastName,USERID) VALUES ('Savannah', 'Shelton', 2);\n",
    "# You will get an error if you try to run this more than once as there are UNIQUE requirements for these fields."
   ]
  },
  {
   "cell_type": "markdown",
   "metadata": {},
   "source": [
    "### Insert Multiple Values"
   ]
  },
  {
   "cell_type": "code",
   "execution_count": 13,
   "metadata": {},
   "outputs": [
    {
     "name": "stdout",
     "output_type": "stream",
     "text": [
      " * sqlite:///dataProgramming.db\n",
      "(sqlite3.OperationalError) no such table: users\n",
      "[SQL: Insert Into users (FirstName, LastName, USERID) Values ('Anthony', 'Chia', 3),\n",
      "('Brian', 'Lee', 4),\n",
      "('Angel', 'Tan', 5),\n",
      "('Liam', 'Neckson', 6),\n",
      "('Henry', 'Park', 7),\n",
      "('Daniel', 'Boon', 8),\n",
      "('Hazel', 'Tan', 9),\n",
      "('Susanna', 'Quek', 10),\n",
      "('Sylvia', 'Yeoh', 11),\n",
      "('Britaina', 'Kwok', 12),\n",
      "('Angeline', 'Zan', 13),\n",
      "('Lennon', 'Neson',14),\n",
      "('Harrison', 'WIlliam', 15),\n",
      "('William', 'Black', 16),\n",
      "('Bill', 'Clinson', 17),\n",
      "('Gate', 'Way', 18),\n",
      "('Cynthia', 'Yeoh', 19)]\n",
      "(Background on this error at: http://sqlalche.me/e/13/e3q8)\n"
     ]
    }
   ],
   "source": [
    "%%sql Insert Into users (FirstName, LastName, USERID) Values ('Anthony', 'Chia', 3),\n",
    "('Brian', 'Lee', 4),\n",
    "('Angel', 'Tan', 5),\n",
    "('Liam', 'Neckson', 6),\n",
    "('Henry', 'Park', 7),\n",
    "('Daniel', 'Boon', 8),\n",
    "('Hazel', 'Tan', 9),\n",
    "('Susanna', 'Quek', 10),\n",
    "('Sylvia', 'Yeoh', 11),\n",
    "('Britaina', 'Kwok', 12),\n",
    "('Angeline', 'Zan', 13),\n",
    "('Lennon', 'Neson',14),\n",
    "('Harrison', 'WIlliam', 15),\n",
    "('William', 'Black', 16),\n",
    "('Bill', 'Clinson', 17),\n",
    "('Gate', 'Way', 18),\n",
    "('Cynthia', 'Yeoh', 19)"
   ]
  },
  {
   "cell_type": "markdown",
   "metadata": {},
   "source": [
    "## Our first query\n",
    "\n",
    "Let's now try to get some data back. Databases are not all about inserting, in fact queries are more useful. Let's grab all of our data. We can do this by using SELECT and signifying * which is a parameter which indicates all of the columns of a table."
   ]
  },
  {
   "cell_type": "code",
   "execution_count": 14,
   "metadata": {},
   "outputs": [
    {
     "name": "stdout",
     "output_type": "stream",
     "text": [
      "(sqlite3.OperationalError) no such table: users\n",
      "[SQL: SELECT * from users]\n",
      "(Background on this error at: http://sqlalche.me/e/13/e3q8)\n"
     ]
    }
   ],
   "source": [
    "\n",
    "%%sql sqlite://\n",
    "SELECT * from users"
   ]
  },
  {
   "cell_type": "code",
   "execution_count": 15,
   "metadata": {
    "scrolled": true
   },
   "outputs": [
    {
     "name": "stdout",
     "output_type": "stream",
     "text": [
      " * sqlite:///dataProgramming.db\n",
      "(sqlite3.OperationalError) no such table: users\n",
      "[SQL: SELECT * from users]\n",
      "(Background on this error at: http://sqlalche.me/e/13/e3q8)\n"
     ]
    }
   ],
   "source": [
    "# one line.. assign\n",
    "sqlres = %sql SELECT * from users\n",
    "sqlres"
   ]
  },
  {
   "cell_type": "code",
   "execution_count": 33,
   "metadata": {},
   "outputs": [
    {
     "name": "stdout",
     "output_type": "stream",
     "text": [
      " * sqlite:///dataProgramming.db\n",
      "Done.\n"
     ]
    },
    {
     "data": {
      "text/html": [
       "<table>\n",
       "    <tr>\n",
       "        <th>FirstName</th>\n",
       "        <th>LastName</th>\n",
       "        <th>USERID</th>\n",
       "        <th>EMAIL</th>\n",
       "    </tr>\n",
       "    <tr>\n",
       "        <td>Ghulam</td>\n",
       "        <td>Baker</td>\n",
       "        <td>1</td>\n",
       "        <td>None</td>\n",
       "    </tr>\n",
       "    <tr>\n",
       "        <td>Savannah</td>\n",
       "        <td>Shelton</td>\n",
       "        <td>2</td>\n",
       "        <td>None</td>\n",
       "    </tr>\n",
       "    <tr>\n",
       "        <td>Anthony</td>\n",
       "        <td>Chia</td>\n",
       "        <td>3</td>\n",
       "        <td>None</td>\n",
       "    </tr>\n",
       "    <tr>\n",
       "        <td>Brian</td>\n",
       "        <td>Lee</td>\n",
       "        <td>4</td>\n",
       "        <td>None</td>\n",
       "    </tr>\n",
       "    <tr>\n",
       "        <td>Angel</td>\n",
       "        <td>Tan</td>\n",
       "        <td>5</td>\n",
       "        <td>None</td>\n",
       "    </tr>\n",
       "    <tr>\n",
       "        <td>Liam</td>\n",
       "        <td>Neckson</td>\n",
       "        <td>6</td>\n",
       "        <td>None</td>\n",
       "    </tr>\n",
       "    <tr>\n",
       "        <td>Henry</td>\n",
       "        <td>Park</td>\n",
       "        <td>7</td>\n",
       "        <td>None</td>\n",
       "    </tr>\n",
       "    <tr>\n",
       "        <td>Daniel</td>\n",
       "        <td>Boon</td>\n",
       "        <td>8</td>\n",
       "        <td>None</td>\n",
       "    </tr>\n",
       "    <tr>\n",
       "        <td>Hazel</td>\n",
       "        <td>Tan</td>\n",
       "        <td>9</td>\n",
       "        <td>None</td>\n",
       "    </tr>\n",
       "    <tr>\n",
       "        <td>Susanna</td>\n",
       "        <td>Quek</td>\n",
       "        <td>10</td>\n",
       "        <td>None</td>\n",
       "    </tr>\n",
       "    <tr>\n",
       "        <td>Sylvia</td>\n",
       "        <td>Yeoh</td>\n",
       "        <td>11</td>\n",
       "        <td>None</td>\n",
       "    </tr>\n",
       "    <tr>\n",
       "        <td>Britaina</td>\n",
       "        <td>Kwok</td>\n",
       "        <td>12</td>\n",
       "        <td>None</td>\n",
       "    </tr>\n",
       "    <tr>\n",
       "        <td>Angeline</td>\n",
       "        <td>Zan</td>\n",
       "        <td>13</td>\n",
       "        <td>None</td>\n",
       "    </tr>\n",
       "    <tr>\n",
       "        <td>Lennon</td>\n",
       "        <td>Neson</td>\n",
       "        <td>14</td>\n",
       "        <td>None</td>\n",
       "    </tr>\n",
       "    <tr>\n",
       "        <td>Harrison</td>\n",
       "        <td>WIlliam</td>\n",
       "        <td>15</td>\n",
       "        <td>None</td>\n",
       "    </tr>\n",
       "    <tr>\n",
       "        <td>William</td>\n",
       "        <td>Black</td>\n",
       "        <td>16</td>\n",
       "        <td>None</td>\n",
       "    </tr>\n",
       "    <tr>\n",
       "        <td>Bill</td>\n",
       "        <td>Clinson</td>\n",
       "        <td>17</td>\n",
       "        <td>None</td>\n",
       "    </tr>\n",
       "    <tr>\n",
       "        <td>Gate</td>\n",
       "        <td>Way</td>\n",
       "        <td>18</td>\n",
       "        <td>None</td>\n",
       "    </tr>\n",
       "    <tr>\n",
       "        <td>Cynthia</td>\n",
       "        <td>Yeoh</td>\n",
       "        <td>19</td>\n",
       "        <td>None</td>\n",
       "    </tr>\n",
       "</table>"
      ],
      "text/plain": [
       "[('Ghulam', 'Baker', 1, None),\n",
       " ('Savannah', 'Shelton', 2, None),\n",
       " ('Anthony', 'Chia', 3, None),\n",
       " ('Brian', 'Lee', 4, None),\n",
       " ('Angel', 'Tan', 5, None),\n",
       " ('Liam', 'Neckson', 6, None),\n",
       " ('Henry', 'Park', 7, None),\n",
       " ('Daniel', 'Boon', 8, None),\n",
       " ('Hazel', 'Tan', 9, None),\n",
       " ('Susanna', 'Quek', 10, None),\n",
       " ('Sylvia', 'Yeoh', 11, None),\n",
       " ('Britaina', 'Kwok', 12, None),\n",
       " ('Angeline', 'Zan', 13, None),\n",
       " ('Lennon', 'Neson', 14, None),\n",
       " ('Harrison', 'WIlliam', 15, None),\n",
       " ('William', 'Black', 16, None),\n",
       " ('Bill', 'Clinson', 17, None),\n",
       " ('Gate', 'Way', 18, None),\n",
       " ('Cynthia', 'Yeoh', 19, None)]"
      ]
     },
     "execution_count": 33,
     "metadata": {},
     "output_type": "execute_result"
    }
   ],
   "source": [
    "# one line\n",
    "%sql SELECT * from users"
   ]
  },
  {
   "cell_type": "markdown",
   "metadata": {},
   "source": [
    "What about if we want to select just the names of people in the table? In this case we are not concerned with the USERID. Let's have a look at how we might construct such a query."
   ]
  },
  {
   "cell_type": "code",
   "execution_count": 34,
   "metadata": {},
   "outputs": [
    {
     "name": "stdout",
     "output_type": "stream",
     "text": [
      " * sqlite:///dataProgramming.db\n",
      "Done.\n"
     ]
    },
    {
     "data": {
      "text/html": [
       "<table>\n",
       "    <tr>\n",
       "        <th>FirstName</th>\n",
       "        <th>LastName</th>\n",
       "    </tr>\n",
       "    <tr>\n",
       "        <td>Ghulam</td>\n",
       "        <td>Baker</td>\n",
       "    </tr>\n",
       "    <tr>\n",
       "        <td>Savannah</td>\n",
       "        <td>Shelton</td>\n",
       "    </tr>\n",
       "    <tr>\n",
       "        <td>Anthony</td>\n",
       "        <td>Chia</td>\n",
       "    </tr>\n",
       "    <tr>\n",
       "        <td>Brian</td>\n",
       "        <td>Lee</td>\n",
       "    </tr>\n",
       "    <tr>\n",
       "        <td>Angel</td>\n",
       "        <td>Tan</td>\n",
       "    </tr>\n",
       "    <tr>\n",
       "        <td>Liam</td>\n",
       "        <td>Neckson</td>\n",
       "    </tr>\n",
       "    <tr>\n",
       "        <td>Henry</td>\n",
       "        <td>Park</td>\n",
       "    </tr>\n",
       "    <tr>\n",
       "        <td>Daniel</td>\n",
       "        <td>Boon</td>\n",
       "    </tr>\n",
       "    <tr>\n",
       "        <td>Hazel</td>\n",
       "        <td>Tan</td>\n",
       "    </tr>\n",
       "    <tr>\n",
       "        <td>Susanna</td>\n",
       "        <td>Quek</td>\n",
       "    </tr>\n",
       "    <tr>\n",
       "        <td>Sylvia</td>\n",
       "        <td>Yeoh</td>\n",
       "    </tr>\n",
       "    <tr>\n",
       "        <td>Britaina</td>\n",
       "        <td>Kwok</td>\n",
       "    </tr>\n",
       "    <tr>\n",
       "        <td>Angeline</td>\n",
       "        <td>Zan</td>\n",
       "    </tr>\n",
       "    <tr>\n",
       "        <td>Lennon</td>\n",
       "        <td>Neson</td>\n",
       "    </tr>\n",
       "    <tr>\n",
       "        <td>Harrison</td>\n",
       "        <td>WIlliam</td>\n",
       "    </tr>\n",
       "    <tr>\n",
       "        <td>William</td>\n",
       "        <td>Black</td>\n",
       "    </tr>\n",
       "    <tr>\n",
       "        <td>Bill</td>\n",
       "        <td>Clinson</td>\n",
       "    </tr>\n",
       "    <tr>\n",
       "        <td>Gate</td>\n",
       "        <td>Way</td>\n",
       "    </tr>\n",
       "    <tr>\n",
       "        <td>Cynthia</td>\n",
       "        <td>Yeoh</td>\n",
       "    </tr>\n",
       "</table>"
      ],
      "text/plain": [
       "[('Ghulam', 'Baker'),\n",
       " ('Savannah', 'Shelton'),\n",
       " ('Anthony', 'Chia'),\n",
       " ('Brian', 'Lee'),\n",
       " ('Angel', 'Tan'),\n",
       " ('Liam', 'Neckson'),\n",
       " ('Henry', 'Park'),\n",
       " ('Daniel', 'Boon'),\n",
       " ('Hazel', 'Tan'),\n",
       " ('Susanna', 'Quek'),\n",
       " ('Sylvia', 'Yeoh'),\n",
       " ('Britaina', 'Kwok'),\n",
       " ('Angeline', 'Zan'),\n",
       " ('Lennon', 'Neson'),\n",
       " ('Harrison', 'WIlliam'),\n",
       " ('William', 'Black'),\n",
       " ('Bill', 'Clinson'),\n",
       " ('Gate', 'Way'),\n",
       " ('Cynthia', 'Yeoh')]"
      ]
     },
     "execution_count": 34,
     "metadata": {},
     "output_type": "execute_result"
    }
   ],
   "source": [
    "sqlres = %sql SELECT FirstName, LastName from users\n",
    "sqlres"
   ]
  },
  {
   "cell_type": "code",
   "execution_count": null,
   "metadata": {},
   "outputs": [],
   "source": []
  },
  {
   "cell_type": "markdown",
   "metadata": {},
   "source": [
    "### 1. TRY YOURSELF (2 minutes)\n"
   ]
  },
  {
   "cell_type": "code",
   "execution_count": 51,
   "metadata": {},
   "outputs": [
    {
     "name": "stdout",
     "output_type": "stream",
     "text": [
      " * sqlite:///dataProgramming.db\n",
      "Done.\n"
     ]
    },
    {
     "data": {
      "text/html": [
       "<table>\n",
       "    <tr>\n",
       "        <th>FirstName</th>\n",
       "        <th>LastName</th>\n",
       "        <th>USERID</th>\n",
       "        <th>EMAIL</th>\n",
       "    </tr>\n",
       "    <tr>\n",
       "        <td>Savannah</td>\n",
       "        <td>Shelton</td>\n",
       "        <td>2</td>\n",
       "        <td>None</td>\n",
       "    </tr>\n",
       "</table>"
      ],
      "text/plain": [
       "[('Savannah', 'Shelton', 2, None)]"
      ]
     },
     "execution_count": 51,
     "metadata": {},
     "output_type": "execute_result"
    }
   ],
   "source": [
    "''' \n",
    "What about if we want to query specific things based on more complex logic? \n",
    "Look up Savannah's user ID and put it between the apostrophes in the USERID=''\n",
    "'''\n",
    "\n",
    "%sql SELECT * FROM users WHERE USERID='2'"
   ]
  },
  {
   "cell_type": "code",
   "execution_count": 53,
   "metadata": {},
   "outputs": [
    {
     "name": "stdout",
     "output_type": "stream",
     "text": [
      " * sqlite:///dataProgramming.db\n",
      "Done.\n"
     ]
    },
    {
     "data": {
      "text/html": [
       "<table>\n",
       "    <tr>\n",
       "        <th>FirstName</th>\n",
       "        <th>LastName</th>\n",
       "        <th>USERID</th>\n",
       "        <th>EMAIL</th>\n",
       "    </tr>\n",
       "    <tr>\n",
       "        <td>Savannah</td>\n",
       "        <td>Shelton</td>\n",
       "        <td>2</td>\n",
       "        <td>None</td>\n",
       "    </tr>\n",
       "</table>"
      ],
      "text/plain": [
       "[('Savannah', 'Shelton', 2, None)]"
      ]
     },
     "execution_count": 53,
     "metadata": {},
     "output_type": "execute_result"
    }
   ],
   "source": [
    "# We can even do mathematical operations inline, for instance we could use the mod function (%) \n",
    "# and look for even fields (divisible by 2 where the integer remainder = 0 ie no remainder.)\n",
    "%sql SELECT * FROM users WHERE FirstName='Savannah' and USERID %2 = 0"
   ]
  },
  {
   "cell_type": "markdown",
   "metadata": {},
   "source": [
    "### 2. Try yourself:\n",
    "\n",
    "#### find how many people with Surname 'Tan' (2 minutes)"
   ]
  },
  {
   "cell_type": "code",
   "execution_count": 55,
   "metadata": {},
   "outputs": [
    {
     "name": "stdout",
     "output_type": "stream",
     "text": [
      " * sqlite:///dataProgramming.db\n",
      "Done.\n"
     ]
    },
    {
     "data": {
      "text/html": [
       "<table>\n",
       "    <tr>\n",
       "        <th>FirstName</th>\n",
       "        <th>LastName</th>\n",
       "        <th>USERID</th>\n",
       "        <th>EMAIL</th>\n",
       "    </tr>\n",
       "    <tr>\n",
       "        <td>Angel</td>\n",
       "        <td>Tan</td>\n",
       "        <td>5</td>\n",
       "        <td>None</td>\n",
       "    </tr>\n",
       "    <tr>\n",
       "        <td>Hazel</td>\n",
       "        <td>Tan</td>\n",
       "        <td>9</td>\n",
       "        <td>None</td>\n",
       "    </tr>\n",
       "</table>"
      ],
      "text/plain": [
       "[('Angel', 'Tan', 5, None), ('Hazel', 'Tan', 9, None)]"
      ]
     },
     "execution_count": 55,
     "metadata": {},
     "output_type": "execute_result"
    }
   ],
   "source": [
    "%sql SELECT * FROM users WHERE LASTNAME='Tan'"
   ]
  },
  {
   "cell_type": "code",
   "execution_count": null,
   "metadata": {},
   "outputs": [],
   "source": []
  },
  {
   "cell_type": "code",
   "execution_count": null,
   "metadata": {},
   "outputs": [],
   "source": []
  },
  {
   "cell_type": "markdown",
   "metadata": {},
   "source": [
    "### 3. TRY YOURSELF\n",
    "*** FIND persons whose name start with S  e.g., Savannah, Susanna, Sylvia\n",
    "\n",
    "See https://www.w3schools.com/sql/sql_like.asp"
   ]
  },
  {
   "cell_type": "code",
   "execution_count": 39,
   "metadata": {},
   "outputs": [
    {
     "name": "stdout",
     "output_type": "stream",
     "text": [
      " * sqlite:///dataProgramming.db\n",
      "Done.\n"
     ]
    },
    {
     "data": {
      "text/html": [
       "<table>\n",
       "    <tr>\n",
       "        <th>FirstName</th>\n",
       "        <th>LastName</th>\n",
       "        <th>USERID</th>\n",
       "        <th>EMAIL</th>\n",
       "    </tr>\n",
       "    <tr>\n",
       "        <td>Savannah</td>\n",
       "        <td>Shelton</td>\n",
       "        <td>2</td>\n",
       "        <td>None</td>\n",
       "    </tr>\n",
       "    <tr>\n",
       "        <td>Susanna</td>\n",
       "        <td>Quek</td>\n",
       "        <td>10</td>\n",
       "        <td>None</td>\n",
       "    </tr>\n",
       "    <tr>\n",
       "        <td>Sylvia</td>\n",
       "        <td>Yeoh</td>\n",
       "        <td>11</td>\n",
       "        <td>None</td>\n",
       "    </tr>\n",
       "</table>"
      ],
      "text/plain": [
       "[('Savannah', 'Shelton', 2, None),\n",
       " ('Susanna', 'Quek', 10, None),\n",
       " ('Sylvia', 'Yeoh', 11, None)]"
      ]
     },
     "execution_count": 39,
     "metadata": {},
     "output_type": "execute_result"
    }
   ],
   "source": [
    "%sql SELECT * FROM users WHERE FIRSTNAME LIKE 'S%'"
   ]
  },
  {
   "cell_type": "code",
   "execution_count": null,
   "metadata": {},
   "outputs": [],
   "source": []
  },
  {
   "cell_type": "markdown",
   "metadata": {},
   "source": [
    "## Can we rename the table headings from the data we get back from our query? See if you can figure this out using AS\n",
    "\n",
    "[The AS command](https://www.w3schools.com/sql/sql_ref_as.asp)"
   ]
  },
  {
   "cell_type": "markdown",
   "metadata": {},
   "source": [
    "### 4. TRY Using AS"
   ]
  },
  {
   "cell_type": "code",
   "execution_count": null,
   "metadata": {},
   "outputs": [],
   "source": [
    "# SELECT something AS something FROM somewhere;\n"
   ]
  },
  {
   "cell_type": "markdown",
   "metadata": {},
   "source": [
    "Has the AS command changed the initial data from the table? Run a query on the table to see if it has changed."
   ]
  },
  {
   "cell_type": "code",
   "execution_count": null,
   "metadata": {},
   "outputs": [],
   "source": []
  },
  {
   "cell_type": "code",
   "execution_count": 56,
   "metadata": {},
   "outputs": [
    {
     "name": "stdout",
     "output_type": "stream",
     "text": [
      " * sqlite:///dataProgramming.db\n",
      "Done.\n"
     ]
    },
    {
     "data": {
      "text/html": [
       "<table>\n",
       "    <tr>\n",
       "        <th>First Name</th>\n",
       "        <th>Last Name</th>\n",
       "    </tr>\n",
       "    <tr>\n",
       "        <td>Ghulam</td>\n",
       "        <td>Baker</td>\n",
       "    </tr>\n",
       "    <tr>\n",
       "        <td>Savannah</td>\n",
       "        <td>Shelton</td>\n",
       "    </tr>\n",
       "    <tr>\n",
       "        <td>Anthony</td>\n",
       "        <td>Chia</td>\n",
       "    </tr>\n",
       "    <tr>\n",
       "        <td>Brian</td>\n",
       "        <td>Lee</td>\n",
       "    </tr>\n",
       "    <tr>\n",
       "        <td>Angel</td>\n",
       "        <td>Tan</td>\n",
       "    </tr>\n",
       "    <tr>\n",
       "        <td>Liam</td>\n",
       "        <td>Neckson</td>\n",
       "    </tr>\n",
       "    <tr>\n",
       "        <td>Henry</td>\n",
       "        <td>Park</td>\n",
       "    </tr>\n",
       "    <tr>\n",
       "        <td>Daniel</td>\n",
       "        <td>Boon</td>\n",
       "    </tr>\n",
       "    <tr>\n",
       "        <td>Hazel</td>\n",
       "        <td>Tan</td>\n",
       "    </tr>\n",
       "    <tr>\n",
       "        <td>Susanna</td>\n",
       "        <td>Quek</td>\n",
       "    </tr>\n",
       "    <tr>\n",
       "        <td>Sylvia</td>\n",
       "        <td>Yeoh</td>\n",
       "    </tr>\n",
       "    <tr>\n",
       "        <td>Britaina</td>\n",
       "        <td>Kwok</td>\n",
       "    </tr>\n",
       "    <tr>\n",
       "        <td>Angeline</td>\n",
       "        <td>Zan</td>\n",
       "    </tr>\n",
       "    <tr>\n",
       "        <td>Lennon</td>\n",
       "        <td>Neson</td>\n",
       "    </tr>\n",
       "    <tr>\n",
       "        <td>Harrison</td>\n",
       "        <td>WIlliam</td>\n",
       "    </tr>\n",
       "    <tr>\n",
       "        <td>William</td>\n",
       "        <td>Black</td>\n",
       "    </tr>\n",
       "    <tr>\n",
       "        <td>Bill</td>\n",
       "        <td>Clinson</td>\n",
       "    </tr>\n",
       "    <tr>\n",
       "        <td>Gate</td>\n",
       "        <td>Way</td>\n",
       "    </tr>\n",
       "    <tr>\n",
       "        <td>Cynthia</td>\n",
       "        <td>Yeoh</td>\n",
       "    </tr>\n",
       "</table>"
      ],
      "text/plain": [
       "[('Ghulam', 'Baker'),\n",
       " ('Savannah', 'Shelton'),\n",
       " ('Anthony', 'Chia'),\n",
       " ('Brian', 'Lee'),\n",
       " ('Angel', 'Tan'),\n",
       " ('Liam', 'Neckson'),\n",
       " ('Henry', 'Park'),\n",
       " ('Daniel', 'Boon'),\n",
       " ('Hazel', 'Tan'),\n",
       " ('Susanna', 'Quek'),\n",
       " ('Sylvia', 'Yeoh'),\n",
       " ('Britaina', 'Kwok'),\n",
       " ('Angeline', 'Zan'),\n",
       " ('Lennon', 'Neson'),\n",
       " ('Harrison', 'WIlliam'),\n",
       " ('William', 'Black'),\n",
       " ('Bill', 'Clinson'),\n",
       " ('Gate', 'Way'),\n",
       " ('Cynthia', 'Yeoh')]"
      ]
     },
     "execution_count": 56,
     "metadata": {},
     "output_type": "execute_result"
    }
   ],
   "source": [
    "# SELECT something AS something FROM somewhere;\n",
    "%sql SELECT FirstName as [First Name], LastName as [Last Name] from users"
   ]
  },
  {
   "cell_type": "markdown",
   "metadata": {},
   "source": [
    "We saw the '*' parameter earlier, where we pull all of our data back. In some cases these sorts of queries can be really inefficient (and expensive!). When our queries bring back all rows and all columns for\n",
    "a table, it can be really inefficient (and expensive!).  \n",
    "\n",
    "One way that we can overcome this is by limiting the number of rows we return. \n",
    "\n",
    "We can limit the number of rows returned using the LIMIT modifier to our select statement:"
   ]
  },
  {
   "cell_type": "code",
   "execution_count": 57,
   "metadata": {},
   "outputs": [
    {
     "name": "stdout",
     "output_type": "stream",
     "text": [
      " * sqlite:///dataProgramming.db\n",
      "Done.\n"
     ]
    },
    {
     "data": {
      "text/html": [
       "<table>\n",
       "    <tr>\n",
       "        <th>FirstName</th>\n",
       "        <th>LastName</th>\n",
       "        <th>USERID</th>\n",
       "        <th>EMAIL</th>\n",
       "    </tr>\n",
       "    <tr>\n",
       "        <td>Ghulam</td>\n",
       "        <td>Baker</td>\n",
       "        <td>1</td>\n",
       "        <td>None</td>\n",
       "    </tr>\n",
       "</table>"
      ],
      "text/plain": [
       "[('Ghulam', 'Baker', 1, None)]"
      ]
     },
     "execution_count": 57,
     "metadata": {},
     "output_type": "execute_result"
    }
   ],
   "source": [
    "%sql SELECT * From users LIMIT 1"
   ]
  },
  {
   "cell_type": "code",
   "execution_count": 58,
   "metadata": {},
   "outputs": [
    {
     "name": "stdout",
     "output_type": "stream",
     "text": [
      " * sqlite:///dataProgramming.db\n",
      "Done.\n"
     ]
    },
    {
     "data": {
      "text/html": [
       "<table>\n",
       "    <tr>\n",
       "        <th>FirstName</th>\n",
       "        <th>LastName</th>\n",
       "        <th>USERID</th>\n",
       "        <th>EMAIL</th>\n",
       "    </tr>\n",
       "    <tr>\n",
       "        <td>Ghulam</td>\n",
       "        <td>Baker</td>\n",
       "        <td>1</td>\n",
       "        <td>None</td>\n",
       "    </tr>\n",
       "    <tr>\n",
       "        <td>William</td>\n",
       "        <td>Black</td>\n",
       "        <td>16</td>\n",
       "        <td>None</td>\n",
       "    </tr>\n",
       "    <tr>\n",
       "        <td>Daniel</td>\n",
       "        <td>Boon</td>\n",
       "        <td>8</td>\n",
       "        <td>None</td>\n",
       "    </tr>\n",
       "    <tr>\n",
       "        <td>Anthony</td>\n",
       "        <td>Chia</td>\n",
       "        <td>3</td>\n",
       "        <td>None</td>\n",
       "    </tr>\n",
       "    <tr>\n",
       "        <td>Bill</td>\n",
       "        <td>Clinson</td>\n",
       "        <td>17</td>\n",
       "        <td>None</td>\n",
       "    </tr>\n",
       "    <tr>\n",
       "        <td>Britaina</td>\n",
       "        <td>Kwok</td>\n",
       "        <td>12</td>\n",
       "        <td>None</td>\n",
       "    </tr>\n",
       "    <tr>\n",
       "        <td>Brian</td>\n",
       "        <td>Lee</td>\n",
       "        <td>4</td>\n",
       "        <td>None</td>\n",
       "    </tr>\n",
       "    <tr>\n",
       "        <td>Liam</td>\n",
       "        <td>Neckson</td>\n",
       "        <td>6</td>\n",
       "        <td>None</td>\n",
       "    </tr>\n",
       "    <tr>\n",
       "        <td>Lennon</td>\n",
       "        <td>Neson</td>\n",
       "        <td>14</td>\n",
       "        <td>None</td>\n",
       "    </tr>\n",
       "    <tr>\n",
       "        <td>Henry</td>\n",
       "        <td>Park</td>\n",
       "        <td>7</td>\n",
       "        <td>None</td>\n",
       "    </tr>\n",
       "    <tr>\n",
       "        <td>Susanna</td>\n",
       "        <td>Quek</td>\n",
       "        <td>10</td>\n",
       "        <td>None</td>\n",
       "    </tr>\n",
       "    <tr>\n",
       "        <td>Savannah</td>\n",
       "        <td>Shelton</td>\n",
       "        <td>2</td>\n",
       "        <td>None</td>\n",
       "    </tr>\n",
       "    <tr>\n",
       "        <td>Angel</td>\n",
       "        <td>Tan</td>\n",
       "        <td>5</td>\n",
       "        <td>None</td>\n",
       "    </tr>\n",
       "    <tr>\n",
       "        <td>Hazel</td>\n",
       "        <td>Tan</td>\n",
       "        <td>9</td>\n",
       "        <td>None</td>\n",
       "    </tr>\n",
       "    <tr>\n",
       "        <td>Harrison</td>\n",
       "        <td>WIlliam</td>\n",
       "        <td>15</td>\n",
       "        <td>None</td>\n",
       "    </tr>\n",
       "    <tr>\n",
       "        <td>Gate</td>\n",
       "        <td>Way</td>\n",
       "        <td>18</td>\n",
       "        <td>None</td>\n",
       "    </tr>\n",
       "    <tr>\n",
       "        <td>Sylvia</td>\n",
       "        <td>Yeoh</td>\n",
       "        <td>11</td>\n",
       "        <td>None</td>\n",
       "    </tr>\n",
       "    <tr>\n",
       "        <td>Cynthia</td>\n",
       "        <td>Yeoh</td>\n",
       "        <td>19</td>\n",
       "        <td>None</td>\n",
       "    </tr>\n",
       "    <tr>\n",
       "        <td>Angeline</td>\n",
       "        <td>Zan</td>\n",
       "        <td>13</td>\n",
       "        <td>None</td>\n",
       "    </tr>\n",
       "</table>"
      ],
      "text/plain": [
       "[('Ghulam', 'Baker', 1, None),\n",
       " ('William', 'Black', 16, None),\n",
       " ('Daniel', 'Boon', 8, None),\n",
       " ('Anthony', 'Chia', 3, None),\n",
       " ('Bill', 'Clinson', 17, None),\n",
       " ('Britaina', 'Kwok', 12, None),\n",
       " ('Brian', 'Lee', 4, None),\n",
       " ('Liam', 'Neckson', 6, None),\n",
       " ('Lennon', 'Neson', 14, None),\n",
       " ('Henry', 'Park', 7, None),\n",
       " ('Susanna', 'Quek', 10, None),\n",
       " ('Savannah', 'Shelton', 2, None),\n",
       " ('Angel', 'Tan', 5, None),\n",
       " ('Hazel', 'Tan', 9, None),\n",
       " ('Harrison', 'WIlliam', 15, None),\n",
       " ('Gate', 'Way', 18, None),\n",
       " ('Sylvia', 'Yeoh', 11, None),\n",
       " ('Cynthia', 'Yeoh', 19, None),\n",
       " ('Angeline', 'Zan', 13, None)]"
      ]
     },
     "execution_count": 58,
     "metadata": {},
     "output_type": "execute_result"
    }
   ],
   "source": [
    "\n",
    "%sql Select * from users Order BY LastName ASC"
   ]
  },
  {
   "cell_type": "code",
   "execution_count": 59,
   "metadata": {},
   "outputs": [
    {
     "name": "stdout",
     "output_type": "stream",
     "text": [
      " * sqlite:///dataProgramming.db\n",
      "Done.\n"
     ]
    },
    {
     "data": {
      "text/html": [
       "<table>\n",
       "    <tr>\n",
       "        <th>FirstName</th>\n",
       "        <th>LastName</th>\n",
       "        <th>USERID</th>\n",
       "        <th>EMAIL</th>\n",
       "    </tr>\n",
       "    <tr>\n",
       "        <td>Angeline</td>\n",
       "        <td>Zan</td>\n",
       "        <td>13</td>\n",
       "        <td>None</td>\n",
       "    </tr>\n",
       "    <tr>\n",
       "        <td>Sylvia</td>\n",
       "        <td>Yeoh</td>\n",
       "        <td>11</td>\n",
       "        <td>None</td>\n",
       "    </tr>\n",
       "    <tr>\n",
       "        <td>Cynthia</td>\n",
       "        <td>Yeoh</td>\n",
       "        <td>19</td>\n",
       "        <td>None</td>\n",
       "    </tr>\n",
       "    <tr>\n",
       "        <td>Gate</td>\n",
       "        <td>Way</td>\n",
       "        <td>18</td>\n",
       "        <td>None</td>\n",
       "    </tr>\n",
       "    <tr>\n",
       "        <td>Harrison</td>\n",
       "        <td>WIlliam</td>\n",
       "        <td>15</td>\n",
       "        <td>None</td>\n",
       "    </tr>\n",
       "    <tr>\n",
       "        <td>Angel</td>\n",
       "        <td>Tan</td>\n",
       "        <td>5</td>\n",
       "        <td>None</td>\n",
       "    </tr>\n",
       "    <tr>\n",
       "        <td>Hazel</td>\n",
       "        <td>Tan</td>\n",
       "        <td>9</td>\n",
       "        <td>None</td>\n",
       "    </tr>\n",
       "    <tr>\n",
       "        <td>Savannah</td>\n",
       "        <td>Shelton</td>\n",
       "        <td>2</td>\n",
       "        <td>None</td>\n",
       "    </tr>\n",
       "    <tr>\n",
       "        <td>Susanna</td>\n",
       "        <td>Quek</td>\n",
       "        <td>10</td>\n",
       "        <td>None</td>\n",
       "    </tr>\n",
       "    <tr>\n",
       "        <td>Henry</td>\n",
       "        <td>Park</td>\n",
       "        <td>7</td>\n",
       "        <td>None</td>\n",
       "    </tr>\n",
       "    <tr>\n",
       "        <td>Lennon</td>\n",
       "        <td>Neson</td>\n",
       "        <td>14</td>\n",
       "        <td>None</td>\n",
       "    </tr>\n",
       "    <tr>\n",
       "        <td>Liam</td>\n",
       "        <td>Neckson</td>\n",
       "        <td>6</td>\n",
       "        <td>None</td>\n",
       "    </tr>\n",
       "    <tr>\n",
       "        <td>Brian</td>\n",
       "        <td>Lee</td>\n",
       "        <td>4</td>\n",
       "        <td>None</td>\n",
       "    </tr>\n",
       "    <tr>\n",
       "        <td>Britaina</td>\n",
       "        <td>Kwok</td>\n",
       "        <td>12</td>\n",
       "        <td>None</td>\n",
       "    </tr>\n",
       "    <tr>\n",
       "        <td>Bill</td>\n",
       "        <td>Clinson</td>\n",
       "        <td>17</td>\n",
       "        <td>None</td>\n",
       "    </tr>\n",
       "    <tr>\n",
       "        <td>Anthony</td>\n",
       "        <td>Chia</td>\n",
       "        <td>3</td>\n",
       "        <td>None</td>\n",
       "    </tr>\n",
       "    <tr>\n",
       "        <td>Daniel</td>\n",
       "        <td>Boon</td>\n",
       "        <td>8</td>\n",
       "        <td>None</td>\n",
       "    </tr>\n",
       "    <tr>\n",
       "        <td>William</td>\n",
       "        <td>Black</td>\n",
       "        <td>16</td>\n",
       "        <td>None</td>\n",
       "    </tr>\n",
       "    <tr>\n",
       "        <td>Ghulam</td>\n",
       "        <td>Baker</td>\n",
       "        <td>1</td>\n",
       "        <td>None</td>\n",
       "    </tr>\n",
       "</table>"
      ],
      "text/plain": [
       "[('Angeline', 'Zan', 13, None),\n",
       " ('Sylvia', 'Yeoh', 11, None),\n",
       " ('Cynthia', 'Yeoh', 19, None),\n",
       " ('Gate', 'Way', 18, None),\n",
       " ('Harrison', 'WIlliam', 15, None),\n",
       " ('Angel', 'Tan', 5, None),\n",
       " ('Hazel', 'Tan', 9, None),\n",
       " ('Savannah', 'Shelton', 2, None),\n",
       " ('Susanna', 'Quek', 10, None),\n",
       " ('Henry', 'Park', 7, None),\n",
       " ('Lennon', 'Neson', 14, None),\n",
       " ('Liam', 'Neckson', 6, None),\n",
       " ('Brian', 'Lee', 4, None),\n",
       " ('Britaina', 'Kwok', 12, None),\n",
       " ('Bill', 'Clinson', 17, None),\n",
       " ('Anthony', 'Chia', 3, None),\n",
       " ('Daniel', 'Boon', 8, None),\n",
       " ('William', 'Black', 16, None),\n",
       " ('Ghulam', 'Baker', 1, None)]"
      ]
     },
     "execution_count": 59,
     "metadata": {},
     "output_type": "execute_result"
    }
   ],
   "source": [
    "\n",
    "%sql Select * from users Order BY LastName DESC"
   ]
  },
  {
   "cell_type": "markdown",
   "metadata": {},
   "source": [
    "### 5. Try sorting using First Name"
   ]
  },
  {
   "cell_type": "code",
   "execution_count": 60,
   "metadata": {
    "scrolled": true
   },
   "outputs": [
    {
     "name": "stdout",
     "output_type": "stream",
     "text": [
      " * sqlite:///dataProgramming.db\n",
      "Done.\n"
     ]
    },
    {
     "data": {
      "text/html": [
       "<table>\n",
       "    <tr>\n",
       "        <th>FirstName</th>\n",
       "        <th>LastName</th>\n",
       "        <th>USERID</th>\n",
       "        <th>EMAIL</th>\n",
       "    </tr>\n",
       "    <tr>\n",
       "        <td>Angel</td>\n",
       "        <td>Tan</td>\n",
       "        <td>5</td>\n",
       "        <td>None</td>\n",
       "    </tr>\n",
       "    <tr>\n",
       "        <td>Angeline</td>\n",
       "        <td>Zan</td>\n",
       "        <td>13</td>\n",
       "        <td>None</td>\n",
       "    </tr>\n",
       "    <tr>\n",
       "        <td>Anthony</td>\n",
       "        <td>Chia</td>\n",
       "        <td>3</td>\n",
       "        <td>None</td>\n",
       "    </tr>\n",
       "    <tr>\n",
       "        <td>Bill</td>\n",
       "        <td>Clinson</td>\n",
       "        <td>17</td>\n",
       "        <td>None</td>\n",
       "    </tr>\n",
       "    <tr>\n",
       "        <td>Brian</td>\n",
       "        <td>Lee</td>\n",
       "        <td>4</td>\n",
       "        <td>None</td>\n",
       "    </tr>\n",
       "    <tr>\n",
       "        <td>Britaina</td>\n",
       "        <td>Kwok</td>\n",
       "        <td>12</td>\n",
       "        <td>None</td>\n",
       "    </tr>\n",
       "    <tr>\n",
       "        <td>Cynthia</td>\n",
       "        <td>Yeoh</td>\n",
       "        <td>19</td>\n",
       "        <td>None</td>\n",
       "    </tr>\n",
       "    <tr>\n",
       "        <td>Daniel</td>\n",
       "        <td>Boon</td>\n",
       "        <td>8</td>\n",
       "        <td>None</td>\n",
       "    </tr>\n",
       "    <tr>\n",
       "        <td>Gate</td>\n",
       "        <td>Way</td>\n",
       "        <td>18</td>\n",
       "        <td>None</td>\n",
       "    </tr>\n",
       "    <tr>\n",
       "        <td>Ghulam</td>\n",
       "        <td>Baker</td>\n",
       "        <td>1</td>\n",
       "        <td>None</td>\n",
       "    </tr>\n",
       "    <tr>\n",
       "        <td>Harrison</td>\n",
       "        <td>WIlliam</td>\n",
       "        <td>15</td>\n",
       "        <td>None</td>\n",
       "    </tr>\n",
       "    <tr>\n",
       "        <td>Hazel</td>\n",
       "        <td>Tan</td>\n",
       "        <td>9</td>\n",
       "        <td>None</td>\n",
       "    </tr>\n",
       "    <tr>\n",
       "        <td>Henry</td>\n",
       "        <td>Park</td>\n",
       "        <td>7</td>\n",
       "        <td>None</td>\n",
       "    </tr>\n",
       "    <tr>\n",
       "        <td>Lennon</td>\n",
       "        <td>Neson</td>\n",
       "        <td>14</td>\n",
       "        <td>None</td>\n",
       "    </tr>\n",
       "    <tr>\n",
       "        <td>Liam</td>\n",
       "        <td>Neckson</td>\n",
       "        <td>6</td>\n",
       "        <td>None</td>\n",
       "    </tr>\n",
       "    <tr>\n",
       "        <td>Savannah</td>\n",
       "        <td>Shelton</td>\n",
       "        <td>2</td>\n",
       "        <td>None</td>\n",
       "    </tr>\n",
       "    <tr>\n",
       "        <td>Susanna</td>\n",
       "        <td>Quek</td>\n",
       "        <td>10</td>\n",
       "        <td>None</td>\n",
       "    </tr>\n",
       "    <tr>\n",
       "        <td>Sylvia</td>\n",
       "        <td>Yeoh</td>\n",
       "        <td>11</td>\n",
       "        <td>None</td>\n",
       "    </tr>\n",
       "    <tr>\n",
       "        <td>William</td>\n",
       "        <td>Black</td>\n",
       "        <td>16</td>\n",
       "        <td>None</td>\n",
       "    </tr>\n",
       "</table>"
      ],
      "text/plain": [
       "[('Angel', 'Tan', 5, None),\n",
       " ('Angeline', 'Zan', 13, None),\n",
       " ('Anthony', 'Chia', 3, None),\n",
       " ('Bill', 'Clinson', 17, None),\n",
       " ('Brian', 'Lee', 4, None),\n",
       " ('Britaina', 'Kwok', 12, None),\n",
       " ('Cynthia', 'Yeoh', 19, None),\n",
       " ('Daniel', 'Boon', 8, None),\n",
       " ('Gate', 'Way', 18, None),\n",
       " ('Ghulam', 'Baker', 1, None),\n",
       " ('Harrison', 'WIlliam', 15, None),\n",
       " ('Hazel', 'Tan', 9, None),\n",
       " ('Henry', 'Park', 7, None),\n",
       " ('Lennon', 'Neson', 14, None),\n",
       " ('Liam', 'Neckson', 6, None),\n",
       " ('Savannah', 'Shelton', 2, None),\n",
       " ('Susanna', 'Quek', 10, None),\n",
       " ('Sylvia', 'Yeoh', 11, None),\n",
       " ('William', 'Black', 16, None)]"
      ]
     },
     "execution_count": 60,
     "metadata": {},
     "output_type": "execute_result"
    }
   ],
   "source": [
    "%sql sqlite:///dataProgramming.db\n",
    "%sql Select * from users Order BY FirstName"
   ]
  },
  {
   "cell_type": "markdown",
   "metadata": {},
   "source": [
    "## The use of aggregate functions. Can we count the number of users with the same surname? \n",
    "\n",
    "[Aggregate functions](https://www.w3resource.com/sql/aggregate-functions/aggregate-function.php)\n",
    "\n",
    "\n",
    "An aggregate function performs a calculation on one or multiple values (rows) and returns a single value as a result.\n",
    "We can then use an aggregate function to group our users by their \"LastName\" and COUNT how many have the same surname.\n",
    "\n",
    "First of all, add two entries to the users table with identiacal surnames:"
   ]
  },
  {
   "cell_type": "markdown",
   "metadata": {},
   "source": [
    "### Try 6. Insert"
   ]
  },
  {
   "cell_type": "code",
   "execution_count": 67,
   "metadata": {},
   "outputs": [
    {
     "name": "stdout",
     "output_type": "stream",
     "text": [
      "1 rows affected.\n"
     ]
    },
    {
     "data": {
      "text/plain": [
       "[]"
      ]
     },
     "execution_count": 67,
     "metadata": {},
     "output_type": "execute_result"
    }
   ],
   "source": [
    "%%sql sqlite://\n",
    "INSERT INTO users(FIRSTNAME,LASTNAME,USERID) VALUES ('William', 'Clinton',223);\n",
    "INSERT INTO users(FIRSTNAME,LASTNAME,USERID) VALUES ('Bill', 'Clinton',225);\n"
   ]
  },
  {
   "cell_type": "code",
   "execution_count": null,
   "metadata": {},
   "outputs": [],
   "source": []
  },
  {
   "cell_type": "markdown",
   "metadata": {},
   "source": [
    "If we use the [COUNT and GROUP BY](https://www.w3resource.com/sql/aggregate-functions/count-with-group-by.php) aggregate functions, we can find out how many users have the same surname:\n",
    "\n"
   ]
  },
  {
   "cell_type": "code",
   "execution_count": 68,
   "metadata": {},
   "outputs": [
    {
     "name": "stdout",
     "output_type": "stream",
     "text": [
      " * sqlite:///dataProgramming.db\n",
      "Done.\n"
     ]
    },
    {
     "data": {
      "text/html": [
       "<table>\n",
       "    <tr>\n",
       "        <th>LastName</th>\n",
       "        <th>Entries</th>\n",
       "    </tr>\n",
       "    <tr>\n",
       "        <td>Baker</td>\n",
       "        <td>1</td>\n",
       "    </tr>\n",
       "    <tr>\n",
       "        <td>Black</td>\n",
       "        <td>1</td>\n",
       "    </tr>\n",
       "    <tr>\n",
       "        <td>Boon</td>\n",
       "        <td>1</td>\n",
       "    </tr>\n",
       "    <tr>\n",
       "        <td>Chia</td>\n",
       "        <td>1</td>\n",
       "    </tr>\n",
       "    <tr>\n",
       "        <td>Clinson</td>\n",
       "        <td>1</td>\n",
       "    </tr>\n",
       "    <tr>\n",
       "        <td>Clinton</td>\n",
       "        <td>3</td>\n",
       "    </tr>\n",
       "    <tr>\n",
       "        <td>Kwok</td>\n",
       "        <td>1</td>\n",
       "    </tr>\n",
       "    <tr>\n",
       "        <td>Lee</td>\n",
       "        <td>1</td>\n",
       "    </tr>\n",
       "    <tr>\n",
       "        <td>Neckson</td>\n",
       "        <td>1</td>\n",
       "    </tr>\n",
       "    <tr>\n",
       "        <td>Neson</td>\n",
       "        <td>1</td>\n",
       "    </tr>\n",
       "    <tr>\n",
       "        <td>Park</td>\n",
       "        <td>1</td>\n",
       "    </tr>\n",
       "    <tr>\n",
       "        <td>Quek</td>\n",
       "        <td>1</td>\n",
       "    </tr>\n",
       "    <tr>\n",
       "        <td>Shelton</td>\n",
       "        <td>1</td>\n",
       "    </tr>\n",
       "    <tr>\n",
       "        <td>Tan</td>\n",
       "        <td>2</td>\n",
       "    </tr>\n",
       "    <tr>\n",
       "        <td>WIlliam</td>\n",
       "        <td>1</td>\n",
       "    </tr>\n",
       "    <tr>\n",
       "        <td>Way</td>\n",
       "        <td>1</td>\n",
       "    </tr>\n",
       "    <tr>\n",
       "        <td>Yeoh</td>\n",
       "        <td>2</td>\n",
       "    </tr>\n",
       "    <tr>\n",
       "        <td>Zan</td>\n",
       "        <td>1</td>\n",
       "    </tr>\n",
       "</table>"
      ],
      "text/plain": [
       "[('Baker', 1),\n",
       " ('Black', 1),\n",
       " ('Boon', 1),\n",
       " ('Chia', 1),\n",
       " ('Clinson', 1),\n",
       " ('Clinton', 3),\n",
       " ('Kwok', 1),\n",
       " ('Lee', 1),\n",
       " ('Neckson', 1),\n",
       " ('Neson', 1),\n",
       " ('Park', 1),\n",
       " ('Quek', 1),\n",
       " ('Shelton', 1),\n",
       " ('Tan', 2),\n",
       " ('WIlliam', 1),\n",
       " ('Way', 1),\n",
       " ('Yeoh', 2),\n",
       " ('Zan', 1)]"
      ]
     },
     "execution_count": 68,
     "metadata": {},
     "output_type": "execute_result"
    }
   ],
   "source": [
    "%sql SELECT LastName, COUNT(*) as Entries from users GROUP BY Lastname;"
   ]
  },
  {
   "cell_type": "markdown",
   "metadata": {},
   "source": [
    "Can you combine the above aggregate function and only LIMIT the query to show the first three rows?"
   ]
  },
  {
   "cell_type": "code",
   "execution_count": null,
   "metadata": {},
   "outputs": [],
   "source": []
  },
  {
   "cell_type": "markdown",
   "metadata": {},
   "source": [
    "Try adding an ORDER by parameter to the previous query to further refine our output.\n",
    "You can find some documentation [here](https://www.w3schools.com/sql/sql_ref_order_by.asp)\n",
    "HINT: Order first!"
   ]
  },
  {
   "cell_type": "code",
   "execution_count": null,
   "metadata": {},
   "outputs": [],
   "source": []
  },
  {
   "cell_type": "code",
   "execution_count": 69,
   "metadata": {},
   "outputs": [
    {
     "name": "stdout",
     "output_type": "stream",
     "text": [
      " * sqlite:///dataProgramming.db\n",
      "Done.\n"
     ]
    },
    {
     "data": {
      "text/html": [
       "<table>\n",
       "    <tr>\n",
       "        <th>min(USERID)</th>\n",
       "        <th>max(USERID)</th>\n",
       "    </tr>\n",
       "    <tr>\n",
       "        <td>1</td>\n",
       "        <td>225</td>\n",
       "    </tr>\n",
       "</table>"
      ],
      "text/plain": [
       "[(1, 225)]"
      ]
     },
     "execution_count": 69,
     "metadata": {},
     "output_type": "execute_result"
    }
   ],
   "source": [
    "# We might even want to get smallest/largest values as follows\n",
    "%sql SELECT min(USERID), max(USERID) from users"
   ]
  },
  {
   "cell_type": "markdown",
   "metadata": {},
   "source": [
    "Now see if you can stretch your legs a bit. Experiment with queries using some or all of the following operators.\n",
    "\n",
    "- 'AND' \n",
    "- 'OR'\n",
    "- 'NOT' \n",
    "- 'IN'\n",
    "- '<>' \n",
    "- '!='\n",
    "- '>=' \n",
    "- '>' \n",
    "- '<' \n",
    "- '<='\n",
    "\n",
    "Some examples of syntax for each of these parameters can be found [here](https://www.w3schools.com/sql/default.asp). The logic is somewhat similar to the logic you would use in Python."
   ]
  },
  {
   "cell_type": "markdown",
   "metadata": {},
   "source": [
    "### Try 7"
   ]
  },
  {
   "attachments": {
    "image.png": {
     "image/png": "[encoded data removed]"
    }
   },
   "cell_type": "markdown",
   "metadata": {
    "scrolled": true
   },
   "source": [
    "Get the table as below using what you have learned.  LIKE FIRSTNAME OR LIKE LASTNAME\n",
    "![image.png](attachment:image.png)"
   ]
  },
  {
   "cell_type": "code",
   "execution_count": 75,
   "metadata": {},
   "outputs": [
    {
     "name": "stdout",
     "output_type": "stream",
     "text": [
      " * sqlite:///dataProgramming.db\n",
      "Done.\n"
     ]
    },
    {
     "data": {
      "text/html": [
       "<table>\n",
       "    <tr>\n",
       "        <th>FirstName</th>\n",
       "        <th>LastName</th>\n",
       "        <th>USERID</th>\n",
       "        <th>EMAIL</th>\n",
       "    </tr>\n",
       "    <tr>\n",
       "        <td>Savannah</td>\n",
       "        <td>Shelton</td>\n",
       "        <td>2</td>\n",
       "        <td>None</td>\n",
       "    </tr>\n",
       "    <tr>\n",
       "        <td>Angel</td>\n",
       "        <td>Tan</td>\n",
       "        <td>5</td>\n",
       "        <td>None</td>\n",
       "    </tr>\n",
       "    <tr>\n",
       "        <td>Hazel</td>\n",
       "        <td>Tan</td>\n",
       "        <td>9</td>\n",
       "        <td>None</td>\n",
       "    </tr>\n",
       "    <tr>\n",
       "        <td>Susanna</td>\n",
       "        <td>Quek</td>\n",
       "        <td>10</td>\n",
       "        <td>None</td>\n",
       "    </tr>\n",
       "    <tr>\n",
       "        <td>Sylvia</td>\n",
       "        <td>Yeoh</td>\n",
       "        <td>11</td>\n",
       "        <td>None</td>\n",
       "    </tr>\n",
       "</table>"
      ],
      "text/plain": [
       "[('Savannah', 'Shelton', 2, None),\n",
       " ('Angel', 'Tan', 5, None),\n",
       " ('Hazel', 'Tan', 9, None),\n",
       " ('Susanna', 'Quek', 10, None),\n",
       " ('Sylvia', 'Yeoh', 11, None)]"
      ]
     },
     "execution_count": 75,
     "metadata": {},
     "output_type": "execute_result"
    }
   ],
   "source": [
    "%sql SELECT * FROM users WHERE FIRSTNAME LIKE 'S%' OR LASTNAME LIKE 'T%';"
   ]
  },
  {
   "cell_type": "markdown",
   "metadata": {},
   "source": [
    "### Try 8"
   ]
  },
  {
   "attachments": {
    "image.png": {
     "image/png": "[encoded data removed]"
    }
   },
   "cell_type": "markdown",
   "metadata": {},
   "source": [
    "Get the table as below using 'AND'\n",
    "![image.png](attachment:image.png)"
   ]
  },
  {
   "cell_type": "code",
   "execution_count": 76,
   "metadata": {},
   "outputs": [
    {
     "name": "stdout",
     "output_type": "stream",
     "text": [
      " * sqlite:///dataProgramming.db\n",
      "Done.\n"
     ]
    },
    {
     "data": {
      "text/html": [
       "<table>\n",
       "    <tr>\n",
       "        <th>FirstName</th>\n",
       "        <th>LastName</th>\n",
       "        <th>USERID</th>\n",
       "        <th>EMAIL</th>\n",
       "    </tr>\n",
       "    <tr>\n",
       "        <td>Liam</td>\n",
       "        <td>Neckson</td>\n",
       "        <td>6</td>\n",
       "        <td>None</td>\n",
       "    </tr>\n",
       "    <tr>\n",
       "        <td>Henry</td>\n",
       "        <td>Park</td>\n",
       "        <td>7</td>\n",
       "        <td>None</td>\n",
       "    </tr>\n",
       "    <tr>\n",
       "        <td>Daniel</td>\n",
       "        <td>Boon</td>\n",
       "        <td>8</td>\n",
       "        <td>None</td>\n",
       "    </tr>\n",
       "    <tr>\n",
       "        <td>Hazel</td>\n",
       "        <td>Tan</td>\n",
       "        <td>9</td>\n",
       "        <td>None</td>\n",
       "    </tr>\n",
       "    <tr>\n",
       "        <td>Susanna</td>\n",
       "        <td>Quek</td>\n",
       "        <td>10</td>\n",
       "        <td>None</td>\n",
       "    </tr>\n",
       "    <tr>\n",
       "        <td>Sylvia</td>\n",
       "        <td>Yeoh</td>\n",
       "        <td>11</td>\n",
       "        <td>None</td>\n",
       "    </tr>\n",
       "    <tr>\n",
       "        <td>Britaina</td>\n",
       "        <td>Kwok</td>\n",
       "        <td>12</td>\n",
       "        <td>None</td>\n",
       "    </tr>\n",
       "</table>"
      ],
      "text/plain": [
       "[('Liam', 'Neckson', 6, None),\n",
       " ('Henry', 'Park', 7, None),\n",
       " ('Daniel', 'Boon', 8, None),\n",
       " ('Hazel', 'Tan', 9, None),\n",
       " ('Susanna', 'Quek', 10, None),\n",
       " ('Sylvia', 'Yeoh', 11, None),\n",
       " ('Britaina', 'Kwok', 12, None)]"
      ]
     },
     "execution_count": 76,
     "metadata": {},
     "output_type": "execute_result"
    }
   ],
   "source": [
    "%sql SELECT * FROM users WHERE USERID > 5 AND USERID < 13;"
   ]
  },
  {
   "cell_type": "code",
   "execution_count": null,
   "metadata": {},
   "outputs": [],
   "source": []
  },
  {
   "cell_type": "code",
   "execution_count": null,
   "metadata": {},
   "outputs": [],
   "source": []
  },
  {
   "cell_type": "code",
   "execution_count": null,
   "metadata": {},
   "outputs": [],
   "source": []
  },
  {
   "cell_type": "code",
   "execution_count": null,
   "metadata": {},
   "outputs": [],
   "source": []
  },
  {
   "cell_type": "code",
   "execution_count": null,
   "metadata": {},
   "outputs": [],
   "source": []
  },
  {
   "cell_type": "code",
   "execution_count": null,
   "metadata": {},
   "outputs": [],
   "source": []
  },
  {
   "cell_type": "code",
   "execution_count": null,
   "metadata": {},
   "outputs": [],
   "source": []
  },
  {
   "cell_type": "code",
   "execution_count": null,
   "metadata": {},
   "outputs": [],
   "source": []
  },
  {
   "cell_type": "code",
   "execution_count": null,
   "metadata": {},
   "outputs": [],
   "source": []
  },
  {
   "cell_type": "code",
   "execution_count": null,
   "metadata": {},
   "outputs": [],
   "source": []
  },
  {
   "cell_type": "code",
   "execution_count": null,
   "metadata": {},
   "outputs": [],
   "source": []
  },
  {
   "cell_type": "markdown",
   "metadata": {},
   "source": [
    "# Possible Answers:"
   ]
  },
  {
   "cell_type": "markdown",
   "metadata": {},
   "source": [
    "### Try 1"
   ]
  },
  {
   "cell_type": "code",
   "execution_count": null,
   "metadata": {},
   "outputs": [],
   "source": [
    "%sql SELECT FirstName FROM users WHERE USERID='2'"
   ]
  },
  {
   "cell_type": "markdown",
   "metadata": {},
   "source": [
    "### Try 2"
   ]
  },
  {
   "cell_type": "code",
   "execution_count": null,
   "metadata": {},
   "outputs": [],
   "source": [
    "%sql select * from users where LastName = 'Tan';"
   ]
  },
  {
   "cell_type": "markdown",
   "metadata": {},
   "source": [
    "### Try 3\n",
    "*** FIND persons whose name start with S  e.g., Savannah, Susanna, Sylvia\n",
    "\n",
    "See https://www.w3schools.com/sql/sql_like.asp"
   ]
  },
  {
   "cell_type": "code",
   "execution_count": null,
   "metadata": {},
   "outputs": [],
   "source": [
    "%sql Select * from users where FirstName LIKE 'S%'"
   ]
  },
  {
   "cell_type": "code",
   "execution_count": null,
   "metadata": {},
   "outputs": [],
   "source": []
  },
  {
   "cell_type": "markdown",
   "metadata": {},
   "source": [
    "### Try 4"
   ]
  },
  {
   "cell_type": "code",
   "execution_count": null,
   "metadata": {},
   "outputs": [],
   "source": [
    "%sql SELECT FirstName as 'First Name', LastName as 'Last Name' from users"
   ]
  },
  {
   "cell_type": "markdown",
   "metadata": {},
   "source": [
    "### Try 5\n",
    "Try sorting using First Na"
   ]
  },
  {
   "cell_type": "code",
   "execution_count": null,
   "metadata": {},
   "outputs": [],
   "source": [
    "\n",
    "%sql Select * from users Order BY FirstName"
   ]
  },
  {
   "cell_type": "markdown",
   "metadata": {},
   "source": [
    "### Try 6"
   ]
  },
  {
   "cell_type": "code",
   "execution_count": null,
   "metadata": {},
   "outputs": [],
   "source": [
    "%%sql sqlite://\n",
    "INSERT INTO users VALUES (---, ---,---);\n",
    "INSERT INTO users VALUES (---, ---,---);\n"
   ]
  },
  {
   "cell_type": "code",
   "execution_count": null,
   "metadata": {},
   "outputs": [],
   "source": []
  },
  {
   "cell_type": "code",
   "execution_count": null,
   "metadata": {},
   "outputs": [],
   "source": []
  },
  {
   "cell_type": "code",
   "execution_count": null,
   "metadata": {},
   "outputs": [],
   "source": []
  },
  {
   "cell_type": "markdown",
   "metadata": {},
   "source": [
    "### Try 7"
   ]
  },
  {
   "cell_type": "code",
   "execution_count": null,
   "metadata": {},
   "outputs": [],
   "source": [
    "%sql select * from users where FirstName Like 'S%' OR LastName Like 'T%'"
   ]
  },
  {
   "cell_type": "code",
   "execution_count": null,
   "metadata": {},
   "outputs": [],
   "source": []
  },
  {
   "cell_type": "markdown",
   "metadata": {},
   "source": [
    "### Try 8"
   ]
  },
  {
   "cell_type": "code",
   "execution_count": null,
   "metadata": {},
   "outputs": [],
   "source": [
    "%sql select * from users where USERID > 5 AND USERID < 13"
   ]
  },
  {
   "cell_type": "code",
   "execution_count": null,
   "metadata": {},
   "outputs": [],
   "source": []
  },
  {
   "cell_type": "code",
   "execution_count": null,
   "metadata": {},
   "outputs": [],
   "source": []
  },
  {
   "cell_type": "code",
   "execution_count": null,
   "metadata": {},
   "outputs": [],
   "source": []
  }
 ],
 "metadata": {
  "anaconda-cloud": {},
  "kernelspec": {
   "display_name": "Python 3",
   "language": "python",
   "name": "python3"
  },
  "language_info": {
   "codemirror_mode": {
    "name": "ipython",
    "version": 3
   },
   "file_extension": ".py",
   "mimetype": "text/x-python",
   "name": "python",
   "nbconvert_exporter": "python",
   "pygments_lexer": "ipython3",
   "version": "3.8.5"
  }
 },
 "nbformat": 4,
 "nbformat_minor": 2
}
