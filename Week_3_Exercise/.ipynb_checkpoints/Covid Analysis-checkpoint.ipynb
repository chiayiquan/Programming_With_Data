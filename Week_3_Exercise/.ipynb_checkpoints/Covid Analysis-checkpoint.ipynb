{
 "cells": [
  {
   "cell_type": "code",
   "execution_count": 1,
   "metadata": {},
   "outputs": [],
   "source": [
    "# uncomment the following line to install the dependencies\n",
    "#import sys\n",
    "#!{sys.executable} -m pip install numpy panda matplotlib"
   ]
  },
  {
   "cell_type": "code",
   "execution_count": 2,
   "metadata": {
    "scrolled": false
   },
   "outputs": [],
   "source": [
    "import json\n",
    "import pandas as pd\n",
    "import functools\n",
    "import numpy as np\n",
    "import matplotlib.pyplot as plt\n",
    "from datetime import datetime\n",
    "from IPython.display import Markdown as md\n",
    "\n",
    "# Load covid data json\n",
    "with open(\"owid-covid-data.json\") as f:\n",
    "    data=json.load(f)\n",
    "\n",
    "# Load country name json\n",
    "with open(\"countries.json\") as ff:\n",
    "    country_name=json.load(ff)"
   ]
  },
  {
   "cell_type": "code",
   "execution_count": 3,
   "metadata": {},
   "outputs": [],
   "source": [
    "# convert yyyy-mm-dd to dd-MM-yyyy\n",
    "# https://www.programiz.com/python-programming/datetime/strftime\n",
    "def convertToFormattedDate(date):\n",
    "    return datetime.strptime(date,'%Y-%m-%d').strftime('%d %B %Y')"
   ]
  },
  {
   "cell_type": "code",
   "execution_count": 4,
   "metadata": {},
   "outputs": [],
   "source": [
    "latest_data = {}\n",
    "\n",
    "# get the latest data of the latest date\n",
    "for country_code in data:\n",
    "    for entry in data[country_code][\"data\"][-1:]:\n",
    "        latest_data[country_code] = entry\n",
    "\n",
    "# get the world wide cases and death\n",
    "# remove all decimal point as population,cases,deaths will not have decimal\n",
    "WORLD_TOTAL_CASES = int(latest_data[\"OWID_WRL\"][\"total_cases\"])\n",
    "WORLD_TOTAL_DEATHS = int(latest_data[\"OWID_WRL\"][\"total_deaths\"])     \n",
    "\n",
    "# Get the latest date of this json data and convert it to a full version date\n",
    "LATEST_DATE = convertToFormattedDate(latest_data[\"OWID_WRL\"][\"date\"])"
   ]
  },
  {
   "cell_type": "code",
   "execution_count": 5,
   "metadata": {},
   "outputs": [],
   "source": [
    "# get the country name with the country code\n",
    "def getCountryName(country_code):\n",
    "    return [country[\"name\"] for country in country_name if country_code == country[\"code\"]][0]"
   ]
  },
  {
   "cell_type": "code",
   "execution_count": 6,
   "metadata": {},
   "outputs": [],
   "source": [
    "# compute the total cases based on month\n",
    "def computeMonthlyCases(target_country_data):\n",
    "    monthly_cases={}\n",
    "    for country_data in target_country_data:\n",
    "        # remove day from date\n",
    "        year_and_month = datetime.strptime(country_data[\"date\"],'%Y-%m-%d').strftime('%Y-%m')\n",
    "        if year_and_month not in monthly_cases:\n",
    "            monthly_cases[year_and_month] = int(country_data[\"new_cases\"])\n",
    "        else:\n",
    "            monthly_cases[year_and_month] += int(country_data[\"new_cases\"])\n",
    "    return monthlyCasesList(monthly_cases)"
   ]
  },
  {
   "cell_type": "code",
   "execution_count": 7,
   "metadata": {},
   "outputs": [],
   "source": [
    "# Transform monthly case dict to list tuple(date,monthly total cases)\n",
    "def monthlyCasesList(monthly_cases):\n",
    "    return [(date,monthly_cases[date]) for date in monthly_cases]"
   ]
  },
  {
   "cell_type": "code",
   "execution_count": 8,
   "metadata": {},
   "outputs": [],
   "source": [
    "# Add up all the cases with the key provided\n",
    "def computeTotal(cases,key_to_add):\n",
    "    return functools.reduce(lambda acc,currentValue:acc+currentValue[key_to_add],cases,0)"
   ]
  },
  {
   "cell_type": "code",
   "execution_count": 9,
   "metadata": {},
   "outputs": [],
   "source": [
    "# Format number with colon\n",
    "def formatNumberWithColon(number):\n",
    "    return \"{:,}\".format(number)"
   ]
  },
  {
   "cell_type": "code",
   "execution_count": 10,
   "metadata": {},
   "outputs": [],
   "source": [
    "# Return remaining cases of other country\n",
    "def computeRemainingCases(number):\n",
    "    return WORLD_TOTAL_CASES-number"
   ]
  },
  {
   "cell_type": "code",
   "execution_count": 11,
   "metadata": {},
   "outputs": [],
   "source": [
    "# Convert number of cases to percentage\n",
    "def percentToTotalCases(number,total_cases):\n",
    "    return number / total_cases * 100"
   ]
  },
  {
   "cell_type": "code",
   "execution_count": 12,
   "metadata": {},
   "outputs": [],
   "source": [
    "# Convert formatted number back to int\n",
    "def colonStrNumberToNumber(str_number):\n",
    "    return int(str_number.replace(',',''))"
   ]
  },
  {
   "cell_type": "code",
   "execution_count": 13,
   "metadata": {},
   "outputs": [],
   "source": [
    "# display pie chart\n",
    "# display_data list dict{value:int,label:string}\n",
    "# title string\n",
    "def displayPieChart(display_data,title):\n",
    "    fig, ax = plt.subplots()\n",
    "    ax.pie(list(map(lambda country:country['value'],display_data)), labels=list(map(lambda country:country['label'],display_data)), autopct='%1.2f%%')\n",
    "    ax.axis('equal')  \n",
    "    ax.set_title(title)\n",
    "    return plt.show()"
   ]
  },
  {
   "cell_type": "code",
   "execution_count": 14,
   "metadata": {},
   "outputs": [],
   "source": [
    "# Get the infection rate of the country\n",
    "def getInfectionRateByCountry(country_code,infection_list):\n",
    "    return functools.reduce(lambda acc,currentValue:currentValue if currentValue['key']==getCountryName(country_code) else acc,infection_list,{})"
   ]
  },
  {
   "cell_type": "code",
   "execution_count": 15,
   "metadata": {},
   "outputs": [],
   "source": [
    "# Get a country ranking \n",
    "def getCountryRank(country_code):\n",
    "    return [index for index,value in enumerate(country_list,1) if value[\"key\"]==country_code][0]"
   ]
  },
  {
   "cell_type": "code",
   "execution_count": 16,
   "metadata": {},
   "outputs": [],
   "source": [
    "# display bar graph\n",
    "# x_column : list/string\n",
    "# y_column : list/string\n",
    "# data_frame : panda data frame\n",
    "# x_label : string\n",
    "# y_label : string\n",
    "# title : string\n",
    "def displayBarGraph(x_column,y_column,data_frame,x_label,y_label, title):\n",
    "    plt.bar(x_column, y_column, data = data_frame, alpha=0.4,color='b')\n",
    "    plt.xlabel(x_label)\n",
    "    plt.xticks(rotation = 90)\n",
    "    plt.ylabel(y_label)\n",
    "    plt.title(title)\n",
    "    plt.show()\n"
   ]
  },
  {
   "cell_type": "code",
   "execution_count": 17,
   "metadata": {},
   "outputs": [],
   "source": [
    "# convert all the country into dict {key,cases,population}\n",
    "country_list = []\n",
    "\n",
    "for key in latest_data:\n",
    "    # remove key with OWID as it account for entire region/world\n",
    "    if \"OWID\" not in key:\n",
    "        # some of the country does not have total_cases field\n",
    "        if \"total_cases\" in latest_data[key]:\n",
    "            country_list.append({'key':key, 'cases':int(latest_data[key][\"total_cases\"]),'population':int(data[key]['population'])})\n",
    "\n",
    "# sort descending order         \n",
    "country_list.sort(key=lambda country:country['cases'],reverse=True)\n"
   ]
  },
  {
   "cell_type": "code",
   "execution_count": 18,
   "metadata": {},
   "outputs": [],
   "source": [
    "# get the top 10 highest cases country\n",
    "\n",
    "top_ten_highest_cases_countries = list(map(lambda country:{'key':getCountryName(country['key']),'cases':formatNumberWithColon(country['cases']), 'population':formatNumberWithColon(country['population']), 'percentage':round(percentToTotalCases(country['cases'],WORLD_TOTAL_CASES),2)},country_list[:10]))\n",
    "\n",
    "data_frame=pd.DataFrame({\"Country\":list(map(lambda country:country['key'],top_ten_highest_cases_countries)), \"Total Cases\":list(map(lambda country:country['cases'],top_ten_highest_cases_countries))},index=range(1,11))"
   ]
  },
  {
   "cell_type": "code",
   "execution_count": 19,
   "metadata": {},
   "outputs": [],
   "source": [
    "# Reorganize the top 10 highest cases country to pie chart data structure\n",
    "top_ten_highest_cases_chart_data = list(map(lambda country:{'label':getCountryName(country['key']),'value':country['cases']},country_list[:10]))\n",
    "top_ten_highest_cases_total = computeTotal(top_ten_highest_cases_chart_data,'value')"
   ]
  },
  {
   "cell_type": "code",
   "execution_count": 20,
   "metadata": {},
   "outputs": [],
   "source": [
    "# top 10 lowest covid cases country\n",
    "\n",
    "top_ten_lowest_cases_countries = list(map(lambda country:{'key':getCountryName(country['key']),'cases':formatNumberWithColon(country['cases']), 'population':formatNumberWithColon(country['population'])},country_list[-10:]))\n",
    "top_ten_lowest_cases_countries.reverse()\n",
    "\n",
    "lowest_cases_data_frame=pd.DataFrame({\"Country\":list(map(lambda country:country['key'],top_ten_lowest_cases_countries)), \"Total Cases\":list(map(lambda country:country['cases'],top_ten_lowest_cases_countries))},index=range(1,11))"
   ]
  },
  {
   "cell_type": "code",
   "execution_count": 21,
   "metadata": {},
   "outputs": [],
   "source": [
    "# Confirmed case of a country:country population\n",
    "\n",
    "infection_rate_list = list(map(lambda country: {'key':getCountryName(country['key']),'rate':round(percentToTotalCases(country['cases'],country['population']),5), 'population':formatNumberWithColon(country['population'])},country_list))\n",
    "\n",
    "infection_rate_list.sort(key=lambda country:country['rate'],reverse=True)"
   ]
  },
  {
   "cell_type": "code",
   "execution_count": 22,
   "metadata": {},
   "outputs": [],
   "source": [
    "# top 10 high infection rate country\n",
    "\n",
    "top_ten_high_infection_rate_countries = infection_rate_list[:10]\n",
    "high_infection_data_frame=pd.DataFrame({\"Country\":list(map(lambda country:country['key'],top_ten_high_infection_rate_countries)), \"Infection Rate (%)\":list(map(lambda country:country['rate'],top_ten_high_infection_rate_countries))},index=range(1,11))"
   ]
  },
  {
   "cell_type": "code",
   "execution_count": 23,
   "metadata": {},
   "outputs": [],
   "source": [
    "# top 10 lowest infection rate country\n",
    "\n",
    "top_ten_low_infection_rate_countries = infection_rate_list[-10:]\n",
    "top_ten_low_infection_rate_countries.reverse()\n",
    "\n",
    "low_infection_data_frame=pd.DataFrame({\"Country\":list(map(lambda country:country['key'],top_ten_low_infection_rate_countries)), \"Infection Rate (%)\":list(map(lambda country:country['rate'],top_ten_low_infection_rate_countries))},index=range(1,11))"
   ]
  },
  {
   "cell_type": "code",
   "execution_count": 24,
   "metadata": {},
   "outputs": [
    {
     "data": {
      "text/markdown": [
       "\n",
       "# Introduction\n",
       "\n",
       "On December 2019, the first case of covid-19 are being reported. To the current date, 08 May 2021, \n",
       "there have been a total of 157,688,226 confirmed cases across the world and this pandemic has caused 3,283,031 death. \n",
       "We will take a look at the data provided by <a href=\"https://ourworldindata.org/coronavirus-source-data\" target=\"_blank\">ourworldindata.org</a>\n",
       "to find out the current situation of this pandemic.\n",
       "\n",
       "<br/>\n"
      ],
      "text/plain": [
       "<IPython.core.display.Markdown object>"
      ]
     },
     "execution_count": 24,
     "metadata": {},
     "output_type": "execute_result"
    }
   ],
   "source": [
    "md(\"\"\"\n",
    "# Introduction\n",
    "\n",
    "On December 2019, the first case of covid-19 are being reported. To the current date, {date}, \n",
    "there have been a total of {cases} confirmed cases across the world and this pandemic has caused {deaths} death. \n",
    "We will take a look at the data provided by <a href=\"https://ourworldindata.org/coronavirus-source-data\" target=\"_blank\">ourworldindata.org</a>\n",
    "to find out the current situation of this pandemic.\n",
    "\n",
    "<br/>\n",
    "\"\"\".format(date=LATEST_DATE, cases=formatNumberWithColon(WORLD_TOTAL_CASES),deaths=formatNumberWithColon(WORLD_TOTAL_DEATHS)))"
   ]
  },
  {
   "cell_type": "markdown",
   "metadata": {},
   "source": [
    "## Top 10 country with highest number of cases"
   ]
  },
  {
   "cell_type": "code",
   "execution_count": 25,
   "metadata": {
    "scrolled": false
   },
   "outputs": [
    {
     "name": "stdout",
     "output_type": "stream",
     "text": [
      "               Country Total Cases\n",
      "1        United States  32,686,358\n",
      "2                India  22,296,081\n",
      "3               Brazil  15,145,879\n",
      "4               France   5,829,166\n",
      "5               Turkey   5,016,141\n",
      "6   Russian Federation   4,816,331\n",
      "7       United Kingdom   4,448,808\n",
      "8                Italy   4,102,921\n",
      "9                Spain   3,567,408\n",
      "10             Germany   3,530,887\n"
     ]
    },
    {
     "data": {
      "image/png": "[encoded data removed]",
      "text/plain": [
       "<Figure size 432x288 with 1 Axes>"
      ]
     },
     "metadata": {},
     "output_type": "display_data"
    },
    {
     "data": {
      "text/markdown": [
       "\n",
       "From the table above, we can see that United States has the highest number of covid-19 cases in the whole world \n",
       "with 32,686,358 confirmed cases. Following which is India and Brazil with \n",
       "22,296,081 and 15,145,879 confirmed cases respectively.\n",
       "<br/>\n",
       "\n",
       "From the pie chart, we can see that United States has a 20.73% cases of the entire world \n",
       "covid-19 cases. Following which is India and Brazil with 14.14% and \n",
       "9.6% respectively. This 10 countries have a total 64.32% of the entire world.\n",
       "\n",
       "<br/>\n",
       "Although we have this top ten countries with highest number of covid-19 cases, we have to factor in the population \n",
       "of the country which we will be taking a look next.\n"
      ],
      "text/plain": [
       "<IPython.core.display.Markdown object>"
      ]
     },
     "execution_count": 25,
     "metadata": {},
     "output_type": "execute_result"
    }
   ],
   "source": [
    "total_percent_for_top_ten=round(computeTotal(top_ten_highest_cases_countries,'percentage'),2)\n",
    "\n",
    "print(data_frame)\n",
    "displayPieChart([*top_ten_highest_cases_chart_data,{'label':\"Rest of the world\",'value':computeRemainingCases(top_ten_highest_cases_total)}],\"Top Ten Countries\")\n",
    "\n",
    "md(\"\"\"\n",
    "From the table above, we can see that {countries[0][key]} has the highest number of covid-19 cases in the whole world \n",
    "with {countries[0][cases]} confirmed cases. Following which is {countries[1][key]} and {countries[2][key]} with \n",
    "{countries[1][cases]} and {countries[2][cases]} confirmed cases respectively.\n",
    "<br/>\n",
    "\n",
    "From the pie chart, we can see that {countries[0][key]} has a {countries[0][percentage]}% cases of the entire world \n",
    "covid-19 cases. Following which is {countries[1][key]} and {countries[2][key]} with {countries[1][percentage]}% and \n",
    "{countries[2][percentage]}% respectively. This 10 countries have a total {percent}% of the entire world.\n",
    "\n",
    "<br/>\n",
    "Although we have this top ten countries with highest number of covid-19 cases, we have to factor in the population \n",
    "of the country which we will be taking a look next.\n",
    "\"\"\".format(countries=top_ten_highest_cases_countries,percent=total_percent_for_top_ten))"
   ]
  },
  {
   "cell_type": "markdown",
   "metadata": {},
   "source": [
    "## Top 10 country with highest infection rate\n",
    "\n",
    "In order to calculate the infection rate, we will use this formula.\n",
    "\n",
    "$$\\text{infection rate} = \\frac{\\text{number of cases}}{\\text{country population}}\\times100\\%$$"
   ]
  },
  {
   "cell_type": "code",
   "execution_count": 26,
   "metadata": {},
   "outputs": [
    {
     "name": "stdout",
     "output_type": "stream",
     "text": [
      "           Country  Infection Rate (%)\n",
      "1          Andorra            17.35068\n",
      "2       Montenegro            15.64129\n",
      "3   Czech Republic            15.35473\n",
      "4       San Marino            14.93017\n",
      "5         Slovenia            11.82304\n",
      "6          Bahrain            11.04295\n",
      "7       Luxembourg            10.88748\n",
      "8           Serbia            10.26539\n",
      "9           Sweden             9.97886\n",
      "10   United States             9.87495\n"
     ]
    },
    {
     "data": {
      "text/markdown": [
       "\n",
       "From the table above, we can see that Andorra has the highest rate of infection for covid-19 in the whole world \n",
       "with 17.35068%. Following which is Montenegro and Czech Republic with \n",
       "15.64129% and 15.35473% respectively. \n",
       "\n",
       "<br/>\n",
       "\n",
       "From this data, we can see that United States does not have the highest rate of infection for covid-19. \n",
       "This mean that if Andorra have the same population as United States, there will be 57,431,211\n",
       "confirmed cases as compared to 32,686,358 confirmed cases.\n",
       "\n",
       "<br/>\n",
       "\n",
       "This conclude that a higher infection rate would means that the country preventive measure are not that tight in certain points \n",
       "and population will play a big part in contributing this number.\n"
      ],
      "text/plain": [
       "<IPython.core.display.Markdown object>"
      ]
     },
     "execution_count": 26,
     "metadata": {},
     "output_type": "execute_result"
    }
   ],
   "source": [
    "print(high_infection_data_frame)\n",
    "\n",
    "total_case_with_top_country_population = int(np.ceil(top_ten_high_infection_rate_countries[0]['rate'] * colonStrNumberToNumber(top_ten_highest_cases_countries[0]['population']) / 100))\n",
    "\n",
    "md(\"\"\"\n",
    "From the table above, we can see that {countries[0][key]} has the highest rate of infection for covid-19 in the whole world \n",
    "with {countries[0][rate]}%. Following which is {countries[1][key]} and {countries[2][key]} with \n",
    "{countries[1][rate]}% and {countries[2][rate]}% respectively. \n",
    "\n",
    "<br/>\n",
    "\n",
    "From this data, we can see that {highest_cases_countries[0][key]} does not have the highest rate of infection for covid-19. \n",
    "This mean that if {countries[0][key]} have the same population as {highest_cases_countries[0][key]}, there will be {mock_cases}\n",
    "confirmed cases as compared to {highest_cases_countries[0][cases]} confirmed cases.\n",
    "\n",
    "<br/>\n",
    "\n",
    "This conclude that a higher infection rate would means that the country preventive measure are not that tight in certain points \n",
    "and population will play a big part in contributing this number.\n",
    "\"\"\".format(countries=top_ten_high_infection_rate_countries,highest_cases_countries=top_ten_highest_cases_countries,mock_cases=formatNumberWithColon(total_case_with_top_country_population) ))"
   ]
  },
  {
   "cell_type": "markdown",
   "metadata": {},
   "source": [
    "## Top 10 country with lowest number of cases"
   ]
  },
  {
   "cell_type": "code",
   "execution_count": 27,
   "metadata": {},
   "outputs": [
    {
     "name": "stdout",
     "output_type": "stream",
     "text": [
      "                            Country Total Cases\n",
      "1   Micronesia, Federated States of           1\n",
      "2                             Samoa           3\n",
      "3                           Vanuatu           4\n",
      "4                  Marshall Islands           4\n",
      "5                   Solomon Islands          20\n",
      "6     Holy See (Vatican City State)          27\n",
      "7             Saint Kitts and Nevis          45\n",
      "8                              Fiji         136\n",
      "9                           Grenada         160\n",
      "10                         Dominica         175\n"
     ]
    },
    {
     "data": {
      "text/markdown": [
       "\n",
       "From the table above, we can see that Micronesia, Federated States of has the lowest number of covid-19 cases in the whole world \n",
       "with 1 confirmed cases. Following which is Samoa and Vanuatu with \n",
       "3 and 4 confirmed cases respectively. This data doesn't account in population so we will\n",
       "take a look in the infection rate.\n"
      ],
      "text/plain": [
       "<IPython.core.display.Markdown object>"
      ]
     },
     "execution_count": 27,
     "metadata": {},
     "output_type": "execute_result"
    }
   ],
   "source": [
    "print(lowest_cases_data_frame)\n",
    "\n",
    "md(\"\"\"\n",
    "From the table above, we can see that {countries[0][key]} has the lowest number of covid-19 cases in the whole world \n",
    "with {countries[0][cases]} confirmed cases. Following which is {countries[1][key]} and {countries[2][key]} with \n",
    "{countries[1][cases]} and {countries[2][cases]} confirmed cases respectively. This data doesn't account in population so we will\n",
    "take a look in the infection rate.\n",
    "\"\"\".format(countries=top_ten_lowest_cases_countries))"
   ]
  },
  {
   "cell_type": "markdown",
   "metadata": {},
   "source": [
    "## Top 10 country with lowest infection rate"
   ]
  },
  {
   "cell_type": "code",
   "execution_count": 28,
   "metadata": {},
   "outputs": [
    {
     "name": "stdout",
     "output_type": "stream",
     "text": [
      "                            Country  Infection Rate (%)\n",
      "1      Tanzania, United Republic of             0.00085\n",
      "2   Micronesia, Federated States of             0.00087\n",
      "3                           Vanuatu             0.00130\n",
      "4                             Samoa             0.00151\n",
      "5                   Solomon Islands             0.00291\n",
      "6                          Viet Nam             0.00333\n",
      "7         Taiwan, Province of China             0.00497\n",
      "8                  Marshall Islands             0.00676\n",
      "9                             China             0.00713\n",
      "10                             Fiji             0.01517\n"
     ]
    },
    {
     "data": {
      "text/markdown": [
       "\n",
       "From the table above, we can see that Tanzania, United Republic of has the lowest rate of covid-19 infection in the whole world \n",
       "with 0.00085%. Following which is Micronesia, Federated States of and Vanuatu with \n",
       "0.00087% and 0.0013%. Big country like China have an infection rate of 0.00713% \n",
       "with a population of 1,439,323,774. This has shown that China have effective preventive measure in place\n",
       "which they are able to achieve such a low infection rate with that big population.\n"
      ],
      "text/plain": [
       "<IPython.core.display.Markdown object>"
      ]
     },
     "execution_count": 28,
     "metadata": {},
     "output_type": "execute_result"
    }
   ],
   "source": [
    "print(low_infection_data_frame)\n",
    "\n",
    "md(\"\"\"\n",
    "From the table above, we can see that {countries[0][key]} has the lowest rate of covid-19 infection in the whole world \n",
    "with {countries[0][rate]}%. Following which is {countries[1][key]} and {countries[2][key]} with \n",
    "{countries[1][rate]}% and {countries[2][rate]}%. Big country like China have an infection rate of {countries[8][rate]}% \n",
    "with a population of {countries[8][population]}. This has shown that China have effective preventive measure in place\n",
    "which they are able to achieve such a low infection rate with that big population.\n",
    "\"\"\".format(countries=top_ten_low_infection_rate_countries))"
   ]
  },
  {
   "cell_type": "markdown",
   "metadata": {},
   "source": [
    "## Singapore "
   ]
  },
  {
   "cell_type": "code",
   "execution_count": 29,
   "metadata": {},
   "outputs": [
    {
     "name": "stdout",
     "output_type": "stream",
     "text": [
      "         cases\n",
      "2020-01     13\n",
      "2020-02     89\n",
      "2020-03    824\n",
      "2020-04  15243\n",
      "2020-05  18715\n",
      "2020-06   9023\n",
      "2020-07   8298\n",
      "2020-08   4607\n",
      "2020-09    953\n",
      "2020-10    250\n",
      "2020-11    203\n",
      "2020-12    381\n",
      "2021-01    937\n",
      "2021-02    400\n",
      "2021-03    445\n",
      "2021-04    764\n",
      "2021-05    186\n"
     ]
    },
    {
     "data": {
      "image/png": "[encoded data removed]",
      "text/plain": [
       "<Figure size 432x288 with 1 Axes>"
      ]
     },
     "metadata": {
      "needs_background": "light"
     },
     "output_type": "display_data"
    },
    {
     "data": {
      "text/markdown": [
       "\n",
       "From the table above, we can see that during March 2020 there will 824 of confirmed cases as \n",
       "compared to February 2020. Singapore started the circuit breaker during head of April 2020 and the circuit breaker lasted\n",
       "until early June 2020. During this period, social gathering are not allowed, school and work were changed to home based if\n",
       "possible. We can see that there were a sharp increase of confirmed cases during April and May 2020 which have more than 10,000\n",
       "cases during the two months. Safe entry system and laws were in place during March 2020 (even up to now) and during \n",
       "the circuit breaker, there are very minimal interaction as most of the population in Singapore would stay at home to work/study.\n",
       "After the circuit breaker which is June 2020, we can see that the confirmed cases is going on a downward trend till now \n",
       "(most of the confirmed cases are imported cases).\n"
      ],
      "text/plain": [
       "<IPython.core.display.Markdown object>"
      ]
     },
     "execution_count": 29,
     "metadata": {},
     "output_type": "execute_result"
    }
   ],
   "source": [
    "singapore_data=data[\"SGP\"][\"data\"]\n",
    "singapore_monthly_cases = computeMonthlyCases(singapore_data)\n",
    "\n",
    "index=list(map(lambda monthly_data:monthly_data[0],singapore_monthly_cases))\n",
    "singapore_monthly_df=pd.DataFrame({\"cases\":list(map(lambda monthly_data:monthly_data[1],singapore_monthly_cases))},index=index)\n",
    "print(singapore_monthly_df)\n",
    "\n",
    "displayBarGraph(index,\"cases\",singapore_monthly_df,\"Month\",\"Cases\", \"Monthly Confirmed Cases\")\n",
    "\n",
    "md(\"\"\"\n",
    "From the table above, we can see that during March 2020 there will {singapore_monthly_cases[2][1]} of confirmed cases as \n",
    "compared to February 2020. Singapore started the circuit breaker during head of April 2020 and the circuit breaker lasted\n",
    "until early June 2020. During this period, social gathering are not allowed, school and work were changed to home based if\n",
    "possible. We can see that there were a sharp increase of confirmed cases during April and May 2020 which have more than 10,000\n",
    "cases during the two months. Safe entry system and laws were in place during March 2020 (even up to now) and during \n",
    "the circuit breaker, there are very minimal interaction as most of the population in Singapore would stay at home to work/study.\n",
    "After the circuit breaker which is June 2020, we can see that the confirmed cases is going on a downward trend till now \n",
    "(most of the confirmed cases are imported cases).\n",
    "\"\"\".format(singapore_monthly_cases=singapore_monthly_cases))"
   ]
  },
  {
   "cell_type": "code",
   "execution_count": 30,
   "metadata": {},
   "outputs": [
    {
     "data": {
      "text/markdown": [
       "\n",
       "The total cases as of 08 May 2021 are 61331. The current infection rate is 1.04833%\n",
       "which will keep increasing as long as there is 1 case in the world. We should all do our part and also never let our guard \n",
       "down even daily cases in Singapore is low. Stay safe.\n"
      ],
      "text/plain": [
       "<IPython.core.display.Markdown object>"
      ]
     },
     "execution_count": 30,
     "metadata": {},
     "output_type": "execute_result"
    }
   ],
   "source": [
    "singapore_infection_rate=getInfectionRateByCountry(\"SGP\",infection_rate_list)\n",
    "\n",
    "md(\"\"\"\n",
    "The total cases as of {latest_month} are {total_cases}. The current infection rate is {singapore_infection_rate[rate]}%\n",
    "which will keep increasing as long as there is 1 case in the world. We should all do our part and also never let our guard \n",
    "down even daily cases in Singapore is low. Stay safe.\n",
    "\"\"\".format(latest_month=convertToFormattedDate(singapore_data[-1]['date']),total_cases=computeTotal(singapore_monthly_cases,1)\n",
    "          , singapore_infection_rate=singapore_infection_rate, singapore_rank=getCountryRank('SGP')))\n",
    "\n"
   ]
  },
  {
   "cell_type": "markdown",
   "metadata": {},
   "source": [
    "Source: <br/>\n",
    "covid data: https://ourworldindata.org/coronavirus-source-data <br/>\n",
    "country json: https://gist.github.com/bensquire/1ba2037079b69e38bb0d6aea4c4a0229#file-countries-json"
   ]
  }
 ],
 "metadata": {
  "kernelspec": {
   "display_name": "Python 3",
   "language": "python",
   "name": "python3"
  },
  "language_info": {
   "codemirror_mode": {
    "name": "ipython",
    "version": 3
   },
   "file_extension": ".py",
   "mimetype": "text/x-python",
   "name": "python",
   "nbconvert_exporter": "python",
   "pygments_lexer": "ipython3",
   "version": "3.9.12"
  }
 },
 "nbformat": 4,
 "nbformat_minor": 4
}
